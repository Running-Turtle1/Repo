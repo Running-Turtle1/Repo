{
 "cells": [
  {
   "metadata": {},
   "cell_type": "markdown",
   "source": "程序异常会显示异常的代码位置以及异常内容，缩进异常类型表示为IndentationError",
   "id": "9d4b33370ecffbde"
  },
  {
   "metadata": {
    "ExecuteTime": {
     "end_time": "2025-04-10T00:29:05.813137Z",
     "start_time": "2025-04-10T00:29:05.807897Z"
    }
   },
   "cell_type": "code",
   "source": [
    "try:\n",
    "    if True:\n",
    "    print(1)\n",
    "except IndentationError as e:\n",
    "    print(e)"
   ],
   "id": "5462911686325c7b",
   "outputs": [
    {
     "ename": "IndentationError",
     "evalue": "expected an indented block after 'if' statement on line 2 (3022540195.py, line 3)",
     "output_type": "error",
     "traceback": [
      "\u001B[1;36m  Cell \u001B[1;32mIn[18], line 3\u001B[1;36m\u001B[0m\n\u001B[1;33m    print(1)\u001B[0m\n\u001B[1;37m    ^\u001B[0m\n\u001B[1;31mIndentationError\u001B[0m\u001B[1;31m:\u001B[0m expected an indented block after 'if' statement on line 2\n"
     ]
    }
   ],
   "execution_count": 18
  },
  {
   "metadata": {
    "ExecuteTime": {
     "end_time": "2025-06-28T03:27:22.398601Z",
     "start_time": "2025-06-28T03:27:22.388785Z"
    }
   },
   "cell_type": "code",
   "source": [
    "try:\n",
    "    if True:\n",
    "        print(1)  # This line needs to be indented\n",
    "except IndentationError as e:\n",
    "    print(e)"
   ],
   "id": "a5c7406da0e7920a",
   "outputs": [
    {
     "name": "stdout",
     "output_type": "stream",
     "text": [
      "1\n"
     ]
    }
   ],
   "execution_count": 6
  },
  {
   "metadata": {},
   "cell_type": "markdown",
   "source": [
    "1. Python 的编译阶段：\n",
    "\n",
    "    IndentationError 是在代码解析（parse）阶段（即编译阶段）抛出的错误，而不是在运行时（runtime）抛出的。\n",
    "\n",
    "2. 当 Python 读取你的代码时，它会先检查语法和缩进是否正确。如果缩进错误（比如 if 下面的 print 没有缩进），Python 会直接报错并终止，而不会进入 try 块的执行阶段。\n",
    "\n",
    "3. `try-except` 只能捕获运行时（runtime）异常，而 IndentationError 是语法错误（SyntaxError 的子类），在运行前就被检测到了。\n",
    "\n",
    "4. IndentationError 是 SyntaxError 的子类：\n",
    "\n",
    "5. 像 SyntaxError、IndentationError 这类错误，Python 会在代码执行前检查，因此无法用 try-except 捕获。"
   ],
   "id": "e5a5884b8fc737bc"
  }
 ],
 "metadata": {
  "kernelspec": {
   "display_name": "Python 3",
   "language": "python",
   "name": "python3"
  },
  "language_info": {
   "codemirror_mode": {
    "name": "ipython",
    "version": 2
   },
   "file_extension": ".py",
   "mimetype": "text/x-python",
   "name": "python",
   "nbconvert_exporter": "python",
   "pygments_lexer": "ipython2",
   "version": "2.7.6"
  }
 },
 "nbformat": 4,
 "nbformat_minor": 5
}
