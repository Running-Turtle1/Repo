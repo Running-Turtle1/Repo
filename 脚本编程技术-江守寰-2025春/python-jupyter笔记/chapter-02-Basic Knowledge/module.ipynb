{
 "cells": [
  {
   "metadata": {},
   "cell_type": "markdown",
   "source": [
    "# Module\n",
    "\n",
    "- Python中的模块的功能与函数相似,可以更好的组织代码,提高代码的利用率。\n",
    "- 模块是一种以\".py\"为后缀的文件,其中可以包含变量、函数等各种代码形式。导入模块后,就可以使\n",
    "用模块中的变量、函数等。\n",
    "## 模块分类\n",
    "\n",
    "Python中的模块分为3类：\n",
    "- 内置模块:\n",
    "Python的官方模块，可以直接导入程序\n",
    "- 第三方模块:\n",
    "非官方制作发布的模块，需要用户安装后才能使用\n",
    "- 自定义模块:\n",
    "用户自行编写的模块，对功能性代码块进行复用。\n"
   ],
   "id": "fe40bec4bd42c476"
  },
  {
   "metadata": {},
   "cell_type": "markdown",
   "source": [
    "## random 模块\n",
    "\n",
    "Python中的内置模块random，主要用于生成随机数。random模块中常用的函数如下表。\n",
    "\n",
    "random 是 [0, 1)\n",
    "\n",
    "<div style=\"text-align:center\"><img src='../../img/0x38.png'/></div>"
   ],
   "id": "737ad9f70f714965"
  },
  {
   "metadata": {
    "ExecuteTime": {
     "end_time": "2025-04-10T00:36:02.439428Z",
     "start_time": "2025-04-10T00:36:02.431139Z"
    }
   },
   "cell_type": "code",
   "source": [
    "import random                    #导入random模块\n",
    "num = random.random()    #使用random模块中的random()函数获取一个随机浮点数\n",
    "print(\"生成的随机数为：\",num)"
   ],
   "id": "e2f7fb0453830457",
   "execution_count": 1,
   "outputs": []
  },
  {
   "metadata": {
    "ExecuteTime": {
     "end_time": "2025-04-10T00:36:06.422254Z",
     "start_time": "2025-04-10T00:36:06.414935Z"
    }
   },
   "cell_type": "code",
   "source": [
    "import random as r          #修改random模块的名称为r\n",
    "num = r.random()             #调用random模块中的函数时，就要用它的别名r\n",
    "print(\"生成的随机数为：\",num)"
   ],
   "id": "1bd1e99c65b8522e",
   "execution_count": 2,
   "outputs": []
  },
  {
   "metadata": {
    "ExecuteTime": {
     "end_time": "2025-04-10T00:36:20.517740Z",
     "start_time": "2025-04-10T00:36:20.512690Z"
    }
   },
   "cell_type": "code",
   "source": [
    "from random import *    #导入random模块中的所有内容\n",
    "fnum = random()            #直接调用random()函数，无需加模块名\n",
    "inum = randint(1,10)\n",
    "print(\"生成浮点数为：\",fnum)\n",
    "print(\"生成1-10之间的整数为：\",inum)"
   ],
   "id": "b0a82741cf1d4a5b",
   "execution_count": 3,
   "outputs": []
  },
  {
   "metadata": {
    "ExecuteTime": {
     "end_time": "2025-04-10T00:36:27.071121Z",
     "start_time": "2025-04-10T00:36:27.064981Z"
    }
   },
   "cell_type": "code",
   "source": [
    "from random import random        #仅导入random()函数\n",
    "inum = randint(1,10)\t         #使用randint()函数\n",
    "print(\"生成的整数为：\",inum)"
   ],
   "id": "f0cee7d7cb5aed89",
   "execution_count": 4,
   "outputs": []
  }
 ],
 "metadata": {
  "kernelspec": {
   "display_name": "Python 3",
   "language": "python",
   "name": "python3"
  },
  "language_info": {
   "codemirror_mode": {
    "name": "ipython",
    "version": 2
   },
   "file_extension": ".py",
   "mimetype": "text/x-python",
   "name": "python",
   "nbconvert_exporter": "python",
   "pygments_lexer": "ipython2",
   "version": "2.7.6"
  }
 },
 "nbformat": 4,
 "nbformat_minor": 5
}
