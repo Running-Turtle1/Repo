{
 "cells": [
  {
   "metadata": {},
   "cell_type": "markdown",
   "source": [
    "- int\n",
    "    - 二进制   0b | 0B\n",
    "    - 八进制   0o | 0O\n",
    "    - 十六进制  0x | 0X  \n",
    "- float\n",
    "- complex\n",
    "- bool"
   ],
   "id": "fee504edb22167de"
  },
  {
   "metadata": {
    "ExecuteTime": {
     "end_time": "2025-06-28T03:40:45.159253Z",
     "start_time": "2025-06-28T03:40:45.150712Z"
    }
   },
   "cell_type": "code",
   "source": [
    "a = 16\n",
    "b = 0b10000\n",
    "c = 0o20\n",
    "d = 0x10\n",
    "a, b, c, d"
   ],
   "id": "36728c0b48480d0c",
   "execution_count": 1,
   "outputs": []
  },
  {
   "metadata": {
    "ExecuteTime": {
     "end_time": "2025-06-28T03:40:45.173899Z",
     "start_time": "2025-06-28T03:40:45.159253Z"
    }
   },
   "cell_type": "code",
   "source": [
    "a = 1.\n",
    "b = 1.2e-2\n",
    "c = 1.234e2\n",
    "a, b, c"
   ],
   "id": "4a12132d56bf519",
   "execution_count": 2,
   "outputs": []
  },
  {
   "metadata": {},
   "cell_type": "markdown",
   "source": "python 中浮点数的取值范围大约为 `-1.8e308~1.8e308`, 超出这个范围会被视为 $\\pm inf$",
   "id": "8a4f60ceb8f2f8a2"
  },
  {
   "metadata": {
    "ExecuteTime": {
     "end_time": "2025-06-28T03:40:47.410456Z",
     "start_time": "2025-06-28T03:40:47.400247Z"
    }
   },
   "cell_type": "code",
   "source": [
    "a = 1.4e1000\n",
    "b = -a\n",
    "a, b"
   ],
   "id": "bf1a7c9781413488",
   "execution_count": 3,
   "outputs": []
  },
  {
   "metadata": {},
   "cell_type": "markdown",
   "source": "`float` 最多输出 16 个数字, 当浮点数进行运算后, 最长可输出 17 个数字。然而, **计算机系统只能提供 15 个数字的准确性**。最后一位计算机系统根据二进制计算结果确定, 有一定误差。",
   "id": "b55a6ba9304ce821"
  },
  {
   "metadata": {
    "ExecuteTime": {
     "end_time": "2025-06-28T03:40:54.912167Z",
     "start_time": "2025-06-28T03:40:54.905547Z"
    }
   },
   "cell_type": "code",
   "source": [
    "import math\n",
    "math.pi, len(str(math.pi))-2, len(str(1.1))"
   ],
   "id": "54b1825721cda389",
   "execution_count": 4,
   "outputs": []
  },
  {
   "metadata": {},
   "cell_type": "markdown",
   "source": "complex type",
   "id": "b7705d740d68d0aa"
  },
  {
   "metadata": {
    "ExecuteTime": {
     "end_time": "2025-06-28T03:41:01.907751Z",
     "start_time": "2025-06-28T03:41:01.900488Z"
    }
   },
   "cell_type": "code",
   "source": [
    "a = 1.1 + 1.2j\n",
    "b = 1.2j\n",
    "(a + b), (a + b).real, (a + b).imag, (a + b) == complex(1.1, 2.4), 5 == complex(5)"
   ],
   "id": "b72f8e19520843e5",
   "execution_count": 6,
   "outputs": []
  },
  {
   "metadata": {},
   "cell_type": "markdown",
   "source": [
    "布尔型\n",
    "\n",
    "布尔型是一种特殊的整型, 主要用来表示真或假, 它只有 True 或 False 两种值, 分别对应 0 和 1\n",
    "\n",
    "在 python 中, 任何对象都有 bool 属性, 可以通过 `bool()` 或 `条件语句` 体现。默认情况下, 非空或非零为 True, 空值或零值为 False"
   ],
   "id": "1583af9c6d0033ab"
  },
  {
   "metadata": {
    "ExecuteTime": {
     "end_time": "2025-06-28T03:41:03.062126Z",
     "start_time": "2025-06-28T03:41:03.057373Z"
    }
   },
   "cell_type": "code",
   "source": [
    "a = 5\n",
    "b = []\n",
    "c = [1]\n",
    "bool(a), bool(b), bool(c)"
   ],
   "id": "5364e2e9e865abd2",
   "execution_count": 7,
   "outputs": []
  }
 ],
 "metadata": {
  "kernelspec": {
   "display_name": "Python 3",
   "language": "python",
   "name": "python3"
  },
  "language_info": {
   "codemirror_mode": {
    "name": "ipython",
    "version": 2
   },
   "file_extension": ".py",
   "mimetype": "text/x-python",
   "name": "python",
   "nbconvert_exporter": "python",
   "pygments_lexer": "ipython2",
   "version": "2.7.6"
  }
 },
 "nbformat": 4,
 "nbformat_minor": 5
}
