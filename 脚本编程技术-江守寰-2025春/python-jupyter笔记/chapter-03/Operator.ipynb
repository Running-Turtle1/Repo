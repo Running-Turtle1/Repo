{
 "cells": [
  {
   "metadata": {},
   "cell_type": "markdown",
   "source": [
    "可以分为 :\n",
    "- 算数运算符 : `+`, `-`, `*`, `/`, `%`, `**`, `//` \n",
    "- 赋值运算符"
   ],
   "id": "916eba3a83cbfff5"
  },
  {
   "metadata": {},
   "cell_type": "markdown",
   "source": [
    "数字运算符-赋值运算符\n",
    "\n",
    "`+=`, `-=`, `*=`, `/=`, `%=`, `**=`, `//=`, "
   ],
   "id": "e2b31717fde93e42"
  },
  {
   "metadata": {},
   "cell_type": "markdown",
   "source": "数字类型转换",
   "id": "33cd2f124fd4d46e"
  },
  {
   "metadata": {
    "ExecuteTime": {
     "end_time": "2025-03-20T01:36:27.874611Z",
     "start_time": "2025-03-20T01:36:27.864593Z"
    }
   },
   "cell_type": "code",
   "source": [
    "x = 10\n",
    "x, int(x), bin(x), oct(x), hex(x), float(x), str(x), complex(x, x), bool(x)"
   ],
   "id": "52dbd0a35fe628fe",
   "execution_count": 3,
   "outputs": []
  },
  {
   "metadata": {},
   "cell_type": "markdown",
   "source": [
    "Task1 - 积跬步\n",
    "\n",
    "计算 $(1+0.01)^{365}$ 和 $(1-0.01)^{365}$"
   ],
   "id": "c6819c8ca0411ec4"
  },
  {
   "metadata": {
    "ExecuteTime": {
     "end_time": "2025-03-20T01:38:58.575407Z",
     "start_time": "2025-03-20T01:38:58.561243Z"
    }
   },
   "cell_type": "code",
   "source": "pow(1 + 0.01, 365), pow(1 - 0.01, 365)",
   "id": "2683d19384e1cded",
   "execution_count": 4,
   "outputs": []
  }
 ],
 "metadata": {
  "kernelspec": {
   "display_name": "Python 3",
   "language": "python",
   "name": "python3"
  },
  "language_info": {
   "codemirror_mode": {
    "name": "ipython",
    "version": 2
   },
   "file_extension": ".py",
   "mimetype": "text/x-python",
   "name": "python",
   "nbconvert_exporter": "python",
   "pygments_lexer": "ipython2",
   "version": "2.7.6"
  }
 },
 "nbformat": 4,
 "nbformat_minor": 5
}
