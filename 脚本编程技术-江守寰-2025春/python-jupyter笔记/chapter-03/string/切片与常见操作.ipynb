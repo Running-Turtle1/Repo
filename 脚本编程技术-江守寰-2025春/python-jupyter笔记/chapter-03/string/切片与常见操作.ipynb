{
 "cells": [
  {
   "metadata": {},
   "cell_type": "markdown",
   "source": "索引",
   "id": "24b7b69cd757eb90"
  },
  {
   "metadata": {
    "ExecuteTime": {
     "end_time": "2025-06-28T03:30:20.774412Z",
     "start_time": "2025-06-28T03:30:20.762012Z"
    }
   },
   "cell_type": "code",
   "source": [
    "string = '123 123'\n",
    "string[1], string[-2], len(string)"
   ],
   "id": "70f80d98b545ca25",
   "execution_count": 1,
   "outputs": []
  },
  {
   "metadata": {},
   "cell_type": "markdown",
   "source": [
    "切片\n",
    "\n",
    "`sname[start : end : step]`"
   ],
   "id": "806cebe957d231b9"
  },
  {
   "metadata": {
    "ExecuteTime": {
     "end_time": "2025-06-28T03:30:30.996705Z",
     "start_time": "2025-06-28T03:30:30.987320Z"
    }
   },
   "cell_type": "code",
   "source": [
    "sname = \"We Love Python\"\n",
    "print(sname[:])\n",
    "print(sname[3:9]) # 默认 stride 是 1\n",
    "print(sname[3:])\n",
    "print(sname[::2])\n",
    "print(sname[:-4:])\n",
    "print(sname[-1:-7:-1])"
   ],
   "id": "e72667a5d55943d4",
   "execution_count": 2,
   "outputs": []
  },
  {
   "metadata": {},
   "cell_type": "markdown",
   "source": "拼接 and 重复",
   "id": "4a28251044083240"
  },
  {
   "metadata": {
    "ExecuteTime": {
     "end_time": "2025-06-28T03:31:39.512760Z",
     "start_time": "2025-06-28T03:31:39.506530Z"
    }
   },
   "cell_type": "code",
   "source": [
    "a = '1 + 1'\n",
    "b = ' = 2'\n",
    "a + b, (a + b + '; ') * 3"
   ],
   "id": "2420391fe5654ac3",
   "execution_count": 5,
   "outputs": []
  },
  {
   "metadata": {},
   "cell_type": "markdown",
   "source": "str",
   "id": "fd49257fd9985bc2"
  },
  {
   "metadata": {
    "ExecuteTime": {
     "end_time": "2025-06-28T03:31:46.955091Z",
     "start_time": "2025-06-28T03:31:46.946304Z"
    }
   },
   "cell_type": "code",
   "source": [
    "a = '123'\n",
    "print(\"处理后: \" + str(a))\n",
    "print(\"处理后: \" + repr(a))\n",
    "str(a), repr(a)"
   ],
   "id": "295e4231926515ba",
   "execution_count": 6,
   "outputs": []
  },
  {
   "metadata": {},
   "cell_type": "markdown",
   "source": "in and not in",
   "id": "799862fe3453b8b4"
  },
  {
   "metadata": {
    "ExecuteTime": {
     "end_time": "2025-06-28T03:34:11.262421Z",
     "start_time": "2025-06-28T03:34:11.251698Z"
    }
   },
   "cell_type": "code",
   "source": [
    "a = '123456'\n",
    "'123' in a, '124' not in a"
   ],
   "id": "f449409999a55b01",
   "execution_count": 7,
   "outputs": []
  },
  {
   "metadata": {},
   "cell_type": "markdown",
   "source": "大小写首字母",
   "id": "90bcb19c4c9c7f6b"
  },
  {
   "metadata": {
    "ExecuteTime": {
     "end_time": "2025-06-28T03:34:13.419735Z",
     "start_time": "2025-06-28T03:34:13.405087Z"
    }
   },
   "cell_type": "code",
   "source": [
    "a = \"my name is Diana, i am the intelligent AI created by wei\"\n",
    "a.title(), a.upper(), a.lower()"
   ],
   "id": "4182c1aaef3ad59a",
   "execution_count": 8,
   "outputs": []
  },
  {
   "metadata": {},
   "cell_type": "markdown",
   "source": [
    "判断字符内容\n",
    "\n",
    "- isupper / islower\n",
    "- isalpha : 全是字母或中文字\n",
    "- isnumeric : 数字\n",
    "- isspace : 空格\n"
   ],
   "id": "beaf65534c2ad845"
  },
  {
   "metadata": {
    "ExecuteTime": {
     "end_time": "2025-06-28T03:34:25.008430Z",
     "start_time": "2025-06-28T03:34:25.001995Z"
    }
   },
   "cell_type": "code",
   "source": "'a'.islower(),'A'.isupper(), '12'.isnumeric(), ' '.isspace(), 'abc好'.isalpha()",
   "id": "ff189a7397000d92",
   "execution_count": 9,
   "outputs": []
  },
  {
   "metadata": {},
   "cell_type": "markdown",
   "source": "`split` 分割 and `join` 连接可迭代对象",
   "id": "f24adf1a73c057f0"
  },
  {
   "metadata": {
    "ExecuteTime": {
     "end_time": "2025-06-28T03:35:12.174605Z",
     "start_time": "2025-06-28T03:35:12.167301Z"
    }
   },
   "cell_type": "code",
   "source": [
    "a = \"my name is Diana, i am the intelligent AI created by wei\"\n",
    "b = a.split(sep = ' ', maxsplit = -1) # maxsplit 最大分割次数\n",
    "b, ' '.join(b), '-'.join(b)"
   ],
   "id": "207baf756dfe5424",
   "execution_count": 13,
   "outputs": []
  },
  {
   "metadata": {},
   "cell_type": "markdown",
   "source": "检索子串",
   "id": "c8f995505f0c1e26"
  },
  {
   "metadata": {
    "ExecuteTime": {
     "end_time": "2025-06-28T03:36:01.564621Z",
     "start_time": "2025-06-28T03:36:01.553526Z"
    }
   },
   "cell_type": "code",
   "source": [
    "a = \"my name is Diana, i am the intelligent AI created by wei\"\n",
    "print(a.count('Diana', 0, len(a))) # 出现次数\n",
    "print(a.find('Diana'), a.find('monster')) # 找不到返回 -1\n",
    "print(a.index('Diana')) # 找不到报错\n",
    "a.startswith('my name is Diana'), a.endswith('created by wei')"
   ],
   "id": "25bf4e46505d0619",
   "execution_count": 16,
   "outputs": []
  },
  {
   "metadata": {},
   "cell_type": "markdown",
   "source": "replace 替换",
   "id": "920d2717adc808f5"
  },
  {
   "metadata": {
    "ExecuteTime": {
     "end_time": "2025-06-28T03:36:21.239194Z",
     "start_time": "2025-06-28T03:36:21.231025Z"
    }
   },
   "cell_type": "code",
   "source": [
    "a = '花开花落'\n",
    "a.replace('花', '草')"
   ],
   "id": "2877d881940241aa",
   "execution_count": 17,
   "outputs": []
  },
  {
   "metadata": {},
   "cell_type": "markdown",
   "source": "strip 就是从两端去掉所有 $c_i \\in parameters:str$ 的字符直到终止",
   "id": "b88aeaf9ffecba1c"
  },
  {
   "metadata": {
    "ExecuteTime": {
     "end_time": "2025-06-28T03:36:28.229595Z",
     "start_time": "2025-06-28T03:36:28.223855Z"
    }
   },
   "cell_type": "code",
   "source": [
    "s = '###1@@@1231'\n",
    "s.strip('#@1'), s.lstrip('#@'), s.rstrip('123@')"
   ],
   "id": "dc2de28b8bc57e00",
   "execution_count": 18,
   "outputs": []
  }
 ],
 "metadata": {
  "kernelspec": {
   "display_name": "Python 3",
   "language": "python",
   "name": "python3"
  },
  "language_info": {
   "codemirror_mode": {
    "name": "ipython",
    "version": 2
   },
   "file_extension": ".py",
   "mimetype": "text/x-python",
   "name": "python",
   "nbconvert_exporter": "python",
   "pygments_lexer": "ipython2",
   "version": "2.7.6"
  }
 },
 "nbformat": 4,
 "nbformat_minor": 5
}
