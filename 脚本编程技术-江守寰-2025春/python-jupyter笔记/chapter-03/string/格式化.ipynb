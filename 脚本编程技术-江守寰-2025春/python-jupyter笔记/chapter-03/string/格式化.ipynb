{
 "cells": [
  {
   "cell_type": "markdown",
   "id": "cb117ccada3b48eb",
   "metadata": {},
   "source": [
    "多行字符串"
   ]
  },
  {
   "cell_type": "code",
   "id": "7cd51574fc347853",
   "metadata": {
    "ExecuteTime": {
     "end_time": "2025-06-28T03:37:21.243977Z",
     "start_time": "2025-06-28T03:37:21.227716Z"
    }
   },
   "source": [
    "a = \"\"\"123\n",
    "456\n",
    "123124124124\"\"\"\n",
    "print(a)\n",
    "a"
   ],
   "execution_count": 1,
   "outputs": []
  },
  {
   "cell_type": "markdown",
   "id": "57cba0125d2b8524",
   "metadata": {},
   "source": [
    "字符串格式化 - `format()`\n",
    "\n",
    "可以通过 padding 控制对齐和宽度, 语法 : {:[填充字符][对齐方式][宽度]}\n",
    "\n",
    "也可以控制精度或数字格式"
   ]
  },
  {
   "cell_type": "code",
   "id": "3e5c4b679555d3c3",
   "metadata": {
    "ExecuteTime": {
     "end_time": "2025-06-28T03:37:27.848505Z",
     "start_time": "2025-06-28T03:37:27.833836Z"
    }
   },
   "source": [
    "template = '{}岁的{}正在{}'\n",
    "template.format(18, '小明', '吃饭')"
   ],
   "execution_count": 2,
   "outputs": []
  },
  {
   "cell_type": "code",
   "id": "bc8a965a466effbb",
   "metadata": {
    "ExecuteTime": {
     "end_time": "2025-06-28T03:37:30.891057Z",
     "start_time": "2025-06-28T03:37:30.883893Z"
    }
   },
   "source": [
    "text = \"hello\"\n",
    "print(\"{:10}\".format(text)) # 默认左对齐, 填充空格\n",
    "print(\"{:>10}\".format(text)) # 右对齐, 填充空格\n",
    "print(\"{:^10}\".format(text)) # 居中对齐, 填充空格\n",
    "print(\"{:*^10}\".format(text)) # 居中对齐, 填充 *"
   ],
   "execution_count": 3,
   "outputs": []
  },
  {
   "cell_type": "code",
   "id": "96cce3e0afa9c932",
   "metadata": {
    "ExecuteTime": {
     "end_time": "2025-06-28T03:37:55.458868Z",
     "start_time": "2025-06-28T03:37:55.452182Z"
    }
   },
   "source": [
    "print('{:*^5d}'.format(12))\n",
    "print('{:-^10.2f}'.format(12.345))"
   ],
   "execution_count": 4,
   "outputs": []
  },
  {
   "cell_type": "markdown",
   "id": "2e764165d2cc191",
   "metadata": {},
   "source": [
    "或者用 f 字符串 format"
   ]
  },
  {
   "cell_type": "code",
   "id": "f53b02d7586af309",
   "metadata": {
    "ExecuteTime": {
     "end_time": "2025-06-28T03:38:36.610396Z",
     "start_time": "2025-06-28T03:38:36.599289Z"
    }
   },
   "source": [
    "drink = '牛奶'\n",
    "sales = 12312412.1231\n",
    "f_milk = f'商品{drink:*^10},销售额为{sales:*^20.2f}'\n",
    "f_milk_dot_ = f'商品{drink:*^10},销售额为{sales:*^20.2f}' # , 是千位分隔符\n",
    "f_milk_dot = f'商品{drink:*^10},销售额为{sales:*^20,.2f}' # , 是千位分隔符\n",
    "print(f_milk)\n",
    "print(f_milk_dot_)\n",
    "print(f_milk_dot)\n",
    "f'{123414.1242:->20,.5f}'"
   ],
   "execution_count": 7,
   "outputs": []
  }
 ],
 "metadata": {
  "kernelspec": {
   "display_name": "Python 3 (ipykernel)",
   "language": "python",
   "name": "python3"
  },
  "language_info": {
   "codemirror_mode": {
    "name": "ipython",
    "version": 3
   },
   "file_extension": ".py",
   "mimetype": "text/x-python",
   "name": "python",
   "nbconvert_exporter": "python",
   "pygments_lexer": "ipython3",
   "version": "3.12.9"
  }
 },
 "nbformat": 4,
 "nbformat_minor": 5
}
