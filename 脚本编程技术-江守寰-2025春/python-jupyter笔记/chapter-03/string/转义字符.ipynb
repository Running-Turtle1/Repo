{
 "cells": [
  {
   "metadata": {},
   "cell_type": "markdown",
   "source": [
    "\n",
    "| 转义字符     | 说明    |\n",
    "| -------- |-------|\n",
    "| \\\\(在行尾时) | 续行符   |\n",
    "| \\' \\''   | 单/双引号 |\n",
    "| \\n       | 换行    |\n",
    "| \\t       | 横向制表  |\n",
    "| \\b       | 退格    |\n",
    "| \\r       | 退格    |\n",
    "| \\f       | 换页    |\n",
    "| \\a       | 响铃    |\n"
   ],
   "id": "90a48c79d74c7caf"
  },
  {
   "metadata": {
    "ExecuteTime": {
     "end_time": "2025-06-28T03:39:20.291606Z",
     "start_time": "2025-06-28T03:39:20.281548Z"
    }
   },
   "cell_type": "code",
   "source": [
    "a = \"123\n",
    "           3454\""
   ],
   "id": "fe8ab669f67c5122",
   "execution_count": 1,
   "outputs": []
  },
  {
   "metadata": {
    "ExecuteTime": {
     "end_time": "2025-06-28T03:39:23.742399Z",
     "start_time": "2025-06-28T03:39:23.725824Z"
    }
   },
   "cell_type": "code",
   "source": [
    "a = \"123\\\n",
    "           3454\"\n",
    "a "
   ],
   "id": "27ea606b3f26ca40",
   "execution_count": 2,
   "outputs": []
  },
  {
   "metadata": {
    "ExecuteTime": {
     "end_time": "2025-06-28T03:39:31.015169Z",
     "start_time": "2025-06-28T03:39:31.007936Z"
    }
   },
   "cell_type": "code",
   "source": [
    "a = \"'\"\n",
    "b = \"\\'\"\n",
    "c = '\"'\n",
    "d = '\\\"'\n",
    "a, b, c, d, a == b, c == d"
   ],
   "id": "58d84c53f68b1000",
   "execution_count": 3,
   "outputs": []
  },
  {
   "metadata": {
    "ExecuteTime": {
     "end_time": "2025-06-28T03:39:55.392279Z",
     "start_time": "2025-06-28T03:39:55.382196Z"
    }
   },
   "cell_type": "code",
   "source": [
    "a = '\\' \"'\n",
    "b = \"' \\\"\"\n",
    "print(a), a, a == b"
   ],
   "id": "f7a9920ad7ee89e4",
   "execution_count": 4,
   "outputs": []
  },
  {
   "metadata": {},
   "cell_type": "markdown",
   "source": "加 `r` 忽略转义字符",
   "id": "bb0ef0012fd8b82b"
  },
  {
   "metadata": {
    "ExecuteTime": {
     "end_time": "2025-06-28T03:40:12.779239Z",
     "start_time": "2025-06-28T03:40:12.769056Z"
    }
   },
   "cell_type": "code",
   "source": [
    "a = r'\\t \\n \\r \\' \\\" \\a'\n",
    "print(a)\n",
    "a"
   ],
   "id": "2abe37890e6d5e2a",
   "execution_count": 5,
   "outputs": []
  }
 ],
 "metadata": {
  "kernelspec": {
   "display_name": "Python 3",
   "language": "python",
   "name": "python3"
  },
  "language_info": {
   "codemirror_mode": {
    "name": "ipython",
    "version": 2
   },
   "file_extension": ".py",
   "mimetype": "text/x-python",
   "name": "python",
   "nbconvert_exporter": "python",
   "pygments_lexer": "ipython2",
   "version": "2.7.6"
  }
 },
 "nbformat": 4,
 "nbformat_minor": 5
}
