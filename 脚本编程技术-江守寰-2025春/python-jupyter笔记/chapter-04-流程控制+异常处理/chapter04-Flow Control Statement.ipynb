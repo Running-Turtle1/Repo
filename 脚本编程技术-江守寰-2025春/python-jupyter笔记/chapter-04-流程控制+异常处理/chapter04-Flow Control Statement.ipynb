{
 "cells": [
  {
   "metadata": {},
   "cell_type": "markdown",
   "source": [
    "# Chapter 04 - FLow Control Statement\n",
    "- 程序表示方法\n",
    "- 条件语句\n",
    "- 实战 4\n",
    "- 循环语句\n",
    "- 实战 5\n",
    "- 异常处理 "
   ],
   "id": "3605fd894346af7"
  },
  {
   "metadata": {
    "ExecuteTime": {
     "end_time": "2025-06-28T03:43:03.110275Z",
     "start_time": "2025-06-28T03:42:54.204396Z"
    }
   },
   "cell_type": "code",
   "source": [
    "username = input(\"请输入您的账号：\")\n",
    "password = input(\"请输入您的密码：\")\n",
    "print(\"账号密码是否正确：\",username == \"zhangsan\" and password == \"123\")"
   ],
   "id": "bcefba6cdc4a4f26",
   "outputs": [
    {
     "name": "stdout",
     "output_type": "stream",
     "text": [
      "账号密码是否正确： True\n"
     ]
    }
   ],
   "execution_count": 1
  },
  {
   "metadata": {
    "ExecuteTime": {
     "end_time": "2025-06-28T03:43:06.484420Z",
     "start_time": "2025-06-28T03:43:06.477314Z"
    }
   },
   "cell_type": "code",
   "source": [
    "i, sum = 1, 1\n",
    "while i < 100:\n",
    "    i += 1\n",
    "    sum *= i\n",
    "print(\"prod from 1 to 100 = :\", sum)"
   ],
   "id": "f582e8b198c4e267",
   "outputs": [
    {
     "name": "stdout",
     "output_type": "stream",
     "text": [
      "prod from 1 to 100 = : 93326215443944152681699238856266700490715968264381621468592963895217599993229915608941463976156518286253697920827223758251185210916864000000000000000000000000\n"
     ]
    }
   ],
   "execution_count": 2
  },
  {
   "metadata": {},
   "cell_type": "markdown",
   "source": "没啥可写的",
   "id": "41b531df1b803464"
  }
 ],
 "metadata": {
  "kernelspec": {
   "display_name": "Python 3",
   "language": "python",
   "name": "python3"
  },
  "language_info": {
   "codemirror_mode": {
    "name": "ipython",
    "version": 2
   },
   "file_extension": ".py",
   "mimetype": "text/x-python",
   "name": "python",
   "nbconvert_exporter": "python",
   "pygments_lexer": "ipython2",
   "version": "2.7.6"
  }
 },
 "nbformat": 4,
 "nbformat_minor": 5
}
