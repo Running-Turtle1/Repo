{
 "cells": [
  {
   "metadata": {},
   "cell_type": "markdown",
   "source": "![](../../img/0x37.png)",
   "id": "a951be8c55da1886"
  },
  {
   "metadata": {},
   "cell_type": "markdown",
   "source": "除法运算中，当除数为0时，会发生异常ZeroDivisionError\n",
   "id": "767c58ce370da75f"
  },
  {
   "metadata": {
    "ExecuteTime": {
     "end_time": "2025-04-10T00:19:44.142386Z",
     "start_time": "2025-04-10T00:19:41.284003Z"
    }
   },
   "cell_type": "code",
   "source": [
    "number1 = float(input(\"请输入被除数\"))\n",
    "number2 = float(input(\"请输入除数\"))\n",
    "result = number1 / number2\n",
    "print(f\"计算结果为{result:.2f}\")"
   ],
   "id": "c358a33254d27b47",
   "outputs": [
    {
     "ename": "ZeroDivisionError",
     "evalue": "float division by zero",
     "output_type": "error",
     "traceback": [
      "\u001B[1;31m---------------------------------------------------------------------------\u001B[0m",
      "\u001B[1;31mZeroDivisionError\u001B[0m                         Traceback (most recent call last)",
      "Cell \u001B[1;32mIn[1], line 3\u001B[0m\n\u001B[0;32m      1\u001B[0m number1 \u001B[38;5;241m=\u001B[39m \u001B[38;5;28mfloat\u001B[39m(\u001B[38;5;28minput\u001B[39m(\u001B[38;5;124m\"\u001B[39m\u001B[38;5;124m请输入被除数\u001B[39m\u001B[38;5;124m\"\u001B[39m))\n\u001B[0;32m      2\u001B[0m number2 \u001B[38;5;241m=\u001B[39m \u001B[38;5;28mfloat\u001B[39m(\u001B[38;5;28minput\u001B[39m(\u001B[38;5;124m\"\u001B[39m\u001B[38;5;124m请输入除数\u001B[39m\u001B[38;5;124m\"\u001B[39m))\n\u001B[1;32m----> 3\u001B[0m result \u001B[38;5;241m=\u001B[39m number1 \u001B[38;5;241m/\u001B[39m number2\n\u001B[0;32m      4\u001B[0m \u001B[38;5;28mprint\u001B[39m(\u001B[38;5;124mf\u001B[39m\u001B[38;5;124m\"\u001B[39m\u001B[38;5;124m计算结果为\u001B[39m\u001B[38;5;132;01m{\u001B[39;00mresult\u001B[38;5;132;01m:\u001B[39;00m\u001B[38;5;124m.2f\u001B[39m\u001B[38;5;132;01m}\u001B[39;00m\u001B[38;5;124m\"\u001B[39m)\n",
      "\u001B[1;31mZeroDivisionError\u001B[0m: float division by zero"
     ]
    }
   ],
   "execution_count": 1
  },
  {
   "metadata": {
    "ExecuteTime": {
     "end_time": "2025-04-10T00:20:16.172498Z",
     "start_time": "2025-04-10T00:20:13.741287Z"
    }
   },
   "cell_type": "code",
   "source": [
    "try:\n",
    "    number1 = float(input(\"请输入被除数\"))\n",
    "    number2 = float(input(\"请输入除数\"))\n",
    "    result = number1 / number2\n",
    "    print(f\"计算结果为{result:.2f}\")\n",
    "except ZeroDivisionError as e:\n",
    "    print(\"除数不能为0\")\n",
    "    print(\"异常信息：\",e)"
   ],
   "id": "dcaf312168ca2a0b",
   "outputs": [
    {
     "name": "stdout",
     "output_type": "stream",
     "text": [
      "除数不能为0\n",
      "异常信息： float division by zero\n"
     ]
    }
   ],
   "execution_count": 2
  },
  {
   "metadata": {},
   "cell_type": "markdown",
   "source": [
    "try...except支持多个except语句，用于处理多种异常\n",
    "\n",
    "```txt\n",
    "try:\n",
    "    语句块1\n",
    "except 异常类型1:\n",
    "    语句块2\n",
    "except 异常类型2:\n",
    "    语句块3\n",
    "...\n",
    "```\n"
   ],
   "id": "a3348bb027db74"
  },
  {
   "metadata": {
    "ExecuteTime": {
     "end_time": "2025-06-28T03:43:33.082420Z",
     "start_time": "2025-06-28T03:43:30.620042Z"
    }
   },
   "cell_type": "code",
   "source": [
    "try:\n",
    "    number1 = float(input(\"请输入被除数\"))\n",
    "    number2 = float(input(\"请输入除数\"))\n",
    "    result = number1 / number2\n",
    "    print(f\"计算结果为{result:.2f}\")\n",
    "except ZeroDivisionError:\n",
    "    print(\"除数不能为0\")\n",
    "except ValueError:\n",
    "    print(\"输入内容必须为数值\")"
   ],
   "id": "2078c67aba0b29de",
   "outputs": [
    {
     "name": "stdout",
     "output_type": "stream",
     "text": [
      "输入内容必须为数值\n"
     ]
    }
   ],
   "execution_count": 2
  },
  {
   "metadata": {},
   "cell_type": "markdown",
   "source": [
    "try...except...else语句用于处理未捕捉到异常的情形，else后的语句块可以看作对try语句块**正常**执行后的一种追加处理。\n",
    "\n",
    "```txt\n",
    "try:\n",
    "    语句块1\n",
    "except 异常类型:\n",
    "    语句块2\n",
    "else:\n",
    "    语句块3\n",
    "```\n",
    "\n",
    "如果try出现异常，则执行except语句块，否则执行else语句块。\n"
   ],
   "id": "93a204f74fbf38e"
  },
  {
   "metadata": {},
   "cell_type": "markdown",
   "source": [
    "在try...except...finally语句中，无论try语句块中的代码是否异常，finally中的语句块都会执行。\n",
    "\n",
    "```txt\n",
    "try:\n",
    "    语句块1\n",
    "except 异常类型:\n",
    "    语句块2\n",
    "finally:\n",
    "    语句块3\n",
    "```"
   ],
   "id": "10df24ba4f1d91e5"
  }
 ],
 "metadata": {
  "kernelspec": {
   "display_name": "Python 3",
   "language": "python",
   "name": "python3"
  },
  "language_info": {
   "codemirror_mode": {
    "name": "ipython",
    "version": 2
   },
   "file_extension": ".py",
   "mimetype": "text/x-python",
   "name": "python",
   "nbconvert_exporter": "python",
   "pygments_lexer": "ipython2",
   "version": "2.7.6"
  }
 },
 "nbformat": 4,
 "nbformat_minor": 5
}
