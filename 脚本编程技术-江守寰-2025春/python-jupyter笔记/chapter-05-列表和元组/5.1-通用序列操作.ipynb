{
 "cells": [
  {
   "metadata": {},
   "cell_type": "markdown",
   "source": "operator '+'",
   "id": "90e29c41ef53ffbf"
  },
  {
   "metadata": {
    "ExecuteTime": {
     "end_time": "2025-06-28T03:43:44.287009Z",
     "start_time": "2025-06-28T03:43:44.268705Z"
    }
   },
   "cell_type": "code",
   "source": [
    "list1 = [1, 2, 'a', 'ab']\n",
    "list2 = [-1, 1.0, [1, 2]]\n",
    "list1 + list2"
   ],
   "id": "300ebc03e532cae3",
   "outputs": [
    {
     "data": {
      "text/plain": [
       "[1, 2, 'a', 'ab', -1, 1.0, [1, 2]]"
      ]
     },
     "execution_count": 1,
     "metadata": {},
     "output_type": "execute_result"
    }
   ],
   "execution_count": 1
  },
  {
   "metadata": {},
   "cell_type": "markdown",
   "source": "operator '*'",
   "id": "118751836e3d004c"
  },
  {
   "metadata": {
    "ExecuteTime": {
     "end_time": "2025-06-28T03:43:50.512751Z",
     "start_time": "2025-06-28T03:43:50.501758Z"
    }
   },
   "cell_type": "code",
   "source": [
    "a = [1, 2, [1, 2]]\n",
    "b = '1234'\n",
    "a * 3, b * 3"
   ],
   "id": "baef40649512b5fc",
   "outputs": [
    {
     "data": {
      "text/plain": [
       "([1, 2, [1, 2], 1, 2, [1, 2], 1, 2, [1, 2]], '123412341234')"
      ]
     },
     "execution_count": 2,
     "metadata": {},
     "output_type": "execute_result"
    }
   ],
   "execution_count": 2
  },
  {
   "metadata": {},
   "cell_type": "markdown",
   "source": "in & not in",
   "id": "7d968df6bc42492e"
  },
  {
   "metadata": {
    "ExecuteTime": {
     "end_time": "2025-06-28T03:43:53.499483Z",
     "start_time": "2025-06-28T03:43:53.491677Z"
    }
   },
   "cell_type": "code",
   "source": [
    "a = [1, 2, [1, 2]]\n",
    "[1, 2] in a, 'a' not in a"
   ],
   "id": "320d41194e9de16f",
   "outputs": [
    {
     "data": {
      "text/plain": [
       "(True, True)"
      ]
     },
     "execution_count": 3,
     "metadata": {},
     "output_type": "execute_result"
    }
   ],
   "execution_count": 3
  },
  {
   "metadata": {},
   "cell_type": "markdown",
   "source": "len()",
   "id": "ebc20843fe27634f"
  },
  {
   "metadata": {
    "ExecuteTime": {
     "end_time": "2025-06-28T03:43:55.859592Z",
     "start_time": "2025-06-28T03:43:55.851452Z"
    }
   },
   "cell_type": "code",
   "source": [
    "b = [[1, 2], [3, 4]]\n",
    "len(b * 5)"
   ],
   "id": "215a372c8078dc6c",
   "outputs": [
    {
     "data": {
      "text/plain": [
       "10"
      ]
     },
     "execution_count": 4,
     "metadata": {},
     "output_type": "execute_result"
    }
   ],
   "execution_count": 4
  },
  {
   "metadata": {},
   "cell_type": "markdown",
   "source": [
    "`chr()` and `ord()`\n",
    "\n",
    "chr -> character\n",
    "\n",
    "ord -> ordinal"
   ],
   "id": "3eac51cec587714e"
  },
  {
   "metadata": {
    "ExecuteTime": {
     "end_time": "2025-06-28T03:43:59.940479Z",
     "start_time": "2025-06-28T03:43:59.933394Z"
    }
   },
   "cell_type": "code",
   "source": "chr(97), ord('a'), chr(97) == 'a', ord('a') == 97",
   "id": "15b93dde7c5d6b58",
   "outputs": [
    {
     "data": {
      "text/plain": [
       "('a', 97, True, True)"
      ]
     },
     "execution_count": 5,
     "metadata": {},
     "output_type": "execute_result"
    }
   ],
   "execution_count": 5
  },
  {
   "metadata": {},
   "cell_type": "markdown",
   "source": "min & max",
   "id": "184d79e7d7280f36"
  },
  {
   "metadata": {
    "ExecuteTime": {
     "end_time": "2025-04-03T00:28:44.975903Z",
     "start_time": "2025-04-03T00:28:44.967851Z"
    }
   },
   "cell_type": "code",
   "source": [
    "a = [2, 4, 7, 1, -1, 7, 7]\n",
    "min(a), max(a), a.index(7), a.count(7)"
   ],
   "id": "4ee997b727f1fe53",
   "outputs": [
    {
     "data": {
      "text/plain": [
       "(-1, 7, 2, 3)"
      ]
     },
     "execution_count": 5,
     "metadata": {},
     "output_type": "execute_result"
    }
   ],
   "execution_count": 5
  }
 ],
 "metadata": {
  "kernelspec": {
   "display_name": "Python 3",
   "language": "python",
   "name": "python3"
  },
  "language_info": {
   "codemirror_mode": {
    "name": "ipython",
    "version": 2
   },
   "file_extension": ".py",
   "mimetype": "text/x-python",
   "name": "python",
   "nbconvert_exporter": "python",
   "pygments_lexer": "ipython2",
   "version": "2.7.6"
  }
 },
 "nbformat": 4,
 "nbformat_minor": 5
}
