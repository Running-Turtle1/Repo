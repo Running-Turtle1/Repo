{
 "cells": [
  {
   "metadata": {},
   "cell_type": "markdown",
   "source": "## 列表创建",
   "id": "861db048814f1ef3"
  },
  {
   "metadata": {
    "ExecuteTime": {
     "end_time": "2025-04-03T00:29:55.902462Z",
     "start_time": "2025-04-03T00:29:55.878551Z"
    }
   },
   "cell_type": "code",
   "source": [
    "list1 = [1, 3, 4, 5]\n",
    "list2 = ['123', ['12'], [123, 123, 'x']]\n",
    "list1, list2"
   ],
   "id": "cceb10ae41d4efb6",
   "outputs": [
    {
     "data": {
      "text/plain": [
       "([1, 3, 4, 5], ['123', ['12'], [123, 123, 'x']])"
      ]
     },
     "execution_count": 2,
     "metadata": {},
     "output_type": "execute_result"
    }
   ],
   "execution_count": 2
  },
  {
   "metadata": {
    "ExecuteTime": {
     "end_time": "2025-04-03T00:33:05.639574Z",
     "start_time": "2025-04-03T00:33:05.632930Z"
    }
   },
   "cell_type": "code",
   "source": [
    "lis1 = list() # 空列表\n",
    "lis2 = list('123123') # 字符串转换\n",
    "lis3 = list((1, 2, 3, 4, 5, 6)) # 元组转换\n",
    "lis4 = list(range(1, 6, 2))\n",
    "# for i in range(1, 5):\n",
    "#     print(f'lis{i}')\n",
    "lis1, lis2, lis3, lis4"
   ],
   "id": "3e9d8f3a1f5516bb",
   "outputs": [
    {
     "data": {
      "text/plain": [
       "([], ['1', '2', '3', '1', '2', '3'], [1, 2, 3, 4, 5, 6], [1, 3, 5])"
      ]
     },
     "execution_count": 17,
     "metadata": {},
     "output_type": "execute_result"
    }
   ],
   "execution_count": 17
  },
  {
   "metadata": {},
   "cell_type": "markdown",
   "source": "## 列表遍历",
   "id": "f3e9bc3a4b8fa1b"
  },
  {
   "metadata": {
    "ExecuteTime": {
     "end_time": "2025-04-03T00:50:47.458330Z",
     "start_time": "2025-04-03T00:50:47.452756Z"
    }
   },
   "cell_type": "code",
   "source": [
    "fruits = ['f1', 'f2', 'f3']\n",
    "for fruit in fruits:\n",
    "    print(fruit)"
   ],
   "id": "d639e89824ac2677",
   "outputs": [
    {
     "name": "stdout",
     "output_type": "stream",
     "text": [
      "f1\n",
      "f2\n",
      "f3\n"
     ]
    }
   ],
   "execution_count": 1
  },
  {
   "metadata": {
    "ExecuteTime": {
     "end_time": "2025-04-03T00:34:12.611083Z",
     "start_time": "2025-04-03T00:34:12.606197Z"
    }
   },
   "cell_type": "code",
   "source": [
    "for i in range(len(fruits)):\n",
    "    print(fruits[i])"
   ],
   "id": "c6d45c448ab4308",
   "outputs": [
    {
     "name": "stdout",
     "output_type": "stream",
     "text": [
      "f1\n",
      "f2\n",
      "f3\n"
     ]
    }
   ],
   "execution_count": 19
  },
  {
   "metadata": {},
   "cell_type": "markdown",
   "source": "`enumerate()` 函数用于将一个可遍历的数据对象组合为一个索引数列m 同时输出索引值和元素内容, 一般和 for 循环一起使用 ",
   "id": "55990879c8687b6c"
  },
  {
   "metadata": {
    "ExecuteTime": {
     "end_time": "2025-04-03T00:36:18.971778Z",
     "start_time": "2025-04-03T00:36:18.964710Z"
    }
   },
   "cell_type": "code",
   "source": [
    "for index, item in enumerate(fruits):\n",
    "    print(f'f[{index}] = {item}')"
   ],
   "id": "c55b34d1127113fe",
   "outputs": [
    {
     "name": "stdout",
     "output_type": "stream",
     "text": [
      "f[0] = f1\n",
      "f[1] = f2\n",
      "f[2] = f3\n"
     ]
    }
   ],
   "execution_count": 23
  },
  {
   "metadata": {},
   "cell_type": "markdown",
   "source": "## 添加、修改和删除元素",
   "id": "83dd216729f4cf88"
  },
  {
   "metadata": {},
   "cell_type": "markdown",
   "source": "添加元素",
   "id": "84ebcb5dc295fe44"
  },
  {
   "metadata": {
    "ExecuteTime": {
     "end_time": "2025-04-03T00:38:57.625675Z",
     "start_time": "2025-04-03T00:38:57.617223Z"
    }
   },
   "cell_type": "code",
   "source": [
    "nums = [1, 2, 3, 4, 5]\n",
    "nums.append(6)\n",
    "print(nums)\n",
    "extends = [7, 8, 9]\n",
    "nums.append(extends) # append 只能添加一个元素\n",
    "print(nums)\n",
    "nums.extend(extends) # extend 用于添加一个 list 的所有元素\n",
    "print(nums)\n",
    "nums.insert(3, 10) # 让位置 i 插入 x, 即第 i-1 位置后插入一个数\n",
    "print(nums)"
   ],
   "id": "d51c1c61812e726f",
   "outputs": [
    {
     "name": "stdout",
     "output_type": "stream",
     "text": [
      "[1, 2, 3, 4, 5, 6]\n",
      "[1, 2, 3, 4, 5, 6, [7, 8, 9]]\n",
      "[1, 2, 3, 4, 5, 6, [7, 8, 9], 7, 8, 9]\n",
      "[1, 2, 3, 10, 4, 5, 6, [7, 8, 9], 7, 8, 9]\n"
     ]
    }
   ],
   "execution_count": 29
  },
  {
   "metadata": {},
   "cell_type": "markdown",
   "source": "修改元素",
   "id": "80e800ec4104a502"
  },
  {
   "metadata": {
    "ExecuteTime": {
     "end_time": "2025-04-03T00:41:14.874459Z",
     "start_time": "2025-04-03T00:41:14.866051Z"
    }
   },
   "cell_type": "code",
   "source": [
    "demo = [1, 2, 3, 4]\n",
    "print(demo)\n",
    "demo[0] = 111\n",
    "demo[1::2] = [55, 77]\n",
    "demo"
   ],
   "id": "e3742044f602c7d",
   "outputs": [
    {
     "name": "stdout",
     "output_type": "stream",
     "text": [
      "[1, 2, 3, 4]\n"
     ]
    },
    {
     "data": {
      "text/plain": [
       "[111, 55, 3, 77]"
      ]
     },
     "execution_count": 33,
     "metadata": {},
     "output_type": "execute_result"
    }
   ],
   "execution_count": 33
  },
  {
   "metadata": {},
   "cell_type": "markdown",
   "source": [
    "删除元素\n",
    "\n",
    "- `pop(int index = len(lis) - 1)`\n",
    "- `remove(int x)`: 删除第一个出现的 x, 不存在返回 ValueError\n",
    "- `del`"
   ],
   "id": "bc6192876190b5ed"
  },
  {
   "metadata": {
    "ExecuteTime": {
     "end_time": "2025-04-03T00:42:39.949528Z",
     "start_time": "2025-04-03T00:42:39.943500Z"
    }
   },
   "cell_type": "code",
   "source": [
    "demo = [1, 2, 3, 4]\n",
    "demo.pop()\n",
    "demo.pop(0)\n",
    "demo"
   ],
   "id": "f2e36c1439fa433b",
   "outputs": [
    {
     "data": {
      "text/plain": [
       "[2, 3]"
      ]
     },
     "execution_count": 34,
     "metadata": {},
     "output_type": "execute_result"
    }
   ],
   "execution_count": 34
  },
  {
   "metadata": {
    "ExecuteTime": {
     "end_time": "2025-04-03T00:46:54.668348Z",
     "start_time": "2025-04-03T00:46:54.660816Z"
    }
   },
   "cell_type": "code",
   "source": [
    "demo = [1, 2, 3, 4, 1]\n",
    "demo.remove(1)\n",
    "print(demo)\n",
    "\n",
    "try:\n",
    "    demo.remove(123123)\n",
    "except ValueError  as e:\n",
    "    print(f'错误: {e}')"
   ],
   "id": "936b7e0b74073861",
   "outputs": [
    {
     "name": "stdout",
     "output_type": "stream",
     "text": [
      "[2, 3, 4, 1]\n",
      "错误: list.remove(x): x not in list\n"
     ]
    }
   ],
   "execution_count": 41
  },
  {
   "metadata": {
    "ExecuteTime": {
     "end_time": "2025-04-03T00:48:21.530029Z",
     "start_time": "2025-04-03T00:48:21.522527Z"
    }
   },
   "cell_type": "code",
   "source": [
    "a = [1, 1, 2, 2, 3, 3, 5]\n",
    "print(a)\n",
    "del(a[0])\n",
    "print(a)\n",
    "del(a[0:len(a):2])\n",
    "print(a)\n",
    "del(a[::])\n",
    "a"
   ],
   "id": "c905395ff8d9dafd",
   "outputs": [
    {
     "name": "stdout",
     "output_type": "stream",
     "text": [
      "[1, 1, 2, 2, 3, 3, 5]\n",
      "[1, 2, 2, 3, 3, 5]\n",
      "[2, 3, 5]\n"
     ]
    },
    {
     "data": {
      "text/plain": [
       "[]"
      ]
     },
     "execution_count": 44,
     "metadata": {},
     "output_type": "execute_result"
    }
   ],
   "execution_count": 44
  },
  {
   "metadata": {},
   "cell_type": "markdown",
   "source": "## 列表的排序",
   "id": "83d2a5b63e9cfe0a"
  },
  {
   "metadata": {
    "ExecuteTime": {
     "end_time": "2025-04-03T01:11:20.931431Z",
     "start_time": "2025-04-03T01:11:20.928082Z"
    }
   },
   "cell_type": "code",
   "source": [
    "nums = [1, 3, 5, 2, 4]\n",
    "nums.sort()\n",
    "print(nums)\n",
    "nums.sort(reverse = True)\n",
    "print(nums)\n",
    "nums.reverse()\n",
    "print(nums)"
   ],
   "id": "26752e6e20eaf98",
   "outputs": [
    {
     "name": "stdout",
     "output_type": "stream",
     "text": [
      "[1, 2, 3, 4, 5]\n",
      "[5, 4, 3, 2, 1]\n",
      "[1, 2, 3, 4, 5]\n"
     ]
    }
   ],
   "execution_count": 6
  },
  {
   "metadata": {
    "ExecuteTime": {
     "end_time": "2025-04-03T01:12:46.976827Z",
     "start_time": "2025-04-03T01:12:46.966567Z"
    }
   },
   "cell_type": "code",
   "source": [
    "poem = '所谓伊人,在水一方'\n",
    "poem_list = list(poem)\n",
    "poem_list_rev = poem_list\n",
    "poem_list_rev.reverse()\n",
    "\"\".join(poem_list_rev)"
   ],
   "id": "f135d8b5e59b2ced",
   "outputs": [
    {
     "data": {
      "text/plain": [
       "'方一水在,人伊谓所'"
      ]
     },
     "execution_count": 10,
     "metadata": {},
     "output_type": "execute_result"
    }
   ],
   "execution_count": 10
  },
  {
   "metadata": {
    "ExecuteTime": {
     "end_time": "2025-04-03T01:14:06.573049Z",
     "start_time": "2025-04-03T01:14:06.567762Z"
    }
   },
   "cell_type": "code",
   "source": [
    "# 临时排序 sorted\n",
    "a = [1, 3, 2]\n",
    "b = sorted(a, reverse = False)\n",
    "print(a, b)\n",
    "# b = a.sort()\n",
    "# print(a, b)"
   ],
   "id": "e554c7b3b537d2e3",
   "outputs": [
    {
     "name": "stdout",
     "output_type": "stream",
     "text": [
      "[1, 3, 2] [1, 2, 3]\n"
     ]
    }
   ],
   "execution_count": 14
  },
  {
   "metadata": {},
   "cell_type": "markdown",
   "source": "## 列表的复制",
   "id": "75f8c788350d0434"
  },
  {
   "metadata": {
    "ExecuteTime": {
     "end_time": "2025-04-03T01:15:37.232352Z",
     "start_time": "2025-04-03T01:15:37.228420Z"
    }
   },
   "cell_type": "code",
   "source": [
    "a = [1, 2, 3, 4, 5, 6, 7, 8, 9]\n",
    "b = a\n",
    "a[0] = 5\n",
    "print(a, b) # 可以发现 b = a 接受的是同一个地址, 浅拷贝"
   ],
   "id": "953a04abb1e1ad43",
   "outputs": [
    {
     "name": "stdout",
     "output_type": "stream",
     "text": [
      "[5, 2, 3, 4, 5, 6, 7, 8, 9] [5, 2, 3, 4, 5, 6, 7, 8, 9]\n"
     ]
    }
   ],
   "execution_count": 20
  },
  {
   "metadata": {
    "ExecuteTime": {
     "end_time": "2025-04-03T01:16:05.069539Z",
     "start_time": "2025-04-03T01:16:05.055227Z"
    }
   },
   "cell_type": "code",
   "source": [
    "a = [1, 2, 3, 4, 5, 6, 7, 8, 9]\n",
    "b = a.copy()\n",
    "a[0] = 5\n",
    "print(a, b) # 使用 copy"
   ],
   "id": "e9763466e343ced",
   "outputs": [
    {
     "name": "stdout",
     "output_type": "stream",
     "text": [
      "[5, 2, 3, 4, 5, 6, 7, 8, 9] [1, 2, 3, 4, 5, 6, 7, 8, 9]\n"
     ]
    }
   ],
   "execution_count": 21
  },
  {
   "metadata": {
    "ExecuteTime": {
     "end_time": "2025-04-03T01:16:13.645372Z",
     "start_time": "2025-04-03T01:16:13.634804Z"
    }
   },
   "cell_type": "code",
   "source": [
    "a = [1, 2, 3, 4, 5, 6, 7, 8, 9]\n",
    "b = a[::]\n",
    "a[0] = 5\n",
    "print(a, b) # 切片也可以, 切片产生新对象"
   ],
   "id": "f0100aee057b0101",
   "outputs": [
    {
     "name": "stdout",
     "output_type": "stream",
     "text": [
      "[5, 2, 3, 4, 5, 6, 7, 8, 9] [1, 2, 3, 4, 5, 6, 7, 8, 9]\n"
     ]
    }
   ],
   "execution_count": 22
  },
  {
   "metadata": {},
   "cell_type": "markdown",
   "source": "## 列表推导式",
   "id": "dc23ec58a22bd737"
  },
  {
   "metadata": {},
   "cell_type": "markdown",
   "source": "1. 生成 1 ~ 10 所有数的平方",
   "id": "a693bbbc6259c35a"
  },
  {
   "metadata": {
    "ExecuteTime": {
     "end_time": "2025-04-03T01:20:19.874381Z",
     "start_time": "2025-04-03T01:20:19.868777Z"
    }
   },
   "cell_type": "code",
   "source": [
    "square_list = []\n",
    "for i in range(1, 11):\n",
    "    square_list.append(i ** 2)\n",
    "square_list"
   ],
   "id": "93aec9f61642dfbd",
   "outputs": [
    {
     "data": {
      "text/plain": [
       "[1, 4, 9, 16, 25, 36, 49, 64, 81, 100]"
      ]
     },
     "execution_count": 24,
     "metadata": {},
     "output_type": "execute_result"
    }
   ],
   "execution_count": 24
  },
  {
   "metadata": {
    "ExecuteTime": {
     "end_time": "2025-04-03T01:20:23.447534Z",
     "start_time": "2025-04-03T01:20:23.443736Z"
    }
   },
   "cell_type": "code",
   "source": "# 转化为列表推导式",
   "id": "c009b5e51272dc0f",
   "outputs": [],
   "execution_count": 24
  },
  {
   "metadata": {
    "ExecuteTime": {
     "end_time": "2025-04-03T01:21:04.010395Z",
     "start_time": "2025-04-03T01:21:04.001124Z"
    }
   },
   "cell_type": "code",
   "source": [
    "square_list = [item ** 2 for item in range(1, 11)]\n",
    "square_list"
   ],
   "id": "957a8d1da3efd2eb",
   "outputs": [
    {
     "data": {
      "text/plain": [
       "[1, 4, 9, 16, 25, 36, 49, 64, 81, 100]"
      ]
     },
     "execution_count": 25,
     "metadata": {},
     "output_type": "execute_result"
    }
   ],
   "execution_count": 25
  },
  {
   "metadata": {},
   "cell_type": "markdown",
   "source": "2. 取出列表中的偶数并生成新列表",
   "id": "705102ccf5cccdcc"
  },
  {
   "metadata": {
    "ExecuteTime": {
     "end_time": "2025-04-03T01:22:30.932569Z",
     "start_time": "2025-04-03T01:22:30.916170Z"
    }
   },
   "cell_type": "code",
   "source": [
    "lis1 = [1, 2, 3, 4, 5, 6, 7, 8, 9, 10]\n",
    "lis2 = []\n",
    "for x in lis1:\n",
    "    if x % 2 == 0:\n",
    "        lis2.append(x)\n",
    "lis2"
   ],
   "id": "2042a209cdc3a3da",
   "outputs": [
    {
     "data": {
      "text/plain": [
       "[2, 4, 6, 8, 10]"
      ]
     },
     "execution_count": 26,
     "metadata": {},
     "output_type": "execute_result"
    }
   ],
   "execution_count": 26
  },
  {
   "metadata": {
    "ExecuteTime": {
     "end_time": "2025-04-03T01:22:53.718500Z",
     "start_time": "2025-04-03T01:22:53.710696Z"
    }
   },
   "cell_type": "code",
   "source": [
    "lis2 = [x for x in lis1 if x % 2 == 0]\n",
    "lis2"
   ],
   "id": "788016838b85bad6",
   "outputs": [
    {
     "data": {
      "text/plain": [
       "[2, 4, 6, 8, 10]"
      ]
     },
     "execution_count": 28,
     "metadata": {},
     "output_type": "execute_result"
    }
   ],
   "execution_count": 28
  },
  {
   "metadata": {},
   "cell_type": "markdown",
   "source": "## 实战: 定制每日运动计划",
   "id": "a4c543b0c559a5fd"
  },
  {
   "metadata": {
    "ExecuteTime": {
     "end_time": "2025-04-03T01:26:38.401076Z",
     "start_time": "2025-04-03T01:26:38.389987Z"
    }
   },
   "cell_type": "code",
   "source": [
    "run_list = ['0 minutes', '20 minutes', '40 minutes', '60 minutes']\n",
    "swim_list = ['0 meters', '200 meters', '400 meters', '600 meters']\n",
    "calorie_list = []\n",
    "for x in run_list:\n",
    "    for y in swim_list:\n",
    "        calorie_list.append(int(x.split(' ')[0]) * 200 + int(y.split(' ')[0]) * 100)\n",
    "calorie_list"
   ],
   "id": "9d02f5badd48960b",
   "outputs": [
    {
     "data": {
      "text/plain": [
       "[0,\n",
       " 20000,\n",
       " 40000,\n",
       " 60000,\n",
       " 4000,\n",
       " 24000,\n",
       " 44000,\n",
       " 64000,\n",
       " 8000,\n",
       " 28000,\n",
       " 48000,\n",
       " 68000,\n",
       " 12000,\n",
       " 32000,\n",
       " 52000,\n",
       " 72000]"
      ]
     },
     "execution_count": 29,
     "metadata": {},
     "output_type": "execute_result"
    }
   ],
   "execution_count": 29
  }
 ],
 "metadata": {
  "kernelspec": {
   "display_name": "Python 3",
   "language": "python",
   "name": "python3"
  },
  "language_info": {
   "codemirror_mode": {
    "name": "ipython",
    "version": 2
   },
   "file_extension": ".py",
   "mimetype": "text/x-python",
   "name": "python",
   "nbconvert_exporter": "python",
   "pygments_lexer": "ipython2",
   "version": "2.7.6"
  }
 },
 "nbformat": 4,
 "nbformat_minor": 5
}
