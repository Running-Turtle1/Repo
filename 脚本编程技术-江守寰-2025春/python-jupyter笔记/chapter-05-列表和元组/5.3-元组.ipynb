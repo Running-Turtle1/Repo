{
 "cells": [
  {
   "metadata": {},
   "cell_type": "markdown",
   "source": "元组是不可变序列, 通过 `()` 或 `tuple()` 创建",
   "id": "ac3fca0f14952c25"
  },
  {
   "metadata": {
    "ExecuteTime": {
     "end_time": "2025-06-28T03:49:14.804024Z",
     "start_time": "2025-06-28T03:49:14.795347Z"
    }
   },
   "cell_type": "code",
   "source": [
    "a = \"12\", 3, 4, [1, 2]\n",
    "b = (\"12\", 3, 4, [1, 2])\n",
    "a, b, a == b"
   ],
   "id": "37ba17ca7c22613c",
   "outputs": [
    {
     "data": {
      "text/plain": [
       "(('12', 3, 4, [1, 2]), ('12', 3, 4, [1, 2]), True)"
      ]
     },
     "execution_count": 3,
     "metadata": {},
     "output_type": "execute_result"
    }
   ],
   "execution_count": 3
  },
  {
   "metadata": {
    "ExecuteTime": {
     "end_time": "2025-06-28T03:49:21.237915Z",
     "start_time": "2025-06-28T03:49:21.231760Z"
    }
   },
   "cell_type": "code",
   "source": [
    "a = (1, ) # 只有一个元素也加上, 不不然无法跟数字 1 区分\n",
    "print(a)"
   ],
   "id": "77de21b4842b32ee",
   "outputs": [
    {
     "name": "stdout",
     "output_type": "stream",
     "text": [
      "(1,)\n"
     ]
    }
   ],
   "execution_count": 4
  },
  {
   "metadata": {
    "ExecuteTime": {
     "end_time": "2025-06-28T03:49:26.723140Z",
     "start_time": "2025-06-28T03:49:26.716113Z"
    }
   },
   "cell_type": "code",
   "source": [
    "lis = [1, 2, 3]\n",
    "a = tuple(lis)\n",
    "print(a)"
   ],
   "id": "a2f36b93f8a0c1a4",
   "outputs": [
    {
     "name": "stdout",
     "output_type": "stream",
     "text": [
      "(1, 2, 3)\n"
     ]
    }
   ],
   "execution_count": 5
  },
  {
   "metadata": {
    "ExecuteTime": {
     "end_time": "2025-06-28T03:49:29.369012Z",
     "start_time": "2025-06-28T03:49:29.363288Z"
    }
   },
   "cell_type": "code",
   "source": [
    "str = '123123'\n",
    "a = tuple(str)\n",
    "print(a)"
   ],
   "id": "8153a18c721d69fb",
   "outputs": [
    {
     "name": "stdout",
     "output_type": "stream",
     "text": [
      "('1', '2', '3', '1', '2', '3')\n"
     ]
    }
   ],
   "execution_count": 6
  },
  {
   "metadata": {},
   "cell_type": "markdown",
   "source": [
    "元组的好处\n",
    "\n",
    "- 元组可以在字典中作为 `键` 使用, 而列表不行\n",
    "- 元组的访问和处理速度更快\n",
    "- 元素可以作为很多内置函数和方法的返回值"
   ],
   "id": "5866f24340fd0546"
  }
 ],
 "metadata": {
  "kernelspec": {
   "display_name": "Python 3",
   "language": "python",
   "name": "python3"
  },
  "language_info": {
   "codemirror_mode": {
    "name": "ipython",
    "version": 2
   },
   "file_extension": ".py",
   "mimetype": "text/x-python",
   "name": "python",
   "nbconvert_exporter": "python",
   "pygments_lexer": "ipython2",
   "version": "2.7.6"
  }
 },
 "nbformat": 4,
 "nbformat_minor": 5
}
