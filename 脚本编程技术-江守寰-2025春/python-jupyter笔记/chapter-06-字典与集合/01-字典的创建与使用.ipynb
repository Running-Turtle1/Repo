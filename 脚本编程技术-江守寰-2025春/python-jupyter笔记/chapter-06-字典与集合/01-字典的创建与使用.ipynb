{
 "cells": [
  {
   "metadata": {},
   "cell_type": "markdown",
   "source": [
    "## 1 字典的创建\n",
    "字典是一种映射类型，每个元素都是一个键值对，元素之间是无序的。键值对（key，value）是一种二元关系，源于属性和值的映射关系。键（key）表示一个属性，值（value）表示属性的内容，键值对整体而言表示一个属性和它对应的值。"
   ],
   "id": "14e8c31467d0aae5"
  },
  {
   "metadata": {},
   "cell_type": "markdown",
   "source": [
    "常见的创建方式\n",
    "- 花括号 `{}` 创建\n",
    "- `dict()` 函数创建"
   ],
   "id": "7e64ba45b68ddbd2"
  },
  {
   "metadata": {
    "ExecuteTime": {
     "end_time": "2025-06-29T07:21:32.232696Z",
     "start_time": "2025-06-29T07:21:32.229306Z"
    }
   },
   "cell_type": "code",
   "source": "empty_dict = {}",
   "id": "5fd8e7c8276a91bd",
   "outputs": [],
   "execution_count": 158
  },
  {
   "metadata": {
    "ExecuteTime": {
     "end_time": "2025-06-29T07:21:32.352633Z",
     "start_time": "2025-06-29T07:21:32.348734Z"
    }
   },
   "cell_type": "code",
   "source": [
    "person_dict = {\n",
    "    'name': 'wpc',\n",
    "    'stu_id': '2208010423',\n",
    "    'grade': '大二'\n",
    "}\n",
    "person_dict"
   ],
   "id": "c4e8e8c14f5bda72",
   "outputs": [
    {
     "data": {
      "text/plain": [
       "{'name': 'wpc', 'stu_id': '2208010423', 'grade': '大二'}"
      ]
     },
     "execution_count": 159,
     "metadata": {},
     "output_type": "execute_result"
    }
   ],
   "execution_count": 159
  },
  {
   "metadata": {
    "ExecuteTime": {
     "end_time": "2025-06-29T07:21:32.367907Z",
     "start_time": "2025-06-29T07:21:32.362642Z"
    }
   },
   "cell_type": "code",
   "source": [
    "# 可以使用元组作为键\n",
    "student_dict = {\n",
    "    ('2208010423', 'wpc'): '大二',\n",
    "    ('21xxx', 'zjs'): '大三'\n",
    "}\n",
    "student_dict"
   ],
   "id": "365dbe4886d50ec9",
   "outputs": [
    {
     "data": {
      "text/plain": [
       "{('2208010423', 'wpc'): '大二', ('21xxx', 'zjs'): '大三'}"
      ]
     },
     "execution_count": 160,
     "metadata": {},
     "output_type": "execute_result"
    }
   ],
   "execution_count": 160
  },
  {
   "metadata": {},
   "cell_type": "markdown",
   "source": "`dict()` 的使用",
   "id": "e37db70a7858f167"
  },
  {
   "metadata": {
    "ExecuteTime": {
     "end_time": "2025-06-29T07:21:32.378357Z",
     "start_time": "2025-06-29T07:21:32.369188Z"
    }
   },
   "cell_type": "code",
   "source": "empty_dict = dict() # 空字典",
   "id": "22569213b53cb859",
   "outputs": [],
   "execution_count": 161
  },
  {
   "metadata": {
    "ExecuteTime": {
     "end_time": "2025-06-29T07:21:32.389844Z",
     "start_time": "2025-06-29T07:21:32.384365Z"
    }
   },
   "cell_type": "code",
   "source": [
    "# dict() 可以将二元列表转换为字典\n",
    "student_list = [\n",
    "    ('name', 'wpc'), ('stu_id', '2208010423'), ('grade', 'wpc')\n",
    "]\n",
    "student_dict = dict(student_list)\n",
    "student_dict"
   ],
   "id": "fbc6c276dc08fe26",
   "outputs": [
    {
     "data": {
      "text/plain": [
       "{'name': 'wpc', 'stu_id': '2208010423', 'grade': 'wpc'}"
      ]
     },
     "execution_count": 162,
     "metadata": {},
     "output_type": "execute_result"
    }
   ],
   "execution_count": 162
  },
  {
   "metadata": {
    "ExecuteTime": {
     "end_time": "2025-06-29T07:21:32.412286Z",
     "start_time": "2025-06-29T07:21:32.407851Z"
    }
   },
   "cell_type": "code",
   "source": [
    "# 直接设置关键字参数也可以创建字典\n",
    "student_dict = dict(\n",
    "    name = 'wpc',\n",
    "    stu_id = '2208010423',\n",
    "    grade = '大三'\n",
    ")\n",
    "student_dict"
   ],
   "id": "23c6418fd1da795d",
   "outputs": [
    {
     "data": {
      "text/plain": [
       "{'name': 'wpc', 'stu_id': '2208010423', 'grade': '大三'}"
      ]
     },
     "execution_count": 163,
     "metadata": {},
     "output_type": "execute_result"
    }
   ],
   "execution_count": 163
  },
  {
   "metadata": {},
   "cell_type": "markdown",
   "source": "## 2 字典的访问",
   "id": "f755f5b51e8ff104"
  },
  {
   "metadata": {
    "ExecuteTime": {
     "end_time": "2025-06-29T07:21:32.426324Z",
     "start_time": "2025-06-29T07:21:32.422323Z"
    }
   },
   "cell_type": "code",
   "source": "student_dict['name'], student_dict['stu_id'], student_dict['grade']",
   "id": "e23a9e7192defff2",
   "outputs": [
    {
     "data": {
      "text/plain": [
       "('wpc', '2208010423', '大三')"
      ]
     },
     "execution_count": 164,
     "metadata": {},
     "output_type": "execute_result"
    }
   ],
   "execution_count": 164
  },
  {
   "metadata": {
    "ExecuteTime": {
     "end_time": "2025-06-29T07:21:32.450383Z",
     "start_time": "2025-06-29T07:21:32.437202Z"
    }
   },
   "cell_type": "code",
   "source": "student_dict['pay'] # 如果访问的键不存在，程序就会异常",
   "id": "766b2958df021817",
   "outputs": [
    {
     "ename": "KeyError",
     "evalue": "'pay'",
     "output_type": "error",
     "traceback": [
      "\u001B[1;31m---------------------------------------------------------------------------\u001B[0m",
      "\u001B[1;31mKeyError\u001B[0m                                  Traceback (most recent call last)",
      "Cell \u001B[1;32mIn[165], line 1\u001B[0m\n\u001B[1;32m----> 1\u001B[0m student_dict[\u001B[38;5;124m'\u001B[39m\u001B[38;5;124mpay\u001B[39m\u001B[38;5;124m'\u001B[39m]\n",
      "\u001B[1;31mKeyError\u001B[0m: 'pay'"
     ]
    }
   ],
   "execution_count": 165
  },
  {
   "metadata": {},
   "cell_type": "markdown",
   "source": "也可以使用 `get()` 方法，第一个参数用于指定键，是必不可少的；第二个参数用于指定键不存在时要返回的值，是可选的",
   "id": "fe8822ccb0ea0888"
  },
  {
   "metadata": {
    "ExecuteTime": {
     "end_time": "2025-06-29T07:21:32.476091Z",
     "start_time": "2025-06-29T07:21:32.472277Z"
    }
   },
   "cell_type": "code",
   "source": [
    "score_value = student_dict.get('pay', '1000K')\n",
    "score_value"
   ],
   "id": "79420c2e73bc1048",
   "outputs": [
    {
     "data": {
      "text/plain": [
       "'1000K'"
      ]
     },
     "execution_count": 166,
     "metadata": {},
     "output_type": "execute_result"
    }
   ],
   "execution_count": 166
  },
  {
   "metadata": {},
   "cell_type": "markdown",
   "source": "## 3 字典的遍历",
   "id": "6d463834d8e704e4"
  },
  {
   "metadata": {},
   "cell_type": "markdown",
   "source": "遍历所有键值对",
   "id": "be25d6ad2a993be2"
  },
  {
   "metadata": {
    "ExecuteTime": {
     "end_time": "2025-06-29T07:21:32.488887Z",
     "start_time": "2025-06-29T07:21:32.485098Z"
    }
   },
   "cell_type": "code",
   "source": [
    "C_dict = {\n",
    "    '小李': '狮子座',\n",
    "    '小王': '天蝎座',\n",
    "    '小刘': '金牛座',\n",
    "    '小孙': '处女座'\n",
    "}\n",
    "for item in C_dict.items():\n",
    "    print(item)"
   ],
   "id": "3bdfe5780d028a31",
   "outputs": [
    {
     "name": "stdout",
     "output_type": "stream",
     "text": [
      "('小李', '狮子座')\n",
      "('小王', '天蝎座')\n",
      "('小刘', '金牛座')\n",
      "('小孙', '处女座')\n"
     ]
    }
   ],
   "execution_count": 167
  },
  {
   "metadata": {
    "ExecuteTime": {
     "end_time": "2025-06-29T07:21:32.519577Z",
     "start_time": "2025-06-29T07:21:32.515482Z"
    }
   },
   "cell_type": "code",
   "source": [
    "for key, value in C_dict.items():\n",
    "    print(f'{key} 的星座是 {value}')"
   ],
   "id": "101d382b88c3f4d9",
   "outputs": [
    {
     "name": "stdout",
     "output_type": "stream",
     "text": [
      "小李 的星座是 狮子座\n",
      "小王 的星座是 天蝎座\n",
      "小刘 的星座是 金牛座\n",
      "小孙 的星座是 处女座\n"
     ]
    }
   ],
   "execution_count": 168
  },
  {
   "metadata": {},
   "cell_type": "markdown",
   "source": "获取所有属性",
   "id": "79fb78a7bea44732"
  },
  {
   "metadata": {
    "ExecuteTime": {
     "end_time": "2025-06-29T07:21:32.596508Z",
     "start_time": "2025-06-29T07:21:32.592439Z"
    }
   },
   "cell_type": "code",
   "source": [
    "for key in C_dict.keys():\n",
    "    print(key)"
   ],
   "id": "cf00b096658adc40",
   "outputs": [
    {
     "name": "stdout",
     "output_type": "stream",
     "text": [
      "小李\n",
      "小王\n",
      "小刘\n",
      "小孙\n"
     ]
    }
   ],
   "execution_count": 169
  },
  {
   "metadata": {},
   "cell_type": "markdown",
   "source": "判断 xxx 是否参与了星座讨论",
   "id": "6b4c745d66d77b0a"
  },
  {
   "metadata": {
    "ExecuteTime": {
     "end_time": "2025-06-29T07:21:32.610748Z",
     "start_time": "2025-06-29T07:21:32.607649Z"
    }
   },
   "cell_type": "code",
   "source": [
    "if '小魏' not in C_dict.keys():\n",
    "    print('小魏没有参加星座讨论！')"
   ],
   "id": "121cd7eb1b9695c3",
   "outputs": [
    {
     "name": "stdout",
     "output_type": "stream",
     "text": [
      "小魏没有参加星座讨论！\n"
     ]
    }
   ],
   "execution_count": 170
  },
  {
   "metadata": {},
   "cell_type": "markdown",
   "source": "遍历所有值",
   "id": "32a21301367824fe"
  },
  {
   "metadata": {
    "ExecuteTime": {
     "end_time": "2025-06-29T07:21:32.624575Z",
     "start_time": "2025-06-29T07:21:32.620764Z"
    }
   },
   "cell_type": "code",
   "source": [
    "for v in C_dict.values():\n",
    "    print(v)"
   ],
   "id": "ecc5620077b37f88",
   "outputs": [
    {
     "name": "stdout",
     "output_type": "stream",
     "text": [
      "狮子座\n",
      "天蝎座\n",
      "金牛座\n",
      "处女座\n"
     ]
    }
   ],
   "execution_count": 171
  },
  {
   "metadata": {},
   "cell_type": "markdown",
   "source": "用 set() 获取不重复的星座",
   "id": "72afd06a2be20f3c"
  },
  {
   "metadata": {
    "ExecuteTime": {
     "end_time": "2025-06-29T07:21:32.637756Z",
     "start_time": "2025-06-29T07:21:32.631582Z"
    }
   },
   "cell_type": "code",
   "source": [
    "C_dict.update({('小魏', '天蝎座')})\n",
    "C_dict"
   ],
   "id": "c55dd41c8e08079a",
   "outputs": [
    {
     "data": {
      "text/plain": [
       "{'小李': '狮子座', '小王': '天蝎座', '小刘': '金牛座', '小孙': '处女座', '小魏': '天蝎座'}"
      ]
     },
     "execution_count": 172,
     "metadata": {},
     "output_type": "execute_result"
    }
   ],
   "execution_count": 172
  },
  {
   "metadata": {
    "ExecuteTime": {
     "end_time": "2025-06-29T07:21:32.681788Z",
     "start_time": "2025-06-29T07:21:32.677762Z"
    }
   },
   "cell_type": "code",
   "source": [
    "for v in set(C_dict.values()):\n",
    "    print(v)"
   ],
   "id": "d5693d75f840fce0",
   "outputs": [
    {
     "name": "stdout",
     "output_type": "stream",
     "text": [
      "天蝎座\n",
      "金牛座\n",
      "狮子座\n",
      "处女座\n"
     ]
    }
   ],
   "execution_count": 173
  },
  {
   "metadata": {},
   "cell_type": "markdown",
   "source": "## 4 字典的常用操作",
   "id": "9f22c4845b8e8147"
  },
  {
   "metadata": {},
   "cell_type": "markdown",
   "source": "4.1 字典的成员归属",
   "id": "2e58c18080f41acb"
  },
  {
   "metadata": {
    "ExecuteTime": {
     "end_time": "2025-06-29T07:21:32.694391Z",
     "start_time": "2025-06-29T07:21:32.690171Z"
    }
   },
   "cell_type": "code",
   "source": "'小魏' in C_dict",
   "id": "f521408c5ee8098a",
   "outputs": [
    {
     "data": {
      "text/plain": [
       "True"
      ]
     },
     "execution_count": 174,
     "metadata": {},
     "output_type": "execute_result"
    }
   ],
   "execution_count": 174
  },
  {
   "metadata": {
    "ExecuteTime": {
     "end_time": "2025-06-29T07:21:32.706840Z",
     "start_time": "2025-06-29T07:21:32.701449Z"
    }
   },
   "cell_type": "code",
   "source": "'小刘' not in C_dict",
   "id": "ac72077a8819a788",
   "outputs": [
    {
     "data": {
      "text/plain": [
       "False"
      ]
     },
     "execution_count": 175,
     "metadata": {},
     "output_type": "execute_result"
    }
   ],
   "execution_count": 175
  },
  {
   "metadata": {},
   "cell_type": "markdown",
   "source": "4.2 修改字典元素",
   "id": "214875a5d1f31599"
  },
  {
   "metadata": {
    "ExecuteTime": {
     "end_time": "2025-06-29T07:21:32.719097Z",
     "start_time": "2025-06-29T07:21:32.715283Z"
    }
   },
   "cell_type": "code",
   "source": [
    "C_dict['小魏'] = '金牛座'\n",
    "C_dict"
   ],
   "id": "ae45d9e46f66f211",
   "outputs": [
    {
     "data": {
      "text/plain": [
       "{'小李': '狮子座', '小王': '天蝎座', '小刘': '金牛座', '小孙': '处女座', '小魏': '金牛座'}"
      ]
     },
     "execution_count": 176,
     "metadata": {},
     "output_type": "execute_result"
    }
   ],
   "execution_count": 176
  },
  {
   "metadata": {},
   "cell_type": "markdown",
   "source": "如果通过键修改值时，键不存在，则会在字典中自动添加此键值对",
   "id": "c00d08492be507e3"
  },
  {
   "metadata": {
    "ExecuteTime": {
     "end_time": "2025-06-29T07:21:32.762400Z",
     "start_time": "2025-06-29T07:21:32.757549Z"
    }
   },
   "cell_type": "code",
   "source": [
    "C_dict['小周'] = 1\n",
    "C_dict"
   ],
   "id": "b429666b3d9fcf1c",
   "outputs": [
    {
     "data": {
      "text/plain": [
       "{'小李': '狮子座', '小王': '天蝎座', '小刘': '金牛座', '小孙': '处女座', '小魏': '金牛座', '小周': 1}"
      ]
     },
     "execution_count": 177,
     "metadata": {},
     "output_type": "execute_result"
    }
   ],
   "execution_count": 177
  },
  {
   "metadata": {},
   "cell_type": "markdown",
   "source": [
    "可以使用 `setdefault()` 方法添加字典元素，该方法有两个参数，即一对键值对。\n",
    "\n",
    "如果键不存在，就添加对应键值对 key-values，并返回新的 values ；\n",
    "如果键存在，则不对字典做改动，返回原来的 values。"
   ],
   "id": "1e60dfda1a8a1e8e"
  },
  {
   "metadata": {
    "ExecuteTime": {
     "end_time": "2025-06-29T07:21:32.775407Z",
     "start_time": "2025-06-29T07:21:32.770406Z"
    }
   },
   "cell_type": "code",
   "source": "C_dict.setdefault('wpc', '666'), C_dict.setdefault('wpc', '777')",
   "id": "bdc32befaaff673c",
   "outputs": [
    {
     "data": {
      "text/plain": [
       "('666', '666')"
      ]
     },
     "execution_count": 178,
     "metadata": {},
     "output_type": "execute_result"
    }
   ],
   "execution_count": 178
  },
  {
   "metadata": {},
   "cell_type": "markdown",
   "source": "`del()` 语句可用来删除字典元素",
   "id": "ea69a683969a6522"
  },
  {
   "metadata": {
    "ExecuteTime": {
     "end_time": "2025-06-29T07:21:32.788770Z",
     "start_time": "2025-06-29T07:21:32.784701Z"
    }
   },
   "cell_type": "code",
   "source": "C_dict",
   "id": "4f0740f4c7d2c2e3",
   "outputs": [
    {
     "data": {
      "text/plain": [
       "{'小李': '狮子座',\n",
       " '小王': '天蝎座',\n",
       " '小刘': '金牛座',\n",
       " '小孙': '处女座',\n",
       " '小魏': '金牛座',\n",
       " '小周': 1,\n",
       " 'wpc': '666'}"
      ]
     },
     "execution_count": 179,
     "metadata": {},
     "output_type": "execute_result"
    }
   ],
   "execution_count": 179
  },
  {
   "metadata": {
    "ExecuteTime": {
     "end_time": "2025-06-29T07:21:32.834830Z",
     "start_time": "2025-06-29T07:21:32.830827Z"
    }
   },
   "cell_type": "code",
   "source": [
    "del C_dict['小孙']\n",
    "C_dict"
   ],
   "id": "a109958199aaf250",
   "outputs": [
    {
     "data": {
      "text/plain": [
       "{'小李': '狮子座', '小王': '天蝎座', '小刘': '金牛座', '小魏': '金牛座', '小周': 1, 'wpc': '666'}"
      ]
     },
     "execution_count": 180,
     "metadata": {},
     "output_type": "execute_result"
    }
   ],
   "execution_count": 180
  },
  {
   "metadata": {},
   "cell_type": "markdown",
   "source": "4.3 字典的复制",
   "id": "f96fcbc69ccf45ba"
  },
  {
   "metadata": {
    "ExecuteTime": {
     "end_time": "2025-06-29T07:23:13.711657Z",
     "start_time": "2025-06-29T07:23:13.705515Z"
    }
   },
   "cell_type": "code",
   "source": [
    "goods_list = {\n",
    "    '牛奶': 20,\n",
    "    '苹果': 5,\n",
    "    '薯片': 10\n",
    "}\n",
    "\n",
    "latest_goods = goods_list.copy()\n",
    "latest_goods['牛奶'] += 1000\n",
    "\n",
    "print(goods_list)\n",
    "print(latest_goods)"
   ],
   "id": "8f3d712c7536162a",
   "outputs": [
    {
     "name": "stdout",
     "output_type": "stream",
     "text": [
      "{'牛奶': 20, '苹果': 5, '薯片': 10}\n",
      "{'牛奶': 1020, '苹果': 5, '薯片': 10}\n"
     ]
    }
   ],
   "execution_count": 181
  },
  {
   "metadata": {},
   "cell_type": "markdown",
   "source": [
    "4.4 字典的合并\n",
    "- `update()` 方法\n",
    "- {**d1, **d2}\n",
    "- | 运算符合并"
   ],
   "id": "ec6b18c482bdf9ba"
  },
  {
   "metadata": {
    "ExecuteTime": {
     "end_time": "2025-06-29T07:24:23.348492Z",
     "start_time": "2025-06-29T07:24:23.342389Z"
    }
   },
   "cell_type": "code",
   "source": [
    "# `update()` 方法\n",
    "dict01 = {'a':1, 'b':2}\n",
    "dict02 = {'c':3, 'd':4}\n",
    "dict01.update(dict02)\n",
    "dict01"
   ],
   "id": "ead4691447dd8ed1",
   "outputs": [
    {
     "data": {
      "text/plain": [
       "{'a': 1, 'b': 2, 'c': 3, 'd': 4}"
      ]
     },
     "execution_count": 182,
     "metadata": {},
     "output_type": "execute_result"
    }
   ],
   "execution_count": 182
  },
  {
   "metadata": {},
   "cell_type": "markdown",
   "source": "** 操作符是 Python 中的一种字典解包（dictionary unpacking）语法，它允许你将一个字典的内容解包并将其合并到另一个字典中",
   "id": "b2a77c33de784b58"
  },
  {
   "metadata": {
    "ExecuteTime": {
     "end_time": "2025-06-29T07:25:18.203509Z",
     "start_time": "2025-06-29T07:25:18.198361Z"
    }
   },
   "cell_type": "code",
   "source": [
    "# {**d1, **d2} 方法, 如果两个字典有相同的键，那么以第二个字典的值进行补充\n",
    "dict01 = {'a':1, 'b':2}\n",
    "dict02 = {'c':3, 'd':4}\n",
    "dict03 = {**dict01, **dict02}\n",
    "dict03"
   ],
   "id": "d0383a93bade1a59",
   "outputs": [
    {
     "data": {
      "text/plain": [
       "{'a': 1, 'b': 2, 'c': 3, 'd': 4}"
      ]
     },
     "execution_count": 184,
     "metadata": {},
     "output_type": "execute_result"
    }
   ],
   "execution_count": 184
  },
  {
   "metadata": {
    "ExecuteTime": {
     "end_time": "2025-06-29T07:27:04.136105Z",
     "start_time": "2025-06-29T07:27:04.131292Z"
    }
   },
   "cell_type": "code",
   "source": [
    "dict01 = {'a':1, 'b':2}\n",
    "dict02 = {'c':3, 'd':4}\n",
    "dict03 = dict01 | dict02\n",
    "dict03"
   ],
   "id": "91791adb8357aa3e",
   "outputs": [
    {
     "data": {
      "text/plain": [
       "{'a': 1, 'b': 2, 'c': 3, 'd': 4}"
      ]
     },
     "execution_count": 185,
     "metadata": {},
     "output_type": "execute_result"
    }
   ],
   "execution_count": 185
  },
  {
   "metadata": {},
   "cell_type": "markdown",
   "source": "## 5 字典推导式",
   "id": "ac5b5320d897849b"
  },
  {
   "metadata": {
    "ExecuteTime": {
     "end_time": "2025-06-29T07:28:20.815708Z",
     "start_time": "2025-06-29T07:28:20.809599Z"
    }
   },
   "cell_type": "code",
   "source": [
    "square_dict = {}\n",
    "for i in range(1, 6):\n",
    "    square_dict[i] = i**2\n",
    "square_dict"
   ],
   "id": "fbc3f4b288309878",
   "outputs": [
    {
     "data": {
      "text/plain": [
       "{1: 1, 2: 4, 3: 9, 4: 16, 5: 25}"
      ]
     },
     "execution_count": 187,
     "metadata": {},
     "output_type": "execute_result"
    }
   ],
   "execution_count": 187
  },
  {
   "metadata": {
    "ExecuteTime": {
     "end_time": "2025-06-29T07:29:27.850971Z",
     "start_time": "2025-06-29T07:29:27.845052Z"
    }
   },
   "cell_type": "code",
   "source": [
    "# or\n",
    "square_dict = {i:i**2 for i in range(1, 6)}\n",
    "square_dict"
   ],
   "id": "23f6770d475efa2",
   "outputs": [
    {
     "data": {
      "text/plain": [
       "{1: 1, 2: 4, 3: 9, 4: 16, 5: 25}"
      ]
     },
     "execution_count": 194,
     "metadata": {},
     "output_type": "execute_result"
    }
   ],
   "execution_count": 194
  },
  {
   "metadata": {},
   "cell_type": "markdown",
   "source": "## 6 实战：垃圾分类查询",
   "id": "6e954e22c58efcd8"
  },
  {
   "metadata": {
    "ExecuteTime": {
     "end_time": "2025-06-29T07:38:57.418704Z",
     "start_time": "2025-06-29T07:38:57.415349Z"
    }
   },
   "cell_type": "code",
   "source": [
    "waste_dict = {\n",
    "    '可回收垃圾': ['玻璃', '金属'],\n",
    "    '干垃圾': ['破旧衣物', '烟蒂', '塑料袋'],\n",
    "    '湿垃圾': ['果皮', '剩菜剩饭', '茶叶渣'],\n",
    "    '有害垃圾': ['电池', '荧光灯管', '药品']\n",
    "}\n",
    "id = {\n",
    "    1: '可回收垃圾',\n",
    "    2: '干垃圾',\n",
    "    3: '湿垃圾',\n",
    "    4: '有害垃圾'\n",
    "}"
   ],
   "id": "4475ffbe70219dbb",
   "outputs": [],
   "execution_count": 203
  },
  {
   "metadata": {
    "ExecuteTime": {
     "end_time": "2025-06-29T07:42:40.371324Z",
     "start_time": "2025-06-29T07:42:28.254490Z"
    }
   },
   "cell_type": "code",
   "source": [
    "while True:\n",
    "    waste = input(\"请输入您要查询的垃圾（输入 q 退出程序）:\")\n",
    "    if(waste == 'q'):\n",
    "        break\n",
    "    find_ = False\n",
    "    for key, values in waste_dict.items():\n",
    "        if waste in values:\n",
    "            print(f'你查询的垃圾 {waste} 的垃圾类型是: {key}')\n",
    "            find_ = True\n",
    "            break\n",
    "    if not find_:\n",
    "        x = input(''''查询的垃圾类型不存在，请添加其对应的垃圾类型：'\n",
    "        请输入垃圾类型:\n",
    "        '1: 可回收垃圾'\n",
    "        '2: 干垃圾'\n",
    "        '3: 湿垃圾'\n",
    "        '4: 有害垃圾'\n",
    "        ''')\n",
    "        while x.isdigit() == False or (1 <= int(x) <= 4) == False:\n",
    "            print('请输入正确类型!')\n",
    "        waste_dict[id[int(x)]].append(waste)"
   ],
   "id": "ab3aa8aa0f9c7e35",
   "outputs": [
    {
     "name": "stdout",
     "output_type": "stream",
     "text": [
      "你查询的垃圾 玻璃 的垃圾类型是: 可回收垃圾\n",
      "你查询的垃圾 python 的垃圾类型是: 有害垃圾\n"
     ]
    }
   ],
   "execution_count": 207
  }
 ],
 "metadata": {
  "kernelspec": {
   "display_name": "Python 3",
   "language": "python",
   "name": "python3"
  },
  "language_info": {
   "codemirror_mode": {
    "name": "ipython",
    "version": 2
   },
   "file_extension": ".py",
   "mimetype": "text/x-python",
   "name": "python",
   "nbconvert_exporter": "python",
   "pygments_lexer": "ipython2",
   "version": "2.7.6"
  }
 },
 "nbformat": 4,
 "nbformat_minor": 5
}
