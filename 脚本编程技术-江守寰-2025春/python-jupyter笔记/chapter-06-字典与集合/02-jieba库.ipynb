{
 "cells": [
  {
   "metadata": {},
   "cell_type": "markdown",
   "source": [
    "## 01 jieba库的基本介绍\n",
    "\n",
    "jieba 是第三方中文分词库，可以将中文的文本进行拆分为中文词语，词语之间以逗号隔开"
   ],
   "id": "d651d00015ba5105"
  },
  {
   "metadata": {},
   "cell_type": "markdown",
   "source": "## 1.1 基本应用",
   "id": "303f9e295f4961b6"
  },
  {
   "metadata": {
    "ExecuteTime": {
     "end_time": "2025-06-29T08:12:20.107850Z",
     "start_time": "2025-06-29T08:12:19.338546Z"
    }
   },
   "cell_type": "code",
   "source": [
    "import jieba\n",
    "jieba.lcut('为中华之崛起而读书')"
   ],
   "id": "199d342145acf8ce",
   "outputs": [
    {
     "name": "stderr",
     "output_type": "stream",
     "text": [
      "Building prefix dict from the default dictionary ...\n",
      "Loading model from cache C:\\Users\\95432\\AppData\\Local\\Temp\\jieba.cache\n",
      "Loading model cost 0.724 seconds.\n",
      "Prefix dict has been built successfully.\n"
     ]
    },
    {
     "data": {
      "text/plain": [
       "['为', '中华', '之', '崛起', '而', '读书']"
      ]
     },
     "execution_count": 2,
     "metadata": {},
     "output_type": "execute_result"
    }
   ],
   "execution_count": 2
  },
  {
   "metadata": {},
   "cell_type": "markdown",
   "source": [
    "jieba 分词有三种模式\n",
    "\n",
    "- 精确模式：将文本最精确的切分成词语，适用于文本分析\n",
    "- 全模式：将文本能组成的词语全部输出，速度非常快，但是会产生歧义和冗余\n",
    "- 搜索引擎模式：在精确模式的基础上，对长词进行再次切分，适用于所搜索引擎分词"
   ],
   "id": "3976d2da0a23eb92"
  },
  {
   "metadata": {},
   "cell_type": "markdown",
   "source": [
    "- `jieba.cut(s)`: 精确模式，返回一个可迭代的数据类型\n",
    "- `jieba.cut(s, cut_all = True)`: 全模式，输出文本 s 中所有可能组成的词语\n",
    "- `jieba.cut_for_search(s)`: 搜索引擎模式，但会一个可迭代的数据类型\n",
    "- `jieba.lcut(s)`: 精确模式，返回一个列表类型\n",
    "- `jieba.lcut_for_search(s)`: 搜索引擎模式，返回一个列表类型"
   ],
   "id": "87b40cd5fdc0d6ea"
  },
  {
   "metadata": {},
   "cell_type": "markdown",
   "source": [
    "通过 `add_word()` 函数可以向分词词典中添加新的词 \n",
    "\n",
    "通过 `del_word()` 可以删除分词词典中的词语"
   ],
   "id": "e2eb4c3da5fcc81e"
  },
  {
   "metadata": {
    "ExecuteTime": {
     "end_time": "2025-06-29T08:17:21.352498Z",
     "start_time": "2025-06-29T08:17:21.346171Z"
    }
   },
   "cell_type": "code",
   "source": [
    "sentence = '南京大学机器学习与数据挖掘实验室招生啦！'\n",
    "word_list = jieba.lcut(sentence)\n",
    "word_list"
   ],
   "id": "d1572dbfdb81f941",
   "outputs": [
    {
     "data": {
      "text/plain": [
       "['南京大学', '机器', '学习', '与', '数据挖掘', '实验室', '招生', '啦', '！']"
      ]
     },
     "execution_count": 4,
     "metadata": {},
     "output_type": "execute_result"
    }
   ],
   "execution_count": 4
  },
  {
   "metadata": {
    "ExecuteTime": {
     "end_time": "2025-06-29T08:17:59.323641Z",
     "start_time": "2025-06-29T08:17:59.316673Z"
    }
   },
   "cell_type": "code",
   "source": [
    "sentence = '南京大学机器学习与数据挖掘实验室招生啦！'\n",
    "jieba.add_word('机器学习')\n",
    "word_list = jieba.lcut(sentence)\n",
    "word_list"
   ],
   "id": "aaf4a85b820ed6a4",
   "outputs": [
    {
     "data": {
      "text/plain": [
       "['南京大学', '机器学习', '与', '数据挖掘', '实验室', '招生', '啦', '！']"
      ]
     },
     "execution_count": 5,
     "metadata": {},
     "output_type": "execute_result"
    }
   ],
   "execution_count": 5
  },
  {
   "metadata": {
    "ExecuteTime": {
     "end_time": "2025-06-29T08:18:59.429560Z",
     "start_time": "2025-06-29T08:18:59.423258Z"
    }
   },
   "cell_type": "code",
   "source": [
    "sentence = '南京大学机器学习与数据挖掘实验室招生啦！'\n",
    "jieba.del_word('数据挖掘')\n",
    "word_list = jieba.lcut(sentence)\n",
    "word_list"
   ],
   "id": "58ea8e1382b68591",
   "outputs": [
    {
     "data": {
      "text/plain": [
       "['南京大学', '机器学习', '与', '数据', '挖掘', '实验室', '招生', '啦', '！']"
      ]
     },
     "execution_count": 6,
     "metadata": {},
     "output_type": "execute_result"
    }
   ],
   "execution_count": 6
  },
  {
   "metadata": {},
   "cell_type": "markdown",
   "source": "## 1.2 关键词提取",
   "id": "831d0260b721f3e2"
  },
  {
   "metadata": {
    "ExecuteTime": {
     "end_time": "2025-06-29T08:21:03.932555Z",
     "start_time": "2025-06-29T08:21:03.927192Z"
    }
   },
   "cell_type": "code",
   "source": [
    "from jieba.analyse import *\n",
    "sentence = '南京大学机器学习与数据挖掘实验室招生啦！'\n",
    "extract_tags(sentence, topK = 100)"
   ],
   "id": "d176880007db981e",
   "outputs": [
    {
     "data": {
      "text/plain": [
       "['机器学习', '南京大学', '招生', '实验室', '挖掘', '数据']"
      ]
     },
     "execution_count": 8,
     "metadata": {},
     "output_type": "execute_result"
    }
   ],
   "execution_count": 8
  },
  {
   "metadata": {},
   "cell_type": "markdown",
   "source": "## 02 实战：在线商城的评价分析",
   "id": "c1c6adc580d084e8"
  },
  {
   "metadata": {},
   "cell_type": "markdown",
   "source": "比较 naive 就不做了",
   "id": "d256a5766db2892"
  }
 ],
 "metadata": {
  "kernelspec": {
   "display_name": "Python 3",
   "language": "python",
   "name": "python3"
  },
  "language_info": {
   "codemirror_mode": {
    "name": "ipython",
    "version": 2
   },
   "file_extension": ".py",
   "mimetype": "text/x-python",
   "name": "python",
   "nbconvert_exporter": "python",
   "pygments_lexer": "ipython2",
   "version": "2.7.6"
  }
 },
 "nbformat": 4,
 "nbformat_minor": 5
}
