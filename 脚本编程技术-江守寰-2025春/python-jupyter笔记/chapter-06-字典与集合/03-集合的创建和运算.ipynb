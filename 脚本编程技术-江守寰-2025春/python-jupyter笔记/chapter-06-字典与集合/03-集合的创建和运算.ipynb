{
 "cells": [
  {
   "metadata": {},
   "cell_type": "markdown",
   "source": [
    "## 1 集合的创建\n",
    "\n",
    "集合类型由一组无序排序不重复的元素组成。集合中的元素类型只能是不可变数据类型。\n",
    "\n",
    "集合分为可变集合（set）和不可变集合（frozonset），下面只介绍常用的可以进行添加、删除元素操作的可变集合。\n"
   ],
   "id": "6d5668d9644e45bc"
  },
  {
   "metadata": {},
   "cell_type": "markdown",
   "source": [
    "可变集合的两种创建方式：\n",
    "- 直接用花括号 `{}` 创建，元素之间以逗号分开\n",
    "- `set()` 函数创建，其他数据类型也可以通过 set() 函数转换为集合"
   ],
   "id": "9ba3b9933349e5ec"
  },
  {
   "metadata": {
    "ExecuteTime": {
     "end_time": "2025-06-29T08:29:06.452547Z",
     "start_time": "2025-06-29T08:29:06.447222Z"
    }
   },
   "cell_type": "code",
   "source": [
    "dict01 = {} # {} 默认创建空字典\n",
    "print(type(dict01)) \n",
    "set01 = {'小魏', '小娜'} # 用 , 分隔元素即可创建集合\n",
    "type(set01)"
   ],
   "id": "8054d0cc8ba9dd86",
   "outputs": [
    {
     "name": "stdout",
     "output_type": "stream",
     "text": [
      "<class 'dict'>\n"
     ]
    },
    {
     "data": {
      "text/plain": [
       "set"
      ]
     },
     "execution_count": 7,
     "metadata": {},
     "output_type": "execute_result"
    }
   ],
   "execution_count": 7
  },
  {
   "metadata": {},
   "cell_type": "markdown",
   "source": "集合中的元素是不重复的",
   "id": "38659419b2394183"
  },
  {
   "metadata": {
    "ExecuteTime": {
     "end_time": "2025-06-29T08:29:06.467565Z",
     "start_time": "2025-06-29T08:29:06.462554Z"
    }
   },
   "cell_type": "code",
   "source": [
    "set02 = {1, 1, 2, 2, 3, 3}\n",
    "set02"
   ],
   "id": "4366a52123112416",
   "outputs": [
    {
     "data": {
      "text/plain": [
       "{1, 2, 3}"
      ]
     },
     "execution_count": 8,
     "metadata": {},
     "output_type": "execute_result"
    }
   ],
   "execution_count": 8
  },
  {
   "metadata": {},
   "cell_type": "markdown",
   "source": "## 2 添加和删除集合元素",
   "id": "71562cf5d6fbe0ae"
  },
  {
   "metadata": {},
   "cell_type": "markdown",
   "source": "添加元素",
   "id": "fbd6734cae2a6cd8"
  },
  {
   "metadata": {
    "ExecuteTime": {
     "end_time": "2025-06-29T08:29:06.487591Z",
     "start_time": "2025-06-29T08:29:06.483589Z"
    }
   },
   "cell_type": "code",
   "source": [
    "set02.add(4)\n",
    "set02"
   ],
   "id": "47b40928496cdf43",
   "outputs": [
    {
     "data": {
      "text/plain": [
       "{1, 2, 3, 4}"
      ]
     },
     "execution_count": 9,
     "metadata": {},
     "output_type": "execute_result"
    }
   ],
   "execution_count": 9
  },
  {
   "metadata": {},
   "cell_type": "markdown",
   "source": [
    "删除元素\n",
    "\n",
    "- discard: 删除一个元素，元素不存在不报错\n",
    "- remove: 删除一个元素，元素不存在报错"
   ],
   "id": "a6f558ef7f877443"
  },
  {
   "metadata": {
    "ExecuteTime": {
     "end_time": "2025-06-29T08:29:06.506295Z",
     "start_time": "2025-06-29T08:29:06.488719Z"
    }
   },
   "cell_type": "code",
   "source": "set02.remove(5)",
   "id": "d93255abb46d77bd",
   "outputs": [
    {
     "ename": "KeyError",
     "evalue": "5",
     "output_type": "error",
     "traceback": [
      "\u001B[1;31m---------------------------------------------------------------------------\u001B[0m",
      "\u001B[1;31mKeyError\u001B[0m                                  Traceback (most recent call last)",
      "Cell \u001B[1;32mIn[10], line 1\u001B[0m\n\u001B[1;32m----> 1\u001B[0m set02\u001B[38;5;241m.\u001B[39mremove(\u001B[38;5;241m5\u001B[39m)\n",
      "\u001B[1;31mKeyError\u001B[0m: 5"
     ]
    }
   ],
   "execution_count": 10
  },
  {
   "metadata": {
    "ExecuteTime": {
     "end_time": "2025-06-29T08:29:10.762166Z",
     "start_time": "2025-06-29T08:29:10.755864Z"
    }
   },
   "cell_type": "code",
   "source": [
    "set02.remove(4)\n",
    "set02"
   ],
   "id": "76e57f36cb545584",
   "outputs": [
    {
     "data": {
      "text/plain": [
       "{1, 2, 3}"
      ]
     },
     "execution_count": 11,
     "metadata": {},
     "output_type": "execute_result"
    }
   ],
   "execution_count": 11
  },
  {
   "metadata": {
    "ExecuteTime": {
     "end_time": "2025-06-29T08:29:25.015017Z",
     "start_time": "2025-06-29T08:29:25.008007Z"
    }
   },
   "cell_type": "code",
   "source": [
    "set02.discard(3)\n",
    "set02"
   ],
   "id": "37feb191b969d874",
   "outputs": [
    {
     "data": {
      "text/plain": [
       "{1, 2}"
      ]
     },
     "execution_count": 12,
     "metadata": {},
     "output_type": "execute_result"
    }
   ],
   "execution_count": 12
  },
  {
   "metadata": {},
   "cell_type": "markdown",
   "source": "## 3 集合的运算",
   "id": "45cda85a899d598c"
  },
  {
   "metadata": {},
   "cell_type": "markdown",
   "source": [
    "- x in S : x 是否在集合中\n",
    "- S == T : 集合是否相同\n",
    "- S <= T or S.issubset(T) : S 是否是 T 的子集\n",
    "- S >= T or S.issuperset(T) : S 是否是 T 的超集\n",
    "- S - T or S.difference(T) : 差集\n",
    "- S & T or S.intersection(T) : 交集\n",
    "- S ^ T or S.symmetric_difference : 对称差集，S \\cup T 再去掉同时在两个集合中的元素\n",
    "- S | T or S.union(T) : 并集\n",
    "- S |= T : 将 T 并入 S"
   ],
   "id": "1447695bae2dea41"
  }
 ],
 "metadata": {
  "kernelspec": {
   "display_name": "Python 3",
   "language": "python",
   "name": "python3"
  },
  "language_info": {
   "codemirror_mode": {
    "name": "ipython",
    "version": 2
   },
   "file_extension": ".py",
   "mimetype": "text/x-python",
   "name": "python",
   "nbconvert_exporter": "python",
   "pygments_lexer": "ipython2",
   "version": "2.7.6"
  }
 },
 "nbformat": 4,
 "nbformat_minor": 5
}
