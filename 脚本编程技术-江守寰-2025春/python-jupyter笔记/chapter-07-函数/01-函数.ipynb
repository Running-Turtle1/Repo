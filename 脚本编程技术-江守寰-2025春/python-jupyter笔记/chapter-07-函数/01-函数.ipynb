{
 "cells": [
  {
   "metadata": {},
   "cell_type": "markdown",
   "source": "## 01 函数的基本使用",
   "id": "80023c0d0431118e"
  },
  {
   "metadata": {},
   "cell_type": "markdown",
   "source": [
    "### 1.1 函数的注释\n",
    "\n",
    "当定义函数没有写函数体时，代码会高亮显示，表示语法有问题，程序无法顺利运行，此时 **pass** 可以充当未完成的代码，使整个程序能正常运行。\n",
    "\n",
    "在 if, for, while 等语句后的语句块，也可以用 pass 进行占位。"
   ],
   "id": "adc69065c5ea427e"
  },
  {
   "metadata": {
    "ExecuteTime": {
     "end_time": "2025-06-29T10:19:43.141511Z",
     "start_time": "2025-06-29T10:19:43.135514Z"
    }
   },
   "cell_type": "code",
   "source": [
    "def is_leap_():\n",
    "    pass"
   ],
   "id": "de9c1c19bad854e1",
   "outputs": [],
   "execution_count": 10
  },
  {
   "metadata": {},
   "cell_type": "markdown",
   "source": [
    "文档注释：\n",
    "'''\n",
    "write in here\n",
    "'''\n",
    "\n",
    "通过 `__doc__` 属性查看文档注释"
   ],
   "id": "ec9e3ac561eba04f"
  },
  {
   "metadata": {
    "ExecuteTime": {
     "end_time": "2025-06-29T10:22:44.407496Z",
     "start_time": "2025-06-29T10:22:44.402994Z"
    }
   },
   "cell_type": "code",
   "source": [
    "def is_leap(year):\n",
    "    '''\n",
    "    判断年份是不是闰年\n",
    "    :param year: 年份\n",
    "    :return: T/F\n",
    "    '''\n",
    "    if (year % 4 == 0 and year % 100 != 0) or year % 400 == 0:\n",
    "        return True\n",
    "    else:\n",
    "        return False\n",
    "\n",
    "print(is_leap.__doc__)"
   ],
   "id": "bd80d16db1e8a1c",
   "outputs": [
    {
     "name": "stdout",
     "output_type": "stream",
     "text": [
      "\n",
      "    判断年份是不是闰年\n",
      "    :param year: 年份\n",
      "    :return: T/F\n",
      "    \n"
     ]
    }
   ],
   "execution_count": 15
  },
  {
   "metadata": {},
   "cell_type": "markdown",
   "source": [
    "### 1.2 参数的包裹传递\n",
    "\n",
    "再定义函数时，有时候不知道调用时会传递多少个实参，Python 提供了能够接受任意数量实参的传参方式，即**参数的包裹传递**。"
   ],
   "id": "1778e5fa1718140d"
  },
  {
   "metadata": {
    "ExecuteTime": {
     "end_time": "2025-06-29T10:25:26.415043Z",
     "start_time": "2025-06-29T10:25:26.409601Z"
    }
   },
   "cell_type": "code",
   "source": [
    "def favorite_language(*languages):\n",
    "    print(languages)\n",
    "\n",
    "favorite_language('Python')\n",
    "\n",
    "favorite_language('Python', 'C/C++', 'Java')"
   ],
   "id": "f1e0be0f98dc7c47",
   "outputs": [
    {
     "name": "stdout",
     "output_type": "stream",
     "text": [
      "('Python',)\n",
      "('Python', 'C/C++', 'Java')\n"
     ]
    }
   ],
   "execution_count": 16
  },
  {
   "metadata": {},
   "cell_type": "markdown",
   "source": "参数的包裹传递还包括接受关键词参数并将其存放到字典中，需要用双引号（**）实现。",
   "id": "7ce238f7eadb38c7"
  },
  {
   "metadata": {
    "ExecuteTime": {
     "end_time": "2025-06-29T10:27:47.557748Z",
     "start_time": "2025-06-29T10:27:47.551666Z"
    }
   },
   "cell_type": "code",
   "source": [
    "def personinfo(**info):\n",
    "    return info\n",
    "personinfo(a = '1', b = '2', c = '3')"
   ],
   "id": "cc6947a44702fdef",
   "outputs": [
    {
     "data": {
      "text/plain": [
       "{'a': '1', 'b': '2', 'c': '3'}"
      ]
     },
     "execution_count": 24,
     "metadata": {},
     "output_type": "execute_result"
    }
   ],
   "execution_count": 24
  },
  {
   "metadata": {},
   "cell_type": "markdown",
   "source": [
    "- 位置形参：def greet(name, age):\n",
    "- 关键字形参：greet(age=18, name='小明')  # 不按顺序也可以\n",
    "- *args：元组形参（可变位置参数），表示接收任意数量的位置参数，这些参数会被打包成一个元组\n",
    "- **kwargs：字典形参（可变关键字参数），接收任意数量的关键字参数，这些参数会被打包成一个字典\n",
    "\n",
    "形参的排列顺序是先位置形参，然后关键字形参，再是元组形参，最后是字典新参，否则程序就会异常"
   ],
   "id": "15331b74c72e12f2"
  },
  {
   "metadata": {
    "ExecuteTime": {
     "end_time": "2025-06-29T10:31:23.709020Z",
     "start_time": "2025-06-29T10:31:23.703876Z"
    }
   },
   "cell_type": "code",
   "source": [
    "def test(name, age, a = 2, b = 3, *args, **args2):\n",
    "    print(name)\n",
    "    print(age)\n",
    "    print(a, b)\n",
    "    print(args)\n",
    "    print(args2)"
   ],
   "id": "2e748bc6f0921b9d",
   "outputs": [],
   "execution_count": 25
  },
  {
   "metadata": {
    "ExecuteTime": {
     "end_time": "2025-06-29T10:33:21.299286Z",
     "start_time": "2025-06-29T10:33:21.294087Z"
    }
   },
   "cell_type": "code",
   "source": "test(1, 2, a = 3, b = 4, aa = 2, bb = 3)",
   "id": "699155b22bff2c0",
   "outputs": [
    {
     "name": "stdout",
     "output_type": "stream",
     "text": [
      "1\n",
      "2\n",
      "3 4\n",
      "()\n",
      "{'aa': 2, 'bb': 3}\n"
     ]
    }
   ],
   "execution_count": 39
  },
  {
   "metadata": {},
   "cell_type": "markdown",
   "source": "tips: 我发现这么写容易出很多问题，一般还是别掺在一起写。",
   "id": "eed2c10a3ec75d18"
  },
  {
   "metadata": {},
   "cell_type": "markdown",
   "source": "### 1.3 可变对象作为参数",
   "id": "2ef3394c7706b8d1"
  },
  {
   "metadata": {},
   "cell_type": "markdown",
   "source": "当不可变对象作为实参时，在函数内部参数的改变不会影响到该不可变对象的值。",
   "id": "9de6b17c3b6e36eb"
  },
  {
   "metadata": {
    "ExecuteTime": {
     "end_time": "2025-06-29T10:44:53.708338Z",
     "start_time": "2025-06-29T10:44:53.701821Z"
    }
   },
   "cell_type": "code",
   "source": [
    "def join_str(brand):\n",
    "    brand = 'www.' + brand + '.top'\n",
    "    return brand\n",
    "\n",
    "brand = 'weipengchao'\n",
    "url = join_str(brand)\n",
    "\n",
    "print(brand)\n",
    "print(url)"
   ],
   "id": "695c80fb78b13c70",
   "outputs": [
    {
     "name": "stdout",
     "output_type": "stream",
     "text": [
      "weipengchao\n",
      "www.weipengchao.top\n"
     ]
    }
   ],
   "execution_count": 42
  },
  {
   "metadata": {},
   "cell_type": "markdown",
   "source": "可变对象作为参数，相当于将可变对象直接传入函数，函数中的任何变动都会直接影响可变对象。",
   "id": "2c6c34ee902da1f8"
  },
  {
   "metadata": {
    "ExecuteTime": {
     "end_time": "2025-06-29T10:46:44.340677Z",
     "start_time": "2025-06-29T10:46:44.335519Z"
    }
   },
   "cell_type": "code",
   "source": [
    "def change_shelves(goods_list):\n",
    "    goods_list.append('礼盒')\n",
    "    return goods_list\n",
    "\n",
    "goods_list = ['牛奶', '薯片', '巧克力']\n",
    "result = change_shelves(goods_list)\n",
    "\n",
    "print(goods_list) # 会发现传入的参数的值也被改变了\n",
    "print(result) "
   ],
   "id": "97c1ef84f0ea2c58",
   "outputs": [
    {
     "name": "stdout",
     "output_type": "stream",
     "text": [
      "['牛奶', '薯片', '巧克力', '礼盒']\n",
      "['牛奶', '薯片', '巧克力', '礼盒']\n"
     ]
    }
   ],
   "execution_count": 45
  },
  {
   "metadata": {},
   "cell_type": "markdown",
   "source": "## 02 实战：哥德巴赫猜想",
   "id": "c92e3d03fc8f4e49"
  },
  {
   "metadata": {
    "ExecuteTime": {
     "end_time": "2025-06-29T10:56:54.689580Z",
     "start_time": "2025-06-29T10:56:54.681979Z"
    }
   },
   "cell_type": "code",
   "source": [
    "import math\n",
    "\n",
    "def is_even(num):\n",
    "    '''\n",
    "    判断一个数是否是偶数\n",
    "    :param num: \n",
    "    :return: \n",
    "    '''\n",
    "    if num % 2 == 0:\n",
    "        return True\n",
    "    else:\n",
    "        return False\n",
    "\n",
    "def is_prime(num):\n",
    "    '''\n",
    "    判断一个数是否是质数\n",
    "    :param num: \n",
    "    :return: \n",
    "    '''\n",
    "    if num <= 1:\n",
    "        return False\n",
    "    sqrtNum = int(math.sqrt(num))\n",
    "    for i in range(2, sqrtNum + 1):\n",
    "        if num % i == 0:\n",
    "            return False\n",
    "    return True\n",
    "\n",
    "def can_split(num):\n",
    "    '''\n",
    "    判断一个数能都分解为两个素数的和\n",
    "    :param num: \n",
    "    :return: \n",
    "    '''\n",
    "    split_list = []\n",
    "    for i in range(2, num // 2 + 1):\n",
    "        j = num - i\n",
    "        if is_even(i) and is_prime(i) and is_prime(j):\n",
    "            split_list.append(f'{num} = {i} + {j}')\n",
    "    if not split_list:\n",
    "        split_list.append('无法分解为两个素数之和')\n",
    "    return split_list\n",
    "    \n",
    "print(can_split(15))"
   ],
   "id": "3ff30e76e9fbf929",
   "outputs": [
    {
     "name": "stdout",
     "output_type": "stream",
     "text": [
      "['15 = 2 + 13']\n"
     ]
    }
   ],
   "execution_count": 48
  }
 ],
 "metadata": {
  "kernelspec": {
   "display_name": "Python 3",
   "language": "python",
   "name": "python3"
  },
  "language_info": {
   "codemirror_mode": {
    "name": "ipython",
    "version": 2
   },
   "file_extension": ".py",
   "mimetype": "text/x-python",
   "name": "python",
   "nbconvert_exporter": "python",
   "pygments_lexer": "ipython2",
   "version": "2.7.6"
  }
 },
 "nbformat": 4,
 "nbformat_minor": 5
}
