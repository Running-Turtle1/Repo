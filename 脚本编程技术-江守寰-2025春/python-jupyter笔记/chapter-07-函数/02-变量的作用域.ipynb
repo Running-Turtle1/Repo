{
 "cells": [
  {
   "metadata": {},
   "cell_type": "markdown",
   "source": [
    "## 2 变量的作用域\n",
    "\n",
    "变量起作用的代码范围称为**变量的作用域**，根据变量作用域的不同，变量可以分为：\n",
    "- 局部变量\n",
    "- 全局变量"
   ],
   "id": "1330b8b1b1d9cb42"
  },
  {
   "metadata": {},
   "cell_type": "markdown",
   "source": [
    "### 2.1 局部变量\n",
    "\n",
    "局部变量是在函数内部使用的变量，只在函数内部使用。当函数执行完毕后，局部变量将不复存在。"
   ],
   "id": "f710389314914bd9"
  },
  {
   "metadata": {
    "ExecuteTime": {
     "end_time": "2025-06-29T11:00:48.604482Z",
     "start_time": "2025-06-29T11:00:48.104513Z"
    }
   },
   "cell_type": "code",
   "source": [
    "def func(a):\n",
    "    return a\n",
    "\n",
    "res = func(3)\n",
    "\n",
    "print(a) # a 未定义"
   ],
   "id": "865eebbb342bb53b",
   "outputs": [
    {
     "ename": "NameError",
     "evalue": "name 'a' is not defined",
     "output_type": "error",
     "traceback": [
      "\u001B[1;31m---------------------------------------------------------------------------\u001B[0m",
      "\u001B[1;31mNameError\u001B[0m                                 Traceback (most recent call last)",
      "Cell \u001B[1;32mIn[2], line 6\u001B[0m\n\u001B[0;32m      2\u001B[0m     \u001B[38;5;28;01mreturn\u001B[39;00m a\n\u001B[0;32m      4\u001B[0m res \u001B[38;5;241m=\u001B[39m func(\u001B[38;5;241m3\u001B[39m)\n\u001B[1;32m----> 6\u001B[0m \u001B[38;5;28mprint\u001B[39m(a)\n",
      "\u001B[1;31mNameError\u001B[0m: name 'a' is not defined"
     ]
    }
   ],
   "execution_count": 2
  },
  {
   "metadata": {},
   "cell_type": "markdown",
   "source": [
    "### 2.2 全局变量\n",
    "\n",
    "全局变量是指在函数之外进行定义的变量，能在整个程序中使用"
   ],
   "id": "f51fb68d73dc4e38"
  },
  {
   "metadata": {},
   "cell_type": "markdown",
   "source": [
    "Python 会在 函数作用域中 发现你给 x 赋值了（x = x + 2），于是把它当作局部变量。\n",
    "但在右侧的 x + 2 中，x 尚未定义（函数内部的 x 没有初始值），所以报错。"
   ],
   "id": "dc50be89702a15ef"
  },
  {
   "metadata": {
    "ExecuteTime": {
     "end_time": "2025-06-29T11:02:16.887683Z",
     "start_time": "2025-06-29T11:02:16.863710Z"
    }
   },
   "cell_type": "code",
   "source": [
    "x = 3\n",
    "def func():\n",
    "    x = x + 2\n",
    "    print(x)\n",
    "func()"
   ],
   "id": "762cf9c5a9418cd3",
   "outputs": [
    {
     "ename": "UnboundLocalError",
     "evalue": "cannot access local variable 'x' where it is not associated with a value",
     "output_type": "error",
     "traceback": [
      "\u001B[1;31m---------------------------------------------------------------------------\u001B[0m",
      "\u001B[1;31mUnboundLocalError\u001B[0m                         Traceback (most recent call last)",
      "Cell \u001B[1;32mIn[3], line 5\u001B[0m\n\u001B[0;32m      3\u001B[0m     x \u001B[38;5;241m=\u001B[39m x \u001B[38;5;241m+\u001B[39m \u001B[38;5;241m2\u001B[39m\n\u001B[0;32m      4\u001B[0m     \u001B[38;5;28mprint\u001B[39m(x)\n\u001B[1;32m----> 5\u001B[0m func()\n",
      "Cell \u001B[1;32mIn[3], line 3\u001B[0m, in \u001B[0;36mfunc\u001B[1;34m()\u001B[0m\n\u001B[0;32m      2\u001B[0m \u001B[38;5;28;01mdef\u001B[39;00m \u001B[38;5;21mfunc\u001B[39m():\n\u001B[1;32m----> 3\u001B[0m     x \u001B[38;5;241m=\u001B[39m x \u001B[38;5;241m+\u001B[39m \u001B[38;5;241m2\u001B[39m\n\u001B[0;32m      4\u001B[0m     \u001B[38;5;28mprint\u001B[39m(x)\n",
      "\u001B[1;31mUnboundLocalError\u001B[0m: cannot access local variable 'x' where it is not associated with a value"
     ]
    }
   ],
   "execution_count": 3
  },
  {
   "metadata": {},
   "cell_type": "markdown",
   "source": "解决方案：使用关键字 `global` 可以声明变量是全局变量",
   "id": "e1d0f85c11b945c3"
  },
  {
   "metadata": {
    "ExecuteTime": {
     "end_time": "2025-06-29T11:03:49.009876Z",
     "start_time": "2025-06-29T11:03:49.003394Z"
    }
   },
   "cell_type": "code",
   "source": [
    "x = 3\n",
    "def func():\n",
    "    global x\n",
    "    x = x + 2\n",
    "    print(x)\n",
    "func()"
   ],
   "id": "a92eaa9cf971fbee",
   "outputs": [
    {
     "name": "stdout",
     "output_type": "stream",
     "text": [
      "5\n"
     ]
    }
   ],
   "execution_count": 4
  },
  {
   "metadata": {},
   "cell_type": "markdown",
   "source": [
    "- 不可变的数据类型作为局部变量，仅能在函数内部创建使用，函数执行结果后就会释放\n",
    "- 不可变的数据类型可以使用 global 关键字转换为全局变量\n",
    "- 可变数据类型作为全局变量，函数内部没有创建同名的变量，可以直接使用并修改全局变量得知\n",
    "- 可变数据类型作为全局变量，函数中如果已经创建好同名的局部变量，则仅对内部变量进行操作"
   ],
   "id": "69803ebe27795230"
  },
  {
   "metadata": {
    "ExecuteTime": {
     "end_time": "2025-06-29T11:05:53.195729Z",
     "start_time": "2025-06-29T11:05:53.188042Z"
    }
   },
   "cell_type": "code",
   "source": [
    "x = [1, 2, 3]\n",
    "\n",
    "def func():\n",
    "    x.append(4)\n",
    "    \n",
    "func()\n",
    "print(x) # x 被改变了"
   ],
   "id": "f93206b42f126c95",
   "outputs": [
    {
     "name": "stdout",
     "output_type": "stream",
     "text": [
      "[1, 2, 3, 4]\n"
     ]
    }
   ],
   "execution_count": 6
  },
  {
   "metadata": {
    "ExecuteTime": {
     "end_time": "2025-06-29T11:06:12.882059Z",
     "start_time": "2025-06-29T11:06:12.877038Z"
    }
   },
   "cell_type": "code",
   "source": [
    "x = [1, 2, 3]\n",
    "\n",
    "def func():\n",
    "    x = [1, 2, 3]\n",
    "    x.append(4)\n",
    "    \n",
    "func()\n",
    "print(x) # x 不会被改变"
   ],
   "id": "cd75258d91847e0",
   "outputs": [
    {
     "name": "stdout",
     "output_type": "stream",
     "text": [
      "[1, 2, 3]\n"
     ]
    }
   ],
   "execution_count": 7
  },
  {
   "metadata": {
    "ExecuteTime": {
     "end_time": "2025-06-29T11:15:30.335114Z",
     "start_time": "2025-06-29T11:15:30.325536Z"
    }
   },
   "cell_type": "code",
   "source": "globals() # 查看全局变量 ",
   "id": "c86f686763174e3c",
   "outputs": [
    {
     "data": {
      "text/plain": [
       "{'__name__': '__main__',\n",
       " '__doc__': 'Automatically created module for IPython interactive environment',\n",
       " '__package__': None,\n",
       " '__loader__': None,\n",
       " '__spec__': None,\n",
       " '__builtin__': <module 'builtins' (built-in)>,\n",
       " '__builtins__': <module 'builtins' (built-in)>,\n",
       " '_ih': ['',\n",
       "  '### 局部变量',\n",
       "  'def func(a):\\n    return a\\n\\nres = func(3)\\n\\nprint(a) # a 未定义',\n",
       "  'x = 3\\ndef func():\\n    x = x + 2\\n    print(x)\\nfunc()',\n",
       "  'x = 3\\ndef func():\\n    global x\\n    x = x + 2\\n    print(x)\\nfunc()',\n",
       "  'x = [1, 2, 3]\\n\\ndef func():\\n    x.append(4)\\n    \\nprint(x)',\n",
       "  'x = [1, 2, 3]\\n\\ndef func():\\n    x.append(4)\\nfunc()\\nprint(x)',\n",
       "  'x = [1, 2, 3]\\n\\ndef func():\\n    x = [1, 2, 3]\\n    x.append(4)\\n    \\nfunc()\\nprint(x) # x 被改变了',\n",
       "  'globals()'],\n",
       " '_oh': {},\n",
       " '_dh': [WindowsPath('C:/Users/95432/Desktop/动手学习深度学习v2/python-jsh/chapter-07-函数')],\n",
       " 'In': ['',\n",
       "  '### 局部变量',\n",
       "  'def func(a):\\n    return a\\n\\nres = func(3)\\n\\nprint(a) # a 未定义',\n",
       "  'x = 3\\ndef func():\\n    x = x + 2\\n    print(x)\\nfunc()',\n",
       "  'x = 3\\ndef func():\\n    global x\\n    x = x + 2\\n    print(x)\\nfunc()',\n",
       "  'x = [1, 2, 3]\\n\\ndef func():\\n    x.append(4)\\n    \\nprint(x)',\n",
       "  'x = [1, 2, 3]\\n\\ndef func():\\n    x.append(4)\\nfunc()\\nprint(x)',\n",
       "  'x = [1, 2, 3]\\n\\ndef func():\\n    x = [1, 2, 3]\\n    x.append(4)\\n    \\nfunc()\\nprint(x) # x 被改变了',\n",
       "  'globals()'],\n",
       " 'Out': {},\n",
       " 'get_ipython': <bound method InteractiveShell.get_ipython of <ipykernel.zmqshell.ZMQInteractiveShell object at 0x00000276F00FEC90>>,\n",
       " 'exit': <IPython.core.autocall.ZMQExitAutocall at 0x276ee85a120>,\n",
       " 'quit': <IPython.core.autocall.ZMQExitAutocall at 0x276ee85a120>,\n",
       " 'open': <function _io.open(file, mode='r', buffering=-1, encoding=None, errors=None, newline=None, closefd=True, opener=None)>,\n",
       " '_': '',\n",
       " '__': '',\n",
       " '___': '',\n",
       " '__session__': 'python-jsh/chapter-07-函数/02-变量的作用域.ipynb',\n",
       " '_i': 'x = [1, 2, 3]\\n\\ndef func():\\n    x = [1, 2, 3]\\n    x.append(4)\\n    \\nfunc()\\nprint(x) # x 被改变了',\n",
       " '_ii': 'x = [1, 2, 3]\\n\\ndef func():\\n    x.append(4)\\nfunc()\\nprint(x)',\n",
       " '_iii': 'x = [1, 2, 3]\\n\\ndef func():\\n    x.append(4)\\n    \\nprint(x)',\n",
       " '_i1': '### 局部变量',\n",
       " 'sys': <module 'sys' (built-in)>,\n",
       " 'remove_imported_pydev_package': <function pydev_jupyter_utils.remove_imported_pydev_package()>,\n",
       " '_pydevd_bundle': <module '_pydevd_bundle' from 'E:\\\\pycharmProfessional\\\\PyCharm 2024.1.1\\\\plugins\\\\python\\\\helpers\\\\pydev\\\\_pydevd_bundle\\\\__init__.py'>,\n",
       " 'pydev_jupyter_vars': <module 'pydev_jupyter_vars' from 'E:\\\\pycharmProfessional\\\\PyCharm 2024.1.1\\\\plugins\\\\python\\\\helpers-pro\\\\jupyter_debug\\\\pydev_jupyter_vars.py'>,\n",
       " '_i2': 'def func(a):\\n    return a\\n\\nres = func(3)\\n\\nprint(a) # a 未定义',\n",
       " 'func': <function __main__.func()>,\n",
       " 'res': 3,\n",
       " '_i3': 'x = 3\\ndef func():\\n    x = x + 2\\n    print(x)\\nfunc()',\n",
       " 'x': [1, 2, 3],\n",
       " '_i4': 'x = 3\\ndef func():\\n    global x\\n    x = x + 2\\n    print(x)\\nfunc()',\n",
       " '_i5': 'x = [1, 2, 3]\\n\\ndef func():\\n    x.append(4)\\n    \\nprint(x)',\n",
       " '_i6': 'x = [1, 2, 3]\\n\\ndef func():\\n    x.append(4)\\nfunc()\\nprint(x)',\n",
       " '_i7': 'x = [1, 2, 3]\\n\\ndef func():\\n    x = [1, 2, 3]\\n    x.append(4)\\n    \\nfunc()\\nprint(x) # x 被改变了',\n",
       " '_i8': 'globals()'}"
      ]
     },
     "execution_count": 8,
     "metadata": {},
     "output_type": "execute_result"
    }
   ],
   "execution_count": 8
  },
  {
   "metadata": {
    "ExecuteTime": {
     "end_time": "2025-06-29T11:15:36.455515Z",
     "start_time": "2025-06-29T11:15:36.448947Z"
    }
   },
   "cell_type": "code",
   "source": "locals() # 查看局部变量",
   "id": "238ea462addc2871",
   "outputs": [
    {
     "data": {
      "text/plain": [
       "{'__name__': '__main__',\n",
       " '__doc__': 'Automatically created module for IPython interactive environment',\n",
       " '__package__': None,\n",
       " '__loader__': None,\n",
       " '__spec__': None,\n",
       " '__builtin__': <module 'builtins' (built-in)>,\n",
       " '__builtins__': <module 'builtins' (built-in)>,\n",
       " '_ih': ['',\n",
       "  '### 局部变量',\n",
       "  'def func(a):\\n    return a\\n\\nres = func(3)\\n\\nprint(a) # a 未定义',\n",
       "  'x = 3\\ndef func():\\n    x = x + 2\\n    print(x)\\nfunc()',\n",
       "  'x = 3\\ndef func():\\n    global x\\n    x = x + 2\\n    print(x)\\nfunc()',\n",
       "  'x = [1, 2, 3]\\n\\ndef func():\\n    x.append(4)\\n    \\nprint(x)',\n",
       "  'x = [1, 2, 3]\\n\\ndef func():\\n    x.append(4)\\nfunc()\\nprint(x)',\n",
       "  'x = [1, 2, 3]\\n\\ndef func():\\n    x = [1, 2, 3]\\n    x.append(4)\\n    \\nfunc()\\nprint(x) # x 被改变了',\n",
       "  'globals()',\n",
       "  'locals()'],\n",
       " '_oh': {8: {...}},\n",
       " '_dh': [WindowsPath('C:/Users/95432/Desktop/动手学习深度学习v2/python-jsh/chapter-07-函数')],\n",
       " 'In': ['',\n",
       "  '### 局部变量',\n",
       "  'def func(a):\\n    return a\\n\\nres = func(3)\\n\\nprint(a) # a 未定义',\n",
       "  'x = 3\\ndef func():\\n    x = x + 2\\n    print(x)\\nfunc()',\n",
       "  'x = 3\\ndef func():\\n    global x\\n    x = x + 2\\n    print(x)\\nfunc()',\n",
       "  'x = [1, 2, 3]\\n\\ndef func():\\n    x.append(4)\\n    \\nprint(x)',\n",
       "  'x = [1, 2, 3]\\n\\ndef func():\\n    x.append(4)\\nfunc()\\nprint(x)',\n",
       "  'x = [1, 2, 3]\\n\\ndef func():\\n    x = [1, 2, 3]\\n    x.append(4)\\n    \\nfunc()\\nprint(x) # x 被改变了',\n",
       "  'globals()',\n",
       "  'locals()'],\n",
       " 'Out': {8: {...}},\n",
       " 'get_ipython': <bound method InteractiveShell.get_ipython of <ipykernel.zmqshell.ZMQInteractiveShell object at 0x00000276F00FEC90>>,\n",
       " 'exit': <IPython.core.autocall.ZMQExitAutocall at 0x276ee85a120>,\n",
       " 'quit': <IPython.core.autocall.ZMQExitAutocall at 0x276ee85a120>,\n",
       " 'open': <function _io.open(file, mode='r', buffering=-1, encoding=None, errors=None, newline=None, closefd=True, opener=None)>,\n",
       " '_': {...},\n",
       " '__': '',\n",
       " '___': '',\n",
       " '__session__': 'python-jsh/chapter-07-函数/02-变量的作用域.ipynb',\n",
       " '_i': 'globals()',\n",
       " '_ii': 'x = [1, 2, 3]\\n\\ndef func():\\n    x = [1, 2, 3]\\n    x.append(4)\\n    \\nfunc()\\nprint(x) # x 被改变了',\n",
       " '_iii': 'x = [1, 2, 3]\\n\\ndef func():\\n    x.append(4)\\nfunc()\\nprint(x)',\n",
       " '_i1': '### 局部变量',\n",
       " 'sys': <module 'sys' (built-in)>,\n",
       " 'remove_imported_pydev_package': <function pydev_jupyter_utils.remove_imported_pydev_package()>,\n",
       " '_pydevd_bundle': <module '_pydevd_bundle' from 'E:\\\\pycharmProfessional\\\\PyCharm 2024.1.1\\\\plugins\\\\python\\\\helpers\\\\pydev\\\\_pydevd_bundle\\\\__init__.py'>,\n",
       " 'pydev_jupyter_vars': <module 'pydev_jupyter_vars' from 'E:\\\\pycharmProfessional\\\\PyCharm 2024.1.1\\\\plugins\\\\python\\\\helpers-pro\\\\jupyter_debug\\\\pydev_jupyter_vars.py'>,\n",
       " '_i2': 'def func(a):\\n    return a\\n\\nres = func(3)\\n\\nprint(a) # a 未定义',\n",
       " 'func': <function __main__.func()>,\n",
       " 'res': 3,\n",
       " '_i3': 'x = 3\\ndef func():\\n    x = x + 2\\n    print(x)\\nfunc()',\n",
       " 'x': [1, 2, 3],\n",
       " '_i4': 'x = 3\\ndef func():\\n    global x\\n    x = x + 2\\n    print(x)\\nfunc()',\n",
       " '_i5': 'x = [1, 2, 3]\\n\\ndef func():\\n    x.append(4)\\n    \\nprint(x)',\n",
       " '_i6': 'x = [1, 2, 3]\\n\\ndef func():\\n    x.append(4)\\nfunc()\\nprint(x)',\n",
       " '_i7': 'x = [1, 2, 3]\\n\\ndef func():\\n    x = [1, 2, 3]\\n    x.append(4)\\n    \\nfunc()\\nprint(x) # x 被改变了',\n",
       " '_i8': 'globals()',\n",
       " '_8': {...},\n",
       " '_i9': 'locals()'}"
      ]
     },
     "execution_count": 9,
     "metadata": {},
     "output_type": "execute_result"
    }
   ],
   "execution_count": 9
  },
  {
   "metadata": {},
   "cell_type": "markdown",
   "source": [
    "### 2.3 nonlocal 关键字\n",
    "\n",
    "在 Python 中允许定义嵌套函数"
   ],
   "id": "4914a1673c53bea7"
  },
  {
   "metadata": {
    "ExecuteTime": {
     "end_time": "2025-06-29T11:26:11.989120Z",
     "start_time": "2025-06-29T11:26:11.983720Z"
    }
   },
   "cell_type": "code",
   "source": [
    "def f2():\n",
    "    print('f2 starts')\n",
    "    def f1():\n",
    "        print('f1 starts')\n",
    "        print('f1 ends')\n",
    "    f1()\n",
    "    print('f2 ends')\n",
    "\n",
    "f2()"
   ],
   "id": "66e9cae90b338509",
   "outputs": [
    {
     "name": "stdout",
     "output_type": "stream",
     "text": [
      "f2 starts\n",
      "f1 starts\n",
      "f1 ends\n",
      "f2 ends\n"
     ]
    }
   ],
   "execution_count": 10
  },
  {
   "metadata": {},
   "cell_type": "markdown",
   "source": "nonlocal 的使用",
   "id": "fa9f683b8ef04ee2"
  },
  {
   "metadata": {
    "ExecuteTime": {
     "end_time": "2025-06-29T11:26:46.891320Z",
     "start_time": "2025-06-29T11:26:46.885303Z"
    }
   },
   "cell_type": "code",
   "source": [
    "def f2():\n",
    "    x = 5\n",
    "    def f1():\n",
    "        print(x)\n",
    "    f1()\n",
    "\n",
    "f2()"
   ],
   "id": "8dac07bdf43a3af1",
   "outputs": [
    {
     "name": "stdout",
     "output_type": "stream",
     "text": [
      "5\n"
     ]
    }
   ],
   "execution_count": 13
  },
  {
   "metadata": {
    "ExecuteTime": {
     "end_time": "2025-06-29T11:26:54.532561Z",
     "start_time": "2025-06-29T11:26:54.503635Z"
    }
   },
   "cell_type": "code",
   "source": [
    "def f2():\n",
    "    x = 5\n",
    "    def f1():\n",
    "        x += 1 # 增加一个赋值语句就会出错, 这个表达式等价于 x = x + 1, py 先去找局部变量 x 发现未定义就出错了\n",
    "        print(x)\n",
    "    f1()\n",
    "\n",
    "f2()"
   ],
   "id": "a613c1882662a64",
   "outputs": [
    {
     "ename": "UnboundLocalError",
     "evalue": "cannot access local variable 'x' where it is not associated with a value",
     "output_type": "error",
     "traceback": [
      "\u001B[1;31m---------------------------------------------------------------------------\u001B[0m",
      "\u001B[1;31mUnboundLocalError\u001B[0m                         Traceback (most recent call last)",
      "Cell \u001B[1;32mIn[14], line 8\u001B[0m\n\u001B[0;32m      5\u001B[0m         \u001B[38;5;28mprint\u001B[39m(x)\n\u001B[0;32m      6\u001B[0m     f1()\n\u001B[1;32m----> 8\u001B[0m f2()\n",
      "Cell \u001B[1;32mIn[14], line 6\u001B[0m, in \u001B[0;36mf2\u001B[1;34m()\u001B[0m\n\u001B[0;32m      4\u001B[0m     x \u001B[38;5;241m+\u001B[39m\u001B[38;5;241m=\u001B[39m \u001B[38;5;241m1\u001B[39m\n\u001B[0;32m      5\u001B[0m     \u001B[38;5;28mprint\u001B[39m(x)\n\u001B[1;32m----> 6\u001B[0m f1()\n",
      "Cell \u001B[1;32mIn[14], line 4\u001B[0m, in \u001B[0;36mf2.<locals>.f1\u001B[1;34m()\u001B[0m\n\u001B[0;32m      3\u001B[0m \u001B[38;5;28;01mdef\u001B[39;00m \u001B[38;5;21mf1\u001B[39m():\n\u001B[1;32m----> 4\u001B[0m     x \u001B[38;5;241m+\u001B[39m\u001B[38;5;241m=\u001B[39m \u001B[38;5;241m1\u001B[39m\n\u001B[0;32m      5\u001B[0m     \u001B[38;5;28mprint\u001B[39m(x)\n",
      "\u001B[1;31mUnboundLocalError\u001B[0m: cannot access local variable 'x' where it is not associated with a value"
     ]
    }
   ],
   "execution_count": 14
  },
  {
   "metadata": {
    "ExecuteTime": {
     "end_time": "2025-06-29T11:27:27.195810Z",
     "start_time": "2025-06-29T11:27:27.190777Z"
    }
   },
   "cell_type": "code",
   "source": [
    "def f2():\n",
    "    x = 5\n",
    "    def f1():\n",
    "        nonlocal x\n",
    "        x += 1\n",
    "        print(x)\n",
    "    f1()\n",
    "\n",
    "f2()"
   ],
   "id": "a684bed061e31832",
   "outputs": [
    {
     "name": "stdout",
     "output_type": "stream",
     "text": [
      "6\n"
     ]
    }
   ],
   "execution_count": 15
  }
 ],
 "metadata": {
  "kernelspec": {
   "display_name": "Python 3",
   "language": "python",
   "name": "python3"
  },
  "language_info": {
   "codemirror_mode": {
    "name": "ipython",
    "version": 2
   },
   "file_extension": ".py",
   "mimetype": "text/x-python",
   "name": "python",
   "nbconvert_exporter": "python",
   "pygments_lexer": "ipython2",
   "version": "2.7.6"
  }
 },
 "nbformat": 4,
 "nbformat_minor": 5
}
