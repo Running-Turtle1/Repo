{
 "cells": [
  {
   "metadata": {},
   "cell_type": "markdown",
   "source": "## 递归",
   "id": "a939b669b52ab889"
  },
  {
   "metadata": {},
   "cell_type": "markdown",
   "source": "1 计算一个数的 n 次方",
   "id": "f3cf1dce436ee3d6"
  },
  {
   "metadata": {
    "ExecuteTime": {
     "end_time": "2025-06-29T11:30:29.809757Z",
     "start_time": "2025-06-29T11:30:29.800348Z"
    }
   },
   "cell_type": "code",
   "source": [
    "def cal_power(x, n):\n",
    "    if n == 0:\n",
    "        return 1\n",
    "    return x * cal_power(x, n - 1)\n",
    "\n",
    "cal_power(2, 10)"
   ],
   "id": "d0ca9a04c128814f",
   "outputs": [
    {
     "data": {
      "text/plain": [
       "1024"
      ]
     },
     "execution_count": 2,
     "metadata": {},
     "output_type": "execute_result"
    }
   ],
   "execution_count": 2
  },
  {
   "metadata": {},
   "cell_type": "markdown",
   "source": "## 2 快速排序",
   "id": "7d242218c160c163"
  },
  {
   "metadata": {
    "ExecuteTime": {
     "end_time": "2025-06-29T11:32:00.290933Z",
     "start_time": "2025-06-29T11:32:00.282428Z"
    }
   },
   "cell_type": "code",
   "source": [
    "def quick_sort(arr):\n",
    "    if len(arr) <= 1:\n",
    "        return arr\n",
    "    pivot = arr[0]\n",
    "    l = [x for x in arr[1:] if x < pivot]\n",
    "    r = [x for x in arr[1:] if x >= pivot]\n",
    "    return quick_sort(l) + [pivot] + quick_sort(r)\n",
    "\n",
    "quick_sort([4, 3, 5, 2, 1])"
   ],
   "id": "863370e76d39aa8b",
   "outputs": [
    {
     "data": {
      "text/plain": [
       "[1, 2, 3, 4, 5]"
      ]
     },
     "execution_count": 3,
     "metadata": {},
     "output_type": "execute_result"
    }
   ],
   "execution_count": 3
  }
 ],
 "metadata": {
  "kernelspec": {
   "display_name": "Python 3",
   "language": "python",
   "name": "python3"
  },
  "language_info": {
   "codemirror_mode": {
    "name": "ipython",
    "version": 2
   },
   "file_extension": ".py",
   "mimetype": "text/x-python",
   "name": "python",
   "nbconvert_exporter": "python",
   "pygments_lexer": "ipython2",
   "version": "2.7.6"
  }
 },
 "nbformat": 4,
 "nbformat_minor": 5
}
