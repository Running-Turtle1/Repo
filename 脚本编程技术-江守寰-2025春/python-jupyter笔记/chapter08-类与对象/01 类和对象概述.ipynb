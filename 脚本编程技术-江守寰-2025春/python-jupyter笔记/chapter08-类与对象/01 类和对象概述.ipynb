{
 "cells": [
  {
   "metadata": {},
   "cell_type": "markdown",
   "source": "## 01-1 类的基本使用",
   "id": "2a2fc77991eec289"
  },
  {
   "metadata": {},
   "cell_type": "markdown",
   "source": "### 1.1 类的定义",
   "id": "52004d7a78d183eb"
  },
  {
   "cell_type": "code",
   "id": "initial_id",
   "metadata": {
    "collapsed": true,
    "ExecuteTime": {
     "end_time": "2025-06-29T12:32:26.266910Z",
     "start_time": "2025-06-29T12:32:26.257853Z"
    }
   },
   "source": [
    "class Dog:\n",
    "    def __init__(self, name, breed, age):\n",
    "        self.name = name\n",
    "        self.breed = breed\n",
    "        self.age = age\n",
    "    \n",
    "    def eat(self):\n",
    "        print(f'{self.name} eats')\n",
    "    \n",
    "    def run(self):\n",
    "        print(f'{self.name} runs')"
   ],
   "outputs": [],
   "execution_count": 29
  },
  {
   "metadata": {
    "ExecuteTime": {
     "end_time": "2025-06-29T12:32:26.315250Z",
     "start_time": "2025-06-29T12:32:26.307867Z"
    }
   },
   "cell_type": "code",
   "source": [
    "dog1 = Dog('刘博', '哈巴狗', '3')\n",
    "dog1.eat()\n",
    "dog1.run()\n",
    "print(f'狗狗的名字是{dog1.name}')\n",
    "print(f'狗狗的品种是{dog1.breed}')\n",
    "print(f'狗狗的年龄是{dog1.age}')"
   ],
   "id": "ffc062edeedfb3dd",
   "outputs": [
    {
     "name": "stdout",
     "output_type": "stream",
     "text": [
      "刘博 eats\n",
      "刘博 runs\n",
      "狗狗的名字是刘博\n",
      "狗狗的品种是哈巴狗\n",
      "狗狗的年龄是3\n"
     ]
    }
   ],
   "execution_count": 30
  },
  {
   "metadata": {},
   "cell_type": "markdown",
   "source": [
    "### 1.2 私有属性\n",
    "\n",
    "在 Python 中，属性前加两个下划线可以定义私有属性，私有属性只能在类内访问"
   ],
   "id": "5b09dbbe013a63aa"
  },
  {
   "metadata": {
    "ExecuteTime": {
     "end_time": "2025-06-29T12:32:26.328458Z",
     "start_time": "2025-06-29T12:32:26.318844Z"
    }
   },
   "cell_type": "code",
   "source": [
    "class cat:\n",
    "    def __init__(self, name = '白手套'):\n",
    "        self.__name = name\n",
    "        \n",
    "    def setName(self, name):\n",
    "        self.__name = name\n",
    "    \n",
    "    def getName(self):\n",
    "        return self.__name\n",
    "    \n",
    "cat1 = cat('黑手套')\n",
    "\n",
    "print(cat1.getName())"
   ],
   "id": "3f70ea8f9ffaccc9",
   "outputs": [
    {
     "name": "stdout",
     "output_type": "stream",
     "text": [
      "黑手套\n"
     ]
    }
   ],
   "execution_count": 31
  },
  {
   "metadata": {
    "ExecuteTime": {
     "end_time": "2025-06-29T12:32:26.360160Z",
     "start_time": "2025-06-29T12:32:26.332012Z"
    }
   },
   "cell_type": "code",
   "source": "cat1.__name",
   "id": "9d3d92d6df8b2a1c",
   "outputs": [
    {
     "ename": "AttributeError",
     "evalue": "'cat' object has no attribute '__name'",
     "output_type": "error",
     "traceback": [
      "\u001B[1;31m---------------------------------------------------------------------------\u001B[0m",
      "\u001B[1;31mAttributeError\u001B[0m                            Traceback (most recent call last)",
      "Cell \u001B[1;32mIn[32], line 1\u001B[0m\n\u001B[1;32m----> 1\u001B[0m cat1\u001B[38;5;241m.\u001B[39m__name\n",
      "\u001B[1;31mAttributeError\u001B[0m: 'cat' object has no attribute '__name'"
     ]
    }
   ],
   "execution_count": 32
  },
  {
   "metadata": {},
   "cell_type": "markdown",
   "source": [
    "Python 并没有从语法上严格保证属性是私有的，只是给私有属性换了一个名字，来妨碍对私有属性的访问。\n",
    "\n",
    "具体命名规则为：`_类名__属性`"
   ],
   "id": "e4c68fb4b2cfc520"
  },
  {
   "metadata": {},
   "cell_type": "code",
   "source": "cat1._cat__name",
   "id": "f5c16b576d0fa782",
   "outputs": [],
   "execution_count": null
  },
  {
   "metadata": {},
   "cell_type": "markdown",
   "source": [
    "### 1.3 类属性\n",
    "\n",
    "在类中可以定义类属性，类属性可以通过类名直接进行访问。对于类属性，可以通过 '类名.类属性' 进行直接访问和修改。"
   ],
   "id": "1a4b7974d5d3a52b"
  },
  {
   "metadata": {
    "ExecuteTime": {
     "end_time": "2025-06-29T12:32:26.376009Z",
     "start_time": "2025-06-29T12:32:26.368172Z"
    }
   },
   "cell_type": "code",
   "source": [
    "class Book:\n",
    "    book_list = ['百年孤独', '名侦探柯南·独眼的残像', '新世纪福音战士']\n",
    "    x = 5\n",
    "    def __init__(self, name):\n",
    "        self.name = name\n",
    "\n",
    "Book.book_list, Book.x"
   ],
   "id": "7359fb0b576d2900",
   "outputs": [
    {
     "data": {
      "text/plain": [
       "(['百年孤独', '名侦探柯南·独眼的残像', '新世纪福音战士'], 5)"
      ]
     },
     "execution_count": 33,
     "metadata": {},
     "output_type": "execute_result"
    }
   ],
   "execution_count": 33
  },
  {
   "metadata": {},
   "cell_type": "markdown",
   "source": [
    "通过实例对象也可以访问类属性。\n",
    "\n",
    "当实例对象访问属性时，首先会查找是否有同名的实例属性，如果没有，则会去查找同名类属性，如果在找不到，就会抛出异常。"
   ],
   "id": "b95603bf32f6b617"
  },
  {
   "metadata": {
    "ExecuteTime": {
     "end_time": "2025-06-29T12:32:26.388104Z",
     "start_time": "2025-06-29T12:32:26.379025Z"
    }
   },
   "cell_type": "code",
   "source": [
    "book = Book('123123')\n",
    "book.book_list, book.x"
   ],
   "id": "85fc907ae9d98106",
   "outputs": [
    {
     "data": {
      "text/plain": [
       "(['百年孤独', '名侦探柯南·独眼的残像', '新世纪福音战士'], 5)"
      ]
     },
     "execution_count": 34,
     "metadata": {},
     "output_type": "execute_result"
    }
   ],
   "execution_count": 34
  },
  {
   "metadata": {},
   "cell_type": "markdown",
   "source": "**实例对象不能对类属性进行修改**，只有类对象才能",
   "id": "dca37055c31c703d"
  },
  {
   "metadata": {
    "ExecuteTime": {
     "end_time": "2025-06-29T12:32:26.406095Z",
     "start_time": "2025-06-29T12:32:26.398136Z"
    }
   },
   "cell_type": "code",
   "source": [
    "class Book:\n",
    "    book_list = ['百年孤独', '名侦探柯南·独眼的残像', '新世纪福音战士']\n",
    "    x = 5\n",
    "    def __init__(self, name):\n",
    "        self.name = name\n",
    "        \n",
    "    def do(self):\n",
    "        x += 1 # 貌似指的是不能在函数里面修改\n",
    "\n",
    "Book.book_list, Book.x"
   ],
   "id": "2c1f42d131c3dae5",
   "outputs": [
    {
     "data": {
      "text/plain": [
       "(['百年孤独', '名侦探柯南·独眼的残像', '新世纪福音战士'], 5)"
      ]
     },
     "execution_count": 35,
     "metadata": {},
     "output_type": "execute_result"
    }
   ],
   "execution_count": 35
  },
  {
   "metadata": {},
   "cell_type": "markdown",
   "source": "实际 . 访问之后还是修改的是自己的属性",
   "id": "2434e0b18c5f7b89"
  },
  {
   "metadata": {
    "ExecuteTime": {
     "end_time": "2025-06-29T12:32:34.142528Z",
     "start_time": "2025-06-29T12:32:34.137759Z"
    }
   },
   "cell_type": "code",
   "source": [
    "book.book_list.clear()\n",
    "book.x = 3\n",
    "print(book.book_list, book.x)\n",
    "print(Book.book_list, Book.x)"
   ],
   "id": "2b465e84e24e0700",
   "outputs": [
    {
     "name": "stdout",
     "output_type": "stream",
     "text": [
      "[] 3\n",
      "['百年孤独', '名侦探柯南·独眼的残像', '新世纪福音战士'] 5\n"
     ]
    }
   ],
   "execution_count": 37
  },
  {
   "metadata": {},
   "cell_type": "markdown",
   "source": [
    "### 1.4 方法\n",
    "\n",
    "私有方法跟私有属性一样，也是加 `__`， 并且也可以通过 `_类名__方法__` 访问。"
   ],
   "id": "5be7e3531b0c73ee"
  },
  {
   "metadata": {},
   "cell_type": "markdown",
   "source": [
    "- 类方法装饰器 `@classmthod` 定义\n",
    "\n",
    "- `@staticmethod` 是静态方法, 不需要写形参 cls, 也不需要写 self, 可通过类名和实例对象调用\n",
    "    - 静态方法可以访问类属性, 不能访问实例属性   "
   ],
   "id": "ea2150613c3773aa"
  },
  {
   "metadata": {
    "ExecuteTime": {
     "end_time": "2025-06-29T12:37:19.649113Z",
     "start_time": "2025-06-29T12:37:19.643712Z"
    }
   },
   "cell_type": "code",
   "source": [
    "class cls:\n",
    "    @classmethod\n",
    "    def pt(cls):\n",
    "        print(1, 2, 3, 4, 5)\n",
    "    @staticmethod\n",
    "    def spt():\n",
    "        print(4, 5, 6, 7, 8)    \n",
    "    \n",
    "cls.pt()\n",
    "cls().spt()"
   ],
   "id": "1ba03ccbd09eab06",
   "outputs": [
    {
     "name": "stdout",
     "output_type": "stream",
     "text": [
      "1 2 3 4 5\n",
      "4 5 6 7 8\n"
     ]
    }
   ],
   "execution_count": 43
  },
  {
   "metadata": {},
   "cell_type": "markdown",
   "source": "## 01-2 实战：人机猜拳游戏",
   "id": "5b642574a366a29f"
  },
  {
   "metadata": {
    "ExecuteTime": {
     "end_time": "2025-06-29T12:50:27.210903Z",
     "start_time": "2025-06-29T12:50:27.202869Z"
    }
   },
   "cell_type": "code",
   "source": [
    "class Player:\n",
    "    def __init__(self, score = 0):\n",
    "        self.name = \"玩家\"\n",
    "        self.score = score\n",
    "    \n",
    "    def player_action(self, option): # 打印玩家猜拳的动作\n",
    "        if option == 1:\n",
    "            print(f'{self.name} 出石头')\n",
    "        elif option == 2:\n",
    "            print(f'{self.name} 出剪刀')\n",
    "        else:\n",
    "            print(f'{self.name} 出布')"
   ],
   "id": "f4a7a65b6e8621e6",
   "outputs": [],
   "execution_count": 44
  },
  {
   "metadata": {
    "ExecuteTime": {
     "end_time": "2025-06-29T12:51:07.933836Z",
     "start_time": "2025-06-29T12:51:07.927388Z"
    }
   },
   "cell_type": "code",
   "source": [
    "class Computer:\n",
    "    def __init__(self, score = 0):\n",
    "        self.name = \"电脑\"\n",
    "        self.score = score\n",
    "    \n",
    "    def computer_action(self, option):\n",
    "        if option == 1:\n",
    "            print(f'{self.name} 出石头')\n",
    "        elif option == 2:\n",
    "            print(f'{self.name} 出剪刀')\n",
    "        else:\n",
    "            print(f'{self.name} 出布')"
   ],
   "id": "a628885de2741246",
   "outputs": [],
   "execution_count": 45
  },
  {
   "metadata": {
    "ExecuteTime": {
     "end_time": "2025-06-29T12:52:41.515550Z",
     "start_time": "2025-06-29T12:52:41.510740Z"
    }
   },
   "cell_type": "code",
   "source": [
    "class PlayGame:\n",
    "    \n",
    "    count = 0\n",
    "    \n",
    "    def __init__(self):\n",
    "        self.player1 = Player()\n",
    "        self.player2 = Player()\n",
    "    \n",
    "    def show_result(self):\n",
    "        pass\n",
    "    \n",
    "    def start_game(self):\n",
    "        pass"
   ],
   "id": "2decc04b1b0d3c06",
   "outputs": [],
   "execution_count": 46
  }
 ],
 "metadata": {
  "kernelspec": {
   "display_name": "Python 3",
   "language": "python",
   "name": "python3"
  },
  "language_info": {
   "codemirror_mode": {
    "name": "ipython",
    "version": 2
   },
   "file_extension": ".py",
   "mimetype": "text/x-python",
   "name": "python",
   "nbconvert_exporter": "python",
   "pygments_lexer": "ipython2",
   "version": "2.7.6"
  }
 },
 "nbformat": 4,
 "nbformat_minor": 5
}
