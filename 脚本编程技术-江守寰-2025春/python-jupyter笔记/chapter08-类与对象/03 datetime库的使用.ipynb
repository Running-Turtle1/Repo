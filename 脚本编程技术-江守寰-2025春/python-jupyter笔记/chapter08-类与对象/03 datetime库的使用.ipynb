{
 "cells": [
  {
   "metadata": {},
   "cell_type": "markdown",
   "source": [
    "## 1 datetime 库概述\n",
    "\n",
    "datetime 是 Python 提供的时间处理库，可以从系统中获得时间，并以用户选择的格式输出。\n",
    "\n",
    "datetime 以格林威治时间为基础，每天的时间是 24 × 3600 s, 其含有两个常量："
   ],
   "id": "3c4eddc3fd5f4a64"
  },
  {
   "metadata": {
    "ExecuteTime": {
     "end_time": "2025-06-29T12:57:00.282234Z",
     "start_time": "2025-06-29T12:57:00.273678Z"
    }
   },
   "cell_type": "code",
   "source": [
    "import datetime \n",
    "datetime.MINYEAR, datetime.MAXYEAR # datetime 表示的最小年份 1，最大年份 9999"
   ],
   "id": "574ab545151411f3",
   "outputs": [
    {
     "data": {
      "text/plain": [
       "(1, 9999)"
      ]
     },
     "execution_count": 1,
     "metadata": {},
     "output_type": "execute_result"
    }
   ],
   "execution_count": 1
  },
  {
   "metadata": {},
   "cell_type": "markdown",
   "source": [
    "datetime 库中提供了多种日期和时间的表达方式\n",
    "\n",
    "- date 日期表示类，可以表示年、月、日等\n",
    "- time 时间表示类，可以表示小时、分钟、秒、毫秒等\n",
    "- datetime 日期和时间表示类\n",
    "- timedelta 与时间间隔有关的类\n",
    "- tzinfo 与时区有关的类"
   ],
   "id": "fc80c687c2c2c72f"
  },
  {
   "metadata": {
    "ExecuteTime": {
     "end_time": "2025-06-29T13:05:10.671406Z",
     "start_time": "2025-06-29T13:05:10.664488Z"
    }
   },
   "cell_type": "code",
   "source": [
    "from datetime import datetime\n",
    "datetime.now() # 后去当前时间和日期"
   ],
   "id": "b51e5ba8a3cc0409",
   "outputs": [
    {
     "data": {
      "text/plain": [
       "datetime.datetime(2025, 6, 29, 21, 5, 10, 665995)"
      ]
     },
     "execution_count": 4,
     "metadata": {},
     "output_type": "execute_result"
    }
   ],
   "execution_count": 4
  },
  {
   "metadata": {
    "ExecuteTime": {
     "end_time": "2025-06-29T13:06:42.735458Z",
     "start_time": "2025-06-29T13:06:42.728944Z"
    }
   },
   "cell_type": "code",
   "source": "datetime.utcnow() # 世界标准时间",
   "id": "6586df67b5fa0ee",
   "outputs": [
    {
     "name": "stderr",
     "output_type": "stream",
     "text": [
      "C:\\Users\\95432\\AppData\\Local\\Temp\\ipykernel_16152\\2879870788.py:1: DeprecationWarning: datetime.datetime.utcnow() is deprecated and scheduled for removal in a future version. Use timezone-aware objects to represent datetimes in UTC: datetime.datetime.now(datetime.UTC).\n",
      "  datetime.utcnow() # 世界标准时间\n"
     ]
    },
    {
     "data": {
      "text/plain": [
       "datetime.datetime(2025, 6, 29, 13, 6, 42, 729943)"
      ]
     },
     "execution_count": 14,
     "metadata": {},
     "output_type": "execute_result"
    }
   ],
   "execution_count": 14
  },
  {
   "metadata": {},
   "cell_type": "markdown",
   "source": "## 格式化时间",
   "id": "ea9ec2186e74497f"
  },
  {
   "metadata": {
    "ExecuteTime": {
     "end_time": "2025-06-29T13:07:47.164047Z",
     "start_time": "2025-06-29T13:07:47.159043Z"
    }
   },
   "cell_type": "code",
   "source": "date = datetime.now()",
   "id": "186f08f61d792193",
   "outputs": [],
   "execution_count": 15
  },
  {
   "metadata": {
    "ExecuteTime": {
     "end_time": "2025-06-29T13:08:06.364247Z",
     "start_time": "2025-06-29T13:08:06.357302Z"
    }
   },
   "cell_type": "code",
   "source": "date.isoformat() # 1. ISO 8601 标准显示时间",
   "id": "b04a4b421800f5b0",
   "outputs": [
    {
     "data": {
      "text/plain": [
       "'2025-06-29T21:07:47.161043'"
      ]
     },
     "execution_count": 17,
     "metadata": {},
     "output_type": "execute_result"
    }
   ],
   "execution_count": 17
  },
  {
   "metadata": {
    "ExecuteTime": {
     "end_time": "2025-06-29T13:08:27.959151Z",
     "start_time": "2025-06-29T13:08:27.952243Z"
    }
   },
   "cell_type": "code",
   "source": "date.isoweekday() # 2. 计算星期数, 返回 1 - 7",
   "id": "6d620871c2d51a2a",
   "outputs": [
    {
     "data": {
      "text/plain": [
       "7"
      ]
     },
     "execution_count": 18,
     "metadata": {},
     "output_type": "execute_result"
    }
   ],
   "execution_count": 18
  },
  {
   "metadata": {
    "ExecuteTime": {
     "end_time": "2025-06-29T13:09:24.768846Z",
     "start_time": "2025-06-29T13:09:24.762190Z"
    }
   },
   "cell_type": "code",
   "source": "date.strftime('%Y/%M/%d') # 3. str 形式格式化时间",
   "id": "9699710cb7f1d229",
   "outputs": [
    {
     "data": {
      "text/plain": [
       "'2025/07/29'"
      ]
     },
     "execution_count": 24,
     "metadata": {},
     "output_type": "execute_result"
    }
   ],
   "execution_count": 24
  },
  {
   "metadata": {},
   "cell_type": "markdown",
   "source": [
    "日期字符串也可转化为 datetime 对象，需要用到 `strptime()` \n",
    "\n",
    "tips: %m 代表月份, %M 代表分钟"
   ],
   "id": "6340826a12c46a26"
  },
  {
   "metadata": {
    "ExecuteTime": {
     "end_time": "2025-06-29T13:12:23.895564Z",
     "start_time": "2025-06-29T13:12:23.887967Z"
    }
   },
   "cell_type": "code",
   "source": [
    "day = datetime.strptime('2021-12-12', '%Y-%m-%d')\n",
    "day"
   ],
   "id": "c51899c85e1ed995",
   "outputs": [
    {
     "data": {
      "text/plain": [
       "datetime.datetime(2021, 12, 12, 0, 0)"
      ]
     },
     "execution_count": 28,
     "metadata": {},
     "output_type": "execute_result"
    }
   ],
   "execution_count": 28
  },
  {
   "metadata": {},
   "cell_type": "markdown",
   "source": "## 2 实战：倒计时日历",
   "id": "171f6d7cbbd6f684"
  },
  {
   "metadata": {
    "ExecuteTime": {
     "end_time": "2025-06-29T13:26:42.862386Z",
     "start_time": "2025-06-29T13:26:28.130114Z"
    }
   },
   "cell_type": "code",
   "source": [
    "from datetime import datetime\n",
    "def day_input():\n",
    "    \"\"\"用于输入纪念日名称和日期，保存在字典中\"\"\"\n",
    "    day_dict = {}\n",
    "    while True:\n",
    "        holiday = input(\"请输入节日名称：\")\n",
    "        if holiday == \"\":\n",
    "            break\n",
    "        day = input(\"请输入日期，格式写成‘年-月-日’的形式：\")\n",
    "        day_dict[holiday] = day\n",
    "    return day_dict\n",
    "def day_between(date1,date2):\n",
    "    \"\"\"计算两个日期之间的间隔\"\"\"\n",
    "    minus = date2 - date1\n",
    "    if minus.days > 0:\n",
    "        return f\"还有{minus.days}天\"\n",
    "    else:\n",
    "        return f\"已经过了{-minus.days}天\"\n",
    "def display(result_dict):\n",
    "    \"\"\"用于展示最终结果\"\"\"\n",
    "    print(\"*\"*40)\n",
    "    for holiday,count in result_dict.items():\n",
    "        print(f\"距离{holiday}{count}\")\n",
    "    print(\"*\"*40)\n",
    "if __name__ == \"__main__\":\n",
    "    input_dict = day_input()\n",
    "    today = datetime.now()\n",
    "    today = today.strftime(\"%Y-%m-%d\")\n",
    "    today = datetime.strptime(today,\"%Y-%m-%d\")\n",
    "    count_dict = {}\n",
    "    for key,value in input_dict.items():\n",
    "        value = datetime.strptime(value,\"%Y-%m-%d\")\n",
    "        result = day_between(today,value)\n",
    "        count_dict[key] =result\n",
    "    display(count_dict)\n"
   ],
   "id": "3dcc5d14351a65e8",
   "outputs": [
    {
     "name": "stdout",
     "output_type": "stream",
     "text": [
      "****************************************\n",
      "距离生日还有150天\n",
      "****************************************\n"
     ]
    }
   ],
   "execution_count": 31
  },
  {
   "metadata": {},
   "cell_type": "code",
   "outputs": [],
   "execution_count": null,
   "source": "",
   "id": "5d4ad9e09b34ece7"
  }
 ],
 "metadata": {
  "kernelspec": {
   "display_name": "Python 3",
   "language": "python",
   "name": "python3"
  },
  "language_info": {
   "codemirror_mode": {
    "name": "ipython",
    "version": 2
   },
   "file_extension": ".py",
   "mimetype": "text/x-python",
   "name": "python",
   "nbconvert_exporter": "python",
   "pygments_lexer": "ipython2",
   "version": "2.7.6"
  }
 },
 "nbformat": 4,
 "nbformat_minor": 5
}
