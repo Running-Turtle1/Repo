{
 "cells": [
  {
   "metadata": {},
   "cell_type": "markdown",
   "source": [
    "## 1 面向对象的三大特性\n",
    "- 封装：面向对象程序设计的核心思想，将对象的属性和行为隐藏起来\n",
    "- 继承：继承可以在无需编写原有类的情况下，对原有类的功能进行扩展\n",
    "- 多态：属性或者行为在基类及其派生类中具有不同的含义和形式"
   ],
   "id": "b97e2412178551ea"
  },
  {
   "metadata": {},
   "cell_type": "markdown",
   "source": [
    "## 2 封装\n",
    "\n",
    "私有属性和私有方法都属于 Python 封装的形式，通过在属性和方法前加两个 _ 的方式，阻碍类外对类内属性的访问和修改。"
   ],
   "id": "3759500bbccf2b75"
  },
  {
   "metadata": {
    "ExecuteTime": {
     "end_time": "2025-06-30T02:10:21.346774Z",
     "start_time": "2025-06-30T02:10:21.330428Z"
    }
   },
   "cell_type": "code",
   "source": [
    "# E.G. 定义 Student 类的私有属性和方法\n",
    "class Student:\n",
    "    def __init__(self, score):\n",
    "        self.__score = score\n",
    "    \n",
    "    def get_score(self):\n",
    "        return self.__score\n",
    "    \n",
    "s1 = Student(100)\n",
    "print(s1._Student__score)\n",
    "print(s1.get_score())"
   ],
   "id": "e87ba4909b383d52",
   "outputs": [
    {
     "name": "stdout",
     "output_type": "stream",
     "text": [
      "100\n",
      "100\n"
     ]
    }
   ],
   "execution_count": 1
  },
  {
   "metadata": {},
   "cell_type": "markdown",
   "source": "在 Python 中，`@property` 是一个内置的装饰器，用于将类方法转换为只读属性，使得方法可以像属性一样被访问，而不需要使用传统的方法调用语法。这种特性为类的属性访问提供了更简洁、更 Pythonic 的接口，同时保留了封装和验证的能力。",
   "id": "73144d694c8f7517"
  },
  {
   "metadata": {
    "ExecuteTime": {
     "end_time": "2025-06-30T02:16:14.408831Z",
     "start_time": "2025-06-30T02:16:14.398214Z"
    }
   },
   "cell_type": "code",
   "source": [
    "class Score:\n",
    "    def __init__(self, data):\n",
    "        self.__data = data\n",
    "    \n",
    "    @property\n",
    "    def data(self):\n",
    "        return self.__data\n",
    "\n",
    "s1 = Score(60)\n",
    "s1.data"
   ],
   "id": "1c5da9e22c278cae",
   "outputs": [
    {
     "data": {
      "text/plain": [
       "60"
      ]
     },
     "execution_count": 3,
     "metadata": {},
     "output_type": "execute_result"
    }
   ],
   "execution_count": 3
  },
  {
   "metadata": {
    "ExecuteTime": {
     "end_time": "2025-06-30T02:17:02.124143Z",
     "start_time": "2025-06-30T02:17:02.106024Z"
    }
   },
   "cell_type": "code",
   "source": "s1.data = 70",
   "id": "e73a7ba36348e401",
   "outputs": [
    {
     "ename": "AttributeError",
     "evalue": "property 'data' of 'Score' object has no setter",
     "output_type": "error",
     "traceback": [
      "\u001B[1;31m---------------------------------------------------------------------------\u001B[0m",
      "\u001B[1;31mAttributeError\u001B[0m                            Traceback (most recent call last)",
      "Cell \u001B[1;32mIn[4], line 1\u001B[0m\n\u001B[1;32m----> 1\u001B[0m s1\u001B[38;5;241m.\u001B[39mdata \u001B[38;5;241m=\u001B[39m \u001B[38;5;241m70\u001B[39m\n",
      "\u001B[1;31mAttributeError\u001B[0m: property 'data' of 'Score' object has no setter"
     ]
    }
   ],
   "execution_count": 4
  },
  {
   "metadata": {},
   "cell_type": "markdown",
   "source": "如果希望私有属性可以修改，可以加 `setter`",
   "id": "cc323471e4b99409"
  },
  {
   "metadata": {
    "ExecuteTime": {
     "end_time": "2025-06-30T02:19:01.941318Z",
     "start_time": "2025-06-30T02:19:01.933063Z"
    }
   },
   "cell_type": "code",
   "source": [
    "class Score:\n",
    "    def __init__(self, data):\n",
    "        self.__data = data\n",
    "    \n",
    "    @property\n",
    "    def data(self):\n",
    "        return self.__data\n",
    "    @data.setter\n",
    "    def data(self, data):\n",
    "        self.__data = data\n",
    "\n",
    "s1 = Score(60)\n",
    "s1.data = 70\n",
    "s1.data"
   ],
   "id": "e97db1bf2002fbdf",
   "outputs": [
    {
     "data": {
      "text/plain": [
       "70"
      ]
     },
     "execution_count": 5,
     "metadata": {},
     "output_type": "execute_result"
    }
   ],
   "execution_count": 5
  },
  {
   "metadata": {},
   "cell_type": "markdown",
   "source": "在提供的代码中，Score 类的 data 属性允许任意值被设置，这可能不符合实际需求（例如分数通常需要限制在 0-100 范围内）。你可以使用 raise 语句在 setter 中添加数据验证，当输入不合法时抛出异常。",
   "id": "b450aa0ca8201d1c"
  },
  {
   "metadata": {
    "ExecuteTime": {
     "end_time": "2025-06-30T02:21:54.073205Z",
     "start_time": "2025-06-30T02:21:54.064798Z"
    }
   },
   "cell_type": "code",
   "source": [
    "class Score:\n",
    "    def __init__(self, data):\n",
    "        # 初始化时调用 setter 进行验证\n",
    "        self.data = data\n",
    "    \n",
    "    @property\n",
    "    def data(self):\n",
    "        return self.__data\n",
    "    \n",
    "    @data.setter\n",
    "    def data(self, value):\n",
    "        # 验证输入是否是数值类型\n",
    "        if not isinstance(value, (int, float)):\n",
    "            raise TypeError(\"Score must be a number\")\n",
    "\n",
    "        # 验证数值范围\n",
    "        if not (0 <= value <= 100):\n",
    "            raise ValueError(\"Score must be between 0 and 100\")\n",
    "\n",
    "        # 验证通过后设置值\n",
    "        self.__data = value\n",
    "\n",
    "# 使用示例\n",
    "s1 = Score(60)        # 初始化为有效分数\n",
    "print(s1.data)        # 输出: 60\n",
    "\n",
    "s1.data = 70          # 修改为有效分数\n",
    "print(s1.data)        # 输出: 70\n",
    "\n",
    "try:\n",
    "    s1.data = 120     # 尝试设置无效分数\n",
    "except ValueError as e:\n",
    "    print(f\"错误: {e}\")  # 捕获并处理异常\n",
    "\n",
    "try:\n",
    "    s1.data = \"A\"     # 尝试设置非数值类型\n",
    "except TypeError as e:\n",
    "    print(f\"错误: {e}\")  # 捕获并处理异常"
   ],
   "id": "7a03e50fd0281850",
   "outputs": [
    {
     "name": "stdout",
     "output_type": "stream",
     "text": [
      "60\n",
      "70\n",
      "错误: Score must be between 0 and 100\n",
      "错误: Score must be a number\n"
     ]
    }
   ],
   "execution_count": 6
  },
  {
   "metadata": {},
   "cell_type": "markdown",
   "source": "## 3 继承",
   "id": "3f83d04965c8a0c7"
  },
  {
   "metadata": {},
   "cell_type": "markdown",
   "source": [
    "### 3.1 单一继承\n",
    "\n",
    "单一继承是指定义的派生类只有一个基类"
   ],
   "id": "489c899d8befb104"
  },
  {
   "metadata": {
    "ExecuteTime": {
     "end_time": "2025-06-30T02:28:26.916426Z",
     "start_time": "2025-06-30T02:28:26.908829Z"
    }
   },
   "cell_type": "code",
   "source": [
    "# E.G.\n",
    "class Animal:\n",
    "    def __init__(self,name,age):\n",
    "        self.name = name           #姓名属性\n",
    "        self.age = age                  #年龄属性\n",
    "    def eat(self):                        #吃饭行为\n",
    "        print(f\"{self.name}正在吃东西\")\n",
    "    def sleep(self):                    #睡觉行为\n",
    "        print(f\"{self.name}正在睡觉\")\n",
    "class Dog(Animal):                 #Dog类继承Animal类的属性和方法\n",
    "    pass\n",
    "class Cat(Animal):                  #Cat类继承Animal类的属性和方法\n",
    "    def play(self):                     #在Cat类中创建新的方法\n",
    "        print(f\"{self.name}正在玩耍\")\n",
    "if __name__ == \"__main__\":\n",
    "    my_dog = Dog(\"小汪\",4)    #创建Dog类的实例对象\n",
    "    my_dog.eat()                     #调用基类中的方法\n",
    "    my_cat = Cat(\"小喵\",2)      #创建Cat类的实例对象\n",
    "    my_cat.play()                     #调用Cat类中的方法\n"
   ],
   "id": "fa69f88f81935fdd",
   "outputs": [
    {
     "name": "stdout",
     "output_type": "stream",
     "text": [
      "小汪正在吃东西\n",
      "小喵正在玩耍\n"
     ]
    }
   ],
   "execution_count": 10
  },
  {
   "metadata": {},
   "cell_type": "markdown",
   "source": "重写构造方法",
   "id": "b48902fb482dab34"
  },
  {
   "metadata": {
    "ExecuteTime": {
     "end_time": "2025-06-30T02:30:47.836088Z",
     "start_time": "2025-06-30T02:30:47.825232Z"
    }
   },
   "cell_type": "code",
   "source": [
    "class Animal:\n",
    "    def __init__(self,name,age):\n",
    "        self.name = name                 #姓名属性\n",
    "        self.age = age                       #年龄属性\n",
    "class Dog(Animal):                       #Dog类继承Animal类的属性和方法\n",
    "    def __init__(self,name,age,vaccine):\n",
    "        super().__init__(name,age)    #继承Animal类中的属性\n",
    "        self.vaccine = vaccine           #是否打过疫苗属性\n",
    "if __name__ == \"__main__\":\n",
    "    my_dog = Dog(\"刘博\",4,\"True\")\n",
    "    if my_dog.vaccine:\n",
    "        print(f\"{my_dog.name}打过疫苗了\")\n",
    "    else:\n",
    "        print(f\"{my_dog.name}还没打过疫苗\")"
   ],
   "id": "91b2e1d2c7988075",
   "outputs": [
    {
     "name": "stdout",
     "output_type": "stream",
     "text": [
      "刘博打过疫苗了\n"
     ]
    }
   ],
   "execution_count": 12
  },
  {
   "metadata": {},
   "cell_type": "markdown",
   "source": [
    "### 3.2 多重继承\n",
    "\n",
    "多重继承是指派生类继承了多个基类"
   ],
   "id": "82d691587b18b84f"
  },
  {
   "metadata": {
    "ExecuteTime": {
     "end_time": "2025-06-30T02:32:02.021930Z",
     "start_time": "2025-06-30T02:32:02.002734Z"
    }
   },
   "cell_type": "code",
   "source": [
    "class Student:\n",
    "    def __init__(self,name,score):\n",
    "        self.name = name\n",
    "        self.score = score\n",
    "    def stu_info(self):\n",
    "        print(f\"姓名：{self.name}，分数：{self.score}\")\n",
    "class Staff:\n",
    "    def __init__(self,id,salary):\n",
    "        self.id = id\n",
    "        self.salary = salary\n",
    "    def staff_info(self):\n",
    "        print(f\"ID：{self.id}，薪资：{self.salary}\")\n",
    "class PartTimeStudent(Student,Staff):\n",
    "    def __init__(self,name,score,id,salary):\n",
    "        Student.__init__(self,name,score)\n",
    "        Staff.__init__(self,id,salary)\n",
    "p1 = PartTimeStudent(\"小千\",100,\"202201\",10000)\n",
    "p1.stu_info()\n",
    "p1.staff_info()"
   ],
   "id": "86ed64b6ea094f48",
   "outputs": [
    {
     "name": "stdout",
     "output_type": "stream",
     "text": [
      "姓名：小千，分数：100\n",
      "ID：202201，薪资：10000\n"
     ]
    }
   ],
   "execution_count": 13
  },
  {
   "metadata": {},
   "cell_type": "markdown",
   "source": [
    "## 4 多态\n",
    "\n",
    "多态的含义是 `有多种形式`，在面向对象程序设计中，多态是指基类的同一个方法在不同派生类中具有不同的表现和行为，当调用该方法时，程序会根据对象选择合适的方法"
   ],
   "id": "e1813cd6f8b057d1"
  },
  {
   "metadata": {},
   "cell_type": "markdown",
   "source": [
    "几何图形求面积的多态体现\n",
    "运行结果如下:\n",
    "三角形的面积是24.00\n",
    "圆的面积是28.274\n"
   ],
   "id": "de947fc1c3a627ed"
  },
  {
   "metadata": {
    "ExecuteTime": {
     "end_time": "2025-06-30T02:34:20.417667Z",
     "start_time": "2025-06-30T02:34:20.401361Z"
    }
   },
   "cell_type": "code",
   "source": [
    "import math\n",
    "class Graphic:\n",
    "    def __init__(self,name):\n",
    "        self.name = name\n",
    "    def cal_square(self):\n",
    "        pass\n",
    "class Triangle(Graphic):\n",
    "    def __init__(self,name,height,border):\n",
    "        super().__init__(name)\n",
    "        self.height = height\n",
    "        self.border = border\n",
    "    def cal_square(self):\n",
    "        square = 1/2 * self.height * self.border\n",
    "        print(f\"{self.name}的面积是{square:.2f}\")\n",
    "class Circle(Graphic):\n",
    "    def __init__(self,name,radius):\n",
    "        super().__init__(name)\n",
    "        self.radius = radius\n",
    "    def cal_square(self):\n",
    "        square = math.pi * pow(self.radius,2)\n",
    "        print(f\"{self.name}的面积是{square:.3f}\")\n",
    "t1 = Triangle(\"三角形\",6,8)\n",
    "t1.cal_square()\n",
    "c1 = Circle(\"圆\",3)\n",
    "c1.cal_square()\n"
   ],
   "id": "781179c650446064",
   "outputs": [
    {
     "name": "stdout",
     "output_type": "stream",
     "text": [
      "三角形的面积是24.00\n",
      "圆的面积是28.274\n"
     ]
    }
   ],
   "execution_count": 14
  },
  {
   "metadata": {},
   "cell_type": "markdown",
   "source": [
    "### 4.1 内置函数重写\n",
    "\n",
    "在Python中，不仅能对自定义类中的方法进行重写，还可以对Python已定义的内置函数进行重写。比较常见的内置函数的重写包括前文已经介绍过的str()和repr()函数。这两个函数原本是用于将其它数据类型转换为字符串形式，在类中对其重写后，就能用于将对象转化为字符串。\n",
    "\n",
    "重写str()和repr()函数，需要在函数名前加两个下划线，函数名后加两个下划线：\n",
    "\n",
    "- __str__()函数会将对象转化为人更容易理解的字符串\n",
    "- __repr__()函数会将对象转换为解释器可识别的字符串\n"
   ],
   "id": "21ee19412ae0192f"
  },
  {
   "metadata": {
    "ExecuteTime": {
     "end_time": "2025-06-30T02:52:59.110772Z",
     "start_time": "2025-06-30T02:52:59.105271Z"
    }
   },
   "cell_type": "code",
   "source": [
    "# eval 示例\n",
    "x = 3\n",
    "eval('print(x)')"
   ],
   "id": "83d6181293eb3ae9",
   "outputs": [
    {
     "name": "stdout",
     "output_type": "stream",
     "text": [
      "3\n"
     ]
    }
   ],
   "execution_count": 16
  },
  {
   "metadata": {},
   "cell_type": "markdown",
   "source": "定义一个Clock类，未重写内置函数",
   "id": "31dcd91067d6c19f"
  },
  {
   "metadata": {
    "ExecuteTime": {
     "end_time": "2025-06-30T02:55:15.680926Z",
     "start_time": "2025-06-30T02:55:15.661644Z"
    }
   },
   "cell_type": "code",
   "source": [
    "class Clock:\n",
    "    def __init__(self,hour,minute,second):\n",
    "        self.hour = hour\n",
    "        self.minute = minute\n",
    "        self.second = second\n",
    "c1 = Clock(2,30,20)\n",
    "print(c1)"
   ],
   "id": "a519bc3a28541c73",
   "outputs": [
    {
     "name": "stdout",
     "output_type": "stream",
     "text": [
      "<__main__.Clock object at 0x000001F7311ED010>\n"
     ]
    }
   ],
   "execution_count": 17
  },
  {
   "metadata": {
    "ExecuteTime": {
     "end_time": "2025-06-30T02:55:46.931311Z",
     "start_time": "2025-06-30T02:55:46.910479Z"
    }
   },
   "cell_type": "code",
   "source": [
    "class Clock:\n",
    "    def __init__(self,hour,minute,second):\n",
    "        self.hour = hour\n",
    "        self.minute = minute\n",
    "        self.second = second\n",
    "    def __str__(self):                    #重写__str__()\n",
    "        return f\"时{self.hour}，分{self.minute}，秒{self.second}\"\n",
    "    def __repr__(self):                 #重写__repr__()\n",
    "        return f\"Clock({self.hour},{self.minute},{self.second})\"\n",
    "c1 = Clock(10,20,30)                #定义实例对象c1\n",
    "print(c1)                                   #打印对象c1\n",
    "c2 = eval(repr(c1))                   #克隆c1对象赋值给c2\n",
    "c2.hour = 1                             #修改c2属性\n",
    "print(c2)                                   #打印对象c2"
   ],
   "id": "3dcfebd0476aa2de",
   "outputs": [
    {
     "name": "stdout",
     "output_type": "stream",
     "text": [
      "时10，分20，秒30\n",
      "时1，分20，秒30\n"
     ]
    }
   ],
   "execution_count": 19
  },
  {
   "metadata": {},
   "cell_type": "markdown",
   "source": [
    "### 4.2 运算符重载\n",
    "\n",
    "![](../img/operator.png)"
   ],
   "id": "989b3fadb834ddff"
  },
  {
   "metadata": {},
   "cell_type": "markdown",
   "source": "E.G.",
   "id": "adaee29aacd49823"
  },
  {
   "metadata": {
    "ExecuteTime": {
     "end_time": "2025-06-30T02:59:50.318866Z",
     "start_time": "2025-06-30T02:59:50.312281Z"
    }
   },
   "cell_type": "code",
   "source": [
    "class Race:\n",
    "    def __init__(self,length,time):\n",
    "        self.length = length\n",
    "        self.time = time\n",
    "    def __add__(self, other):               #重载+运算\n",
    "        return Race(self.length + other.length,self.time + other.time)\n",
    "    def __gt__(self, other):                #重载>运算\n",
    "        if self.length == other.length:\n",
    "            return self.time > other.time\n",
    "        else:\n",
    "            raise TypeError(\"无法比较\")\n",
    "    def __eq__(self, other):                #重载==运算\n",
    "        if self.length == other.length:\n",
    "            return self.time == other.time\n",
    "        else:\n",
    "            raise TypeError(\"无法比较\")\n",
    "    def __str__(self):\n",
    "        return f\"赛跑长度为{self.length}，赛跑时长为{self.time}\""
   ],
   "id": "888012c4eb459f11",
   "outputs": [],
   "execution_count": 22
  },
  {
   "metadata": {
    "ExecuteTime": {
     "end_time": "2025-06-30T03:00:18.647103Z",
     "start_time": "2025-06-30T03:00:18.632286Z"
    }
   },
   "cell_type": "code",
   "source": [
    "if __name__ == \"__main__\":\n",
    "    team1_1 = Race(200,20)                  #team1的1号队员\n",
    "    team1_2 = Race(200,19.8)                #team1的2号队员\n",
    "    team1 = team1_1 + team1_2            #team1的总赛跑长度和时长\n",
    "    print(team1)\n",
    "    team2_1 = Race(200,18.9)                #team2的1号队员\n",
    "    team2_2 = Race(200,20.1)                #team2的2号队员\n",
    "    team2 = team2_1 + team2_2           #team2的总赛跑长度和时长\n",
    "    print(team2)\n",
    "    if team1 > team2:\n",
    "        print(\"team2取得胜利\")\n",
    "    elif team1 == team2:\n",
    "        print(\"team1和team2平局\")\n",
    "    else:\n",
    "        print(\"team1取得胜利 \")"
   ],
   "id": "62882c687e502fd4",
   "outputs": [
    {
     "name": "stdout",
     "output_type": "stream",
     "text": [
      "赛跑长度为400，赛跑时长为39.8\n",
      "赛跑长度为400，赛跑时长为39.0\n",
      "team1取得胜利 \n"
     ]
    }
   ],
   "execution_count": 30
  }
 ],
 "metadata": {
  "kernelspec": {
   "display_name": "Python 3",
   "language": "python",
   "name": "python3"
  },
  "language_info": {
   "codemirror_mode": {
    "name": "ipython",
    "version": 2
   },
   "file_extension": ".py",
   "mimetype": "text/x-python",
   "name": "python",
   "nbconvert_exporter": "python",
   "pygments_lexer": "ipython2",
   "version": "2.7.6"
  }
 },
 "nbformat": 4,
 "nbformat_minor": 5
}
