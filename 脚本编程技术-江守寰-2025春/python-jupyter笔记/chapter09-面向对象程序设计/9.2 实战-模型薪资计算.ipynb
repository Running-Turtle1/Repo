{
 "cells": [
  {
   "metadata": {},
   "cell_type": "markdown",
   "source": "isinstance()函数用于判断一个对象是否属于指定的类的实例或者其子类的实例",
   "id": "f0cc0645161a96b3"
  },
  {
   "metadata": {
    "ExecuteTime": {
     "end_time": "2025-06-30T03:22:43.639383Z",
     "start_time": "2025-06-30T03:22:43.615286Z"
    }
   },
   "cell_type": "code",
   "source": [
    "class Employee:\n",
    "    pass\n",
    "e1 = Employee()\n",
    "if isinstance(e1,Employee):\n",
    "    print(\"e1属于Employee的实例对象\")\n",
    "else:\n",
    "    print(\"e1不属于Employee的实例对象\")"
   ],
   "id": "46bd55951199a14",
   "outputs": [
    {
     "name": "stdout",
     "output_type": "stream",
     "text": [
      "e1属于Employee的实例对象\n"
     ]
    }
   ],
   "execution_count": 1
  },
  {
   "metadata": {
    "ExecuteTime": {
     "end_time": "2025-06-30T03:23:03.362972Z",
     "start_time": "2025-06-30T03:23:03.347435Z"
    }
   },
   "cell_type": "code",
   "source": [
    "class Employee:                         #员工类，作为基类\n",
    "    def __init__(self,name):\n",
    "        self.name = name                #定义属性name\n",
    "    def get_salary(self):               #定义获取薪资的方法\n",
    "        pass\n",
    "class Manager(Employee):                #定义产品经理类，继承Employee类\n",
    "    def __init__(self,name,salary=15000):\n",
    "        super().__init__(name)          #继承父类属性\n",
    "        self.salary = salary            #定义薪资salary\n",
    "    def get_salary(self):               #重写父类方法\n",
    "        return self.salary\n",
    "    def __str__(self):                  #重写__str__()方法\n",
    "        return f\"{self.name}的薪资是{self.get_salary()}\"\n",
    "class Programmer(Employee):             #定义程序员类，继承Employee类\n",
    "    def __init__(self, name, base_salary=12000, over_time=0):\n",
    "        super().__init__(name)          #继承父类属性\n",
    "        self.base_salary = base_salary  #定义基础工资base_salary\n",
    "        self.__over_time = over_time    #定义加班时长\n",
    "    def get_salary(self):               #重写父类方法\n",
    "        if self.__over_time < 0:\n",
    "            raise ValueError(\"工作时长的输入有误\")\n",
    "        elif self.__over_time > 20:\n",
    "            self.__over_time = 20       #加班时长不能超过20小时，超出20小时不计入薪资\n",
    "        return self.base_salary + 100 * self.__over_time\n",
    "    def __str__(self):                  #重写__str__()方法\n",
    "        return f\"{self.name}的薪资是{self.get_salary()}\"\n",
    "class SoftTest(Employee):               #定义测试工程师类，继承Employee类\n",
    "    def __init__(self,name,base_salary=8000,bug_num=0):\n",
    "        super().__init__(name)          # 继承父类属性\n",
    "        self.base_salary = base_salary  #定义基础工资base_salary\n",
    "        self.bug_num = bug_num          #定义发现的错误个数bug_num\n",
    "    def get_salary(self):               #重写父类方法\n",
    "        return self.base_salary + 5 * self.bug_num\n",
    "    def __str__(self):                  #重写__str__()方法\n",
    "        return f\"{self.name}的薪资是{self.get_salary()}\"\n",
    "def main():                             #定义计算所有员工工资的函数\n",
    "    employee_list = [\n",
    "        Manager(\"宋江\"),Manager(\"吴用\"),Manager(\"公孙胜\",10000),\n",
    "        Programmer(\"花荣\"),Programmer(\"武松\",10000,10),Programmer(\"林冲\",13000,30),\n",
    "        SoftTest(\"朱武\"),SoftTest(\"蒋敬\"),SoftTest(\"柴进\",9000,100)\n",
    "    ]\n",
    "    for emp in employee_list:\n",
    "        if isinstance(emp,Programmer):\n",
    "            print(\"程序员：\",emp)\n",
    "        elif isinstance(emp,Manager):\n",
    "            print(\"产品经理：\",emp)\n",
    "        else:\n",
    "            print(\"测试工程师：\",emp)\n",
    "if __name__ == \"__main__\":\n",
    "    main()"
   ],
   "id": "b8dc846c41c1305e",
   "outputs": [
    {
     "name": "stdout",
     "output_type": "stream",
     "text": [
      "产品经理： 宋江的薪资是15000\n",
      "产品经理： 吴用的薪资是15000\n",
      "产品经理： 公孙胜的薪资是10000\n",
      "程序员： 花荣的薪资是12000\n",
      "程序员： 武松的薪资是11000\n",
      "程序员： 林冲的薪资是15000\n",
      "测试工程师： 朱武的薪资是8000\n",
      "测试工程师： 蒋敬的薪资是8000\n",
      "测试工程师： 柴进的薪资是9500\n"
     ]
    }
   ],
   "execution_count": 2
  }
 ],
 "metadata": {
  "kernelspec": {
   "display_name": "Python 3",
   "language": "python",
   "name": "python3"
  },
  "language_info": {
   "codemirror_mode": {
    "name": "ipython",
    "version": 2
   },
   "file_extension": ".py",
   "mimetype": "text/x-python",
   "name": "python",
   "nbconvert_exporter": "python",
   "pygments_lexer": "ipython2",
   "version": "2.7.6"
  }
 },
 "nbformat": 4,
 "nbformat_minor": 5
}
