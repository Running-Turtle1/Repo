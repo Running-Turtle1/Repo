{
 "cells": [
  {
   "metadata": {},
   "cell_type": "markdown",
   "source": "BaseException类是所有异常类的直接或者间接基类，但是自定义的类不能直接继承此类，而是要继承Exception类。自定义异常类一般以Error或者Exception为后缀进行命名。\n",
   "id": "ba7dadc8f59741c0"
  },
  {
   "metadata": {
    "ExecuteTime": {
     "end_time": "2025-06-30T03:24:57.504388Z",
     "start_time": "2025-06-30T03:24:47.092814Z"
    }
   },
   "cell_type": "code",
   "source": [
    "class AgeError(Exception):\n",
    "    def __init__(self,error_info):\n",
    "        self.error_info = error_info\n",
    "    def __str__(self):\n",
    "        return self.error_info\n",
    "age = int(input(\"请输入年龄：\"))\n",
    "if age < 18 or age > 200:\n",
    "    raise AgeError(\"年龄不在成年人范围内！\")\n",
    "else:\n",
    "    print(\"年龄是：\",age)"
   ],
   "id": "b129a9bb2e32b47a",
   "outputs": [
    {
     "ename": "AgeError",
     "evalue": "年龄不在成年人范围内！",
     "output_type": "error",
     "traceback": [
      "\u001B[1;31m---------------------------------------------------------------------------\u001B[0m",
      "\u001B[1;31mAgeError\u001B[0m                                  Traceback (most recent call last)",
      "Cell \u001B[1;32mIn[1], line 8\u001B[0m\n\u001B[0;32m      6\u001B[0m age \u001B[38;5;241m=\u001B[39m \u001B[38;5;28mint\u001B[39m(\u001B[38;5;28minput\u001B[39m(\u001B[38;5;124m\"\u001B[39m\u001B[38;5;124m请输入年龄：\u001B[39m\u001B[38;5;124m\"\u001B[39m))\n\u001B[0;32m      7\u001B[0m \u001B[38;5;28;01mif\u001B[39;00m age \u001B[38;5;241m<\u001B[39m \u001B[38;5;241m18\u001B[39m \u001B[38;5;129;01mor\u001B[39;00m age \u001B[38;5;241m>\u001B[39m \u001B[38;5;241m200\u001B[39m:\n\u001B[1;32m----> 8\u001B[0m     \u001B[38;5;28;01mraise\u001B[39;00m AgeError(\u001B[38;5;124m\"\u001B[39m\u001B[38;5;124m年龄不在成年人范围内！\u001B[39m\u001B[38;5;124m\"\u001B[39m)\n\u001B[0;32m      9\u001B[0m \u001B[38;5;28;01melse\u001B[39;00m:\n\u001B[0;32m     10\u001B[0m     \u001B[38;5;28mprint\u001B[39m(\u001B[38;5;124m\"\u001B[39m\u001B[38;5;124m年龄是：\u001B[39m\u001B[38;5;124m\"\u001B[39m,age)\n",
      "\u001B[1;31mAgeError\u001B[0m: 年龄不在成年人范围内！"
     ]
    }
   ],
   "execution_count": 1
  },
  {
   "metadata": {},
   "cell_type": "markdown",
   "source": "自定义异常类还可以和try...except语句一起使用，和内置异常类用法类似，try...except语句可以捕获自定义异常，使得程序既能不被异常中断又能报出异常信息。",
   "id": "4f4ec3068c007dc5"
  },
  {
   "metadata": {
    "ExecuteTime": {
     "end_time": "2025-06-30T03:25:16.044962Z",
     "start_time": "2025-06-30T03:25:14.522869Z"
    }
   },
   "cell_type": "code",
   "source": [
    "class AgeError(Exception):\n",
    "    def __init__(self,error_info):\n",
    "        self.error_info = error_info\n",
    "    def __str__(self):\n",
    "        return self.error_info\n",
    "age = int(input(\"请输入年龄：\"))\n",
    "try:\n",
    "    if age < 18 or age > 200:\n",
    "        raise AgeError(\"年龄不在成年人范围内！\")\n",
    "    else:\n",
    "        print(\"年龄是：\",age)\n",
    "except AgeError as a:\n",
    "    print(a.error_info) "
   ],
   "id": "f5c67d7baed276b7",
   "outputs": [
    {
     "name": "stdout",
     "output_type": "stream",
     "text": [
      "年龄不在成年人范围内！\n"
     ]
    }
   ],
   "execution_count": 2
  }
 ],
 "metadata": {
  "kernelspec": {
   "display_name": "Python 3",
   "language": "python",
   "name": "python3"
  },
  "language_info": {
   "codemirror_mode": {
    "name": "ipython",
    "version": 2
   },
   "file_extension": ".py",
   "mimetype": "text/x-python",
   "name": "python",
   "nbconvert_exporter": "python",
   "pygments_lexer": "ipython2",
   "version": "2.7.6"
  }
 },
 "nbformat": 4,
 "nbformat_minor": 5
}
