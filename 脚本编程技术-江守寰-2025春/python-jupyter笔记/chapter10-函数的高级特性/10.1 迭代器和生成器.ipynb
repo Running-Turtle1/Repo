{
 "cells": [
  {
   "metadata": {},
   "cell_type": "markdown",
   "source": "## 迭代器和生成器",
   "id": "f2b307f55f66cf39"
  },
  {
   "metadata": {},
   "cell_type": "markdown",
   "source": [
    "迭代器每次只能通过 __next__() 才能“推进”并“返回”一个值。\n",
    "\n",
    "所以必须先执行 __next__() 得到值，再去处理这个值（比如打印）。"
   ],
   "id": "24f9f1d8cd57fc92"
  },
  {
   "metadata": {},
   "cell_type": "code",
   "outputs": [],
   "execution_count": null,
   "source": [
    "class Vector:\n",
    "    def __init__(self,start,end):\n",
    "        self.start = start\n",
    "        self.end = end\n",
    "    def __iter__(self):\n",
    "        return self                   #返回对象本身\n",
    "    def __next__(self):\n",
    "        if self.start <= self.end:\n",
    "            number = self.start\n",
    "            self.start += 1\n",
    "            return number            #返回迭代器对象下一个的值\n",
    "        else:\n",
    "            raise StopIteration     #当迭代器中的值取完后，抛出异常\n",
    "v1 = Vector(3,9)\n",
    "for item in v1:\n",
    "    print(item,end = \" \")"
   ],
   "id": "e14e8f7a862fef55"
  },
  {
   "metadata": {},
   "cell_type": "markdown",
   "source": "生成器",
   "id": "ca09d17341b7ef70"
  },
  {
   "metadata": {},
   "cell_type": "code",
   "outputs": [],
   "execution_count": null,
   "source": [
    "list01 = [2,3,19,34,12]\n",
    "g01 = (item for item in list01 if item % 2 == 0)       #生成器表达式\n",
    "for item in g01:           #遍历生成器\n",
    "    print(item,end=\" \")\n"
   ],
   "id": "d009bde5058dcc2f"
  },
  {
   "metadata": {
    "ExecuteTime": {
     "end_time": "2025-06-30T03:33:35.878909Z",
     "start_time": "2025-06-30T03:33:35.873940Z"
    }
   },
   "cell_type": "code",
   "source": [
    "list01 = [2, 3, 19, 34, 12]\n",
    "g01 = (item for item in list01 if item % 2 == 0)\n",
    "for item in g01: print(item,end=\" \")"
   ],
   "id": "ce2950766909f323",
   "outputs": [
    {
     "name": "stdout",
     "output_type": "stream",
     "text": [
      "2 34 12 "
     ]
    }
   ],
   "execution_count": 10
  },
  {
   "metadata": {
    "ExecuteTime": {
     "end_time": "2025-06-30T03:34:40.830025Z",
     "start_time": "2025-06-30T03:34:40.822607Z"
    }
   },
   "cell_type": "code",
   "source": [
    "g01 = (item for item in list01 if item % 2 == 0) # 必须重新生成一次，因为 g01 之前被用完了\n",
    "list02 = list(g01)\n",
    "list02"
   ],
   "id": "1aa0a2dc1b5d9df2",
   "outputs": [
    {
     "data": {
      "text/plain": [
       "[2, 34, 12]"
      ]
     },
     "execution_count": 12,
     "metadata": {},
     "output_type": "execute_result"
    }
   ],
   "execution_count": 12
  }
 ],
 "metadata": {
  "kernelspec": {
   "display_name": "Python 3",
   "language": "python",
   "name": "python3"
  },
  "language_info": {
   "codemirror_mode": {
    "name": "ipython",
    "version": 2
   },
   "file_extension": ".py",
   "mimetype": "text/x-python",
   "name": "python",
   "nbconvert_exporter": "python",
   "pygments_lexer": "ipython2",
   "version": "2.7.6"
  }
 },
 "nbformat": 4,
 "nbformat_minor": 5
}
