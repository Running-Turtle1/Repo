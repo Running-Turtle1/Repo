{
 "cells": [
  {
   "metadata": {},
   "cell_type": "markdown",
   "source": [
    "## 匿名函数\n",
    "\n",
    "匿名函数是指没有名称的、临时使用的微函数，用lambda表达式进行声明。\n"
   ],
   "id": "f5698618b0222e2e"
  },
  {
   "metadata": {
    "ExecuteTime": {
     "end_time": "2025-06-30T03:37:15.164610Z",
     "start_time": "2025-06-30T03:37:15.159023Z"
    }
   },
   "cell_type": "code",
   "source": [
    "func = lambda x:f'得到的值为{x}'\n",
    "print(func(1))"
   ],
   "id": "b81b01e8e0852798",
   "outputs": [
    {
     "name": "stdout",
     "output_type": "stream",
     "text": [
      "得到的值为1\n"
     ]
    }
   ],
   "execution_count": 2
  },
  {
   "metadata": {
    "ExecuteTime": {
     "end_time": "2025-06-30T03:38:27.088908Z",
     "start_time": "2025-06-30T03:38:27.083453Z"
    }
   },
   "cell_type": "code",
   "source": [
    "def change_list(alist, condition):\n",
    "    for item in alist:\n",
    "        if condition(item):\n",
    "            yield item\n",
    "\n",
    "list01 = [12, 22, 43, 55, 9, 33]\n",
    "l1 = change_list(list01, lambda item:item % 2 == 0)\n",
    "\n",
    "for item in l1:\n",
    "    print(item)"
   ],
   "id": "2f99bde31a371f33",
   "outputs": [
    {
     "name": "stdout",
     "output_type": "stream",
     "text": [
      "12\n",
      "22\n"
     ]
    }
   ],
   "execution_count": 3
  }
 ],
 "metadata": {
  "kernelspec": {
   "display_name": "Python 3",
   "language": "python",
   "name": "python3"
  },
  "language_info": {
   "codemirror_mode": {
    "name": "ipython",
    "version": 2
   },
   "file_extension": ".py",
   "mimetype": "text/x-python",
   "name": "python",
   "nbconvert_exporter": "python",
   "pygments_lexer": "ipython2",
   "version": "2.7.6"
  }
 },
 "nbformat": 4,
 "nbformat_minor": 5
}
