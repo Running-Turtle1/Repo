{
 "cells": [
  {
   "metadata": {},
   "cell_type": "markdown",
   "source": [
    "## 1. filter 函数\n",
    "\n",
    "filter()函数可以对可迭代对象进行过滤操作\n"
   ],
   "id": "4050448cc559517"
  },
  {
   "metadata": {
    "ExecuteTime": {
     "end_time": "2025-06-30T03:39:25.385229Z",
     "start_time": "2025-06-30T03:39:25.375936Z"
    }
   },
   "cell_type": "code",
   "source": [
    "list01 = [1,2,3,4,5,6]\n",
    "f1 = filter(lambda x:x%2 == 0,list01)\n",
    "for item in f1:\n",
    "    print(item,end=\" \")"
   ],
   "id": "211dc89ec14fc240",
   "outputs": [
    {
     "name": "stdout",
     "output_type": "stream",
     "text": [
      "2 4 6 "
     ]
    }
   ],
   "execution_count": 1
  },
  {
   "metadata": {},
   "cell_type": "markdown",
   "source": [
    "## 2. map\n",
    "\n",
    "map()函数可以接受多个可迭代对象并进行处理，多个迭代对象会同时进行处理，当最短的可迭代对象处理完成后，处理终止。需要注意的是，迭代对象的个数需要与函数的参数保持一致。\n"
   ],
   "id": "65914ef4fb439c60"
  },
  {
   "metadata": {
    "ExecuteTime": {
     "end_time": "2025-06-30T03:40:30.976304Z",
     "start_time": "2025-06-30T03:40:30.968655Z"
    }
   },
   "cell_type": "code",
   "source": [
    "list01 = [1,2,3,4]\n",
    "list02 = [5,6,7]\n",
    "m1 = map(lambda x,y:x**2 + y**2,list01,list02)\n",
    "print(list(m1))"
   ],
   "id": "2595e2702a67ee5a",
   "outputs": [
    {
     "name": "stdout",
     "output_type": "stream",
     "text": [
      "[26, 40, 58]\n"
     ]
    }
   ],
   "execution_count": 3
  }
 ],
 "metadata": {
  "kernelspec": {
   "display_name": "Python 3",
   "language": "python",
   "name": "python3"
  },
  "language_info": {
   "codemirror_mode": {
    "name": "ipython",
    "version": 2
   },
   "file_extension": ".py",
   "mimetype": "text/x-python",
   "name": "python",
   "nbconvert_exporter": "python",
   "pygments_lexer": "ipython2",
   "version": "2.7.6"
  }
 },
 "nbformat": 4,
 "nbformat_minor": 5
}
