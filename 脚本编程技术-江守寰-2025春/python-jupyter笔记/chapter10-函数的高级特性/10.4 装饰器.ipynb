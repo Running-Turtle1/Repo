{
 "cells": [
  {
   "metadata": {},
   "cell_type": "markdown",
   "source": [
    "## 1 闭包\n",
    "返回值是函数的函数属于高阶函数"
   ],
   "id": "cfef78c5c9ecaa2a"
  },
  {
   "metadata": {
    "ExecuteTime": {
     "end_time": "2025-06-30T03:53:04.744223Z",
     "start_time": "2025-06-30T03:53:04.728616Z"
    }
   },
   "cell_type": "code",
   "source": [
    "def func01():\n",
    "    print('func01')\n",
    "\n",
    "def func02():\n",
    "    print('func02')\n",
    "    return func01\n",
    "\n",
    "func = func02()\n",
    "func()"
   ],
   "id": "d4cb419b1e41df31",
   "outputs": [
    {
     "name": "stdout",
     "output_type": "stream",
     "text": [
      "func02\n",
      "func01\n"
     ]
    }
   ],
   "execution_count": 1
  },
  {
   "metadata": {},
   "cell_type": "markdown",
   "source": "将 func01()  定义在 func02() 内部",
   "id": "5dfd841ffceca402"
  },
  {
   "metadata": {
    "ExecuteTime": {
     "end_time": "2025-06-30T03:54:47.862223Z",
     "start_time": "2025-06-30T03:54:47.852453Z"
    }
   },
   "cell_type": "code",
   "source": [
    "def func02():\n",
    "    def func01():\n",
    "        print('func01')\n",
    "    print('func02')\n",
    "    return func01\n",
    "\n",
    "func02()"
   ],
   "id": "c4a0f822d4efbddd",
   "outputs": [
    {
     "name": "stdout",
     "output_type": "stream",
     "text": [
      "func02\n"
     ]
    },
    {
     "data": {
      "text/plain": [
       "<function __main__.func02.<locals>.func01()>"
      ]
     },
     "execution_count": 4,
     "metadata": {},
     "output_type": "execute_result"
    }
   ],
   "execution_count": 4
  },
  {
   "metadata": {
    "ExecuteTime": {
     "end_time": "2025-06-30T03:54:39.533737Z",
     "start_time": "2025-06-30T03:54:39.528166Z"
    }
   },
   "cell_type": "code",
   "source": [
    "def func02():\n",
    "    def func01():\n",
    "        print('func01')\n",
    "    print('func02')\n",
    "    return func01\n",
    "\n",
    "f = func02()\n",
    "f()"
   ],
   "id": "3721abe968ad8284",
   "outputs": [
    {
     "name": "stdout",
     "output_type": "stream",
     "text": [
      "func02\n",
      "func01\n"
     ]
    }
   ],
   "execution_count": 3
  },
  {
   "metadata": {},
   "cell_type": "markdown",
   "source": "内部函数对外部函数进行操作的情况",
   "id": "1c51afd3903e2265"
  },
  {
   "metadata": {
    "ExecuteTime": {
     "end_time": "2025-06-30T03:57:04.068342Z",
     "start_time": "2025-06-30T03:57:04.053733Z"
    }
   },
   "cell_type": "code",
   "source": [
    "def func02(x):\n",
    "    def func01():\n",
    "        return x * 100 + x * 10 + x\n",
    "    return func01\n",
    "\n",
    "func = func02(6)\n",
    "func()"
   ],
   "id": "19f219826d23eb50",
   "outputs": [
    {
     "data": {
      "text/plain": [
       "666"
      ]
     },
     "execution_count": 6,
     "metadata": {},
     "output_type": "execute_result"
    }
   ],
   "execution_count": 6
  },
  {
   "metadata": {},
   "cell_type": "markdown",
   "source": [
    "如果内部函数应用了外部函数的变量（包括其参数），并且外部函数返回内部函数名，这种函数架构成为**闭包**。\n",
    "\n",
    "闭包必须满足：\n",
    "\n",
    "- 内部函数的定义嵌套在外部函数中\n",
    "- 内部函数引用外部函数的变量\n",
    "- 外部函数返回内部函数名"
   ],
   "id": "76cbca0ee5b51c40"
  },
  {
   "metadata": {},
   "cell_type": "markdown",
   "source": [
    "```python\n",
    "def 外部函数名(参数):\n",
    "    外部变量\n",
    "    def 背部函数名(参数):\n",
    "        使用外部变量\n",
    "    return 内部函数名\n",
    "```"
   ],
   "id": "7113b672fb7db21e"
  },
  {
   "metadata": {},
   "cell_type": "markdown",
   "source": [
    "## 2 装饰器\n",
    "\n",
    "Python 装饰器（Decorator）是一个非常强大的语法功能，本质上是一个函数，它可以在不修改原函数代码的前提下，为其添加额外功能。"
   ],
   "id": "cad32d644b475c2d"
  },
  {
   "metadata": {},
   "cell_type": "markdown",
   "source": [
    "装饰器的本质:\n",
    "函数 → 被另一个函数包裹 → 增加额外功能"
   ],
   "id": "6fa7e2bb47fbd7df"
  },
  {
   "metadata": {
    "ExecuteTime": {
     "end_time": "2025-06-30T04:01:51.635570Z",
     "start_time": "2025-06-30T04:01:51.613604Z"
    }
   },
   "cell_type": "code",
   "source": [
    "def say_hello():\n",
    "    print(\"Hello!\")"
   ],
   "id": "8149dd37c26744b1",
   "outputs": [],
   "execution_count": 7
  },
  {
   "metadata": {},
   "cell_type": "markdown",
   "source": "如果你想在执行 say_hello() 之前打印一条日志怎么办？",
   "id": "fec85c2f1dc8634d"
  },
  {
   "metadata": {
    "ExecuteTime": {
     "end_time": "2025-06-30T04:02:38.497402Z",
     "start_time": "2025-06-30T04:02:38.479539Z"
    }
   },
   "cell_type": "code",
   "source": [
    "def log(func):\n",
    "    def wrapper():\n",
    "        print(\"调用函数:\", func.__name__)\n",
    "        func()\n",
    "    return wrapper\n",
    "\n",
    "new_func = log(say_hello)\n",
    "new_func()"
   ],
   "id": "5a7f8722811bb49b",
   "outputs": [
    {
     "name": "stdout",
     "output_type": "stream",
     "text": [
      "调用函数: say_hello\n",
      "Hello!\n"
     ]
    }
   ],
   "execution_count": 8
  },
  {
   "metadata": {},
   "cell_type": "markdown",
   "source": "加上装饰器语法糖（@）",
   "id": "bd5eb4c16ad89542"
  },
  {
   "metadata": {
    "ExecuteTime": {
     "end_time": "2025-06-30T04:02:54.244740Z",
     "start_time": "2025-06-30T04:02:54.236659Z"
    }
   },
   "cell_type": "code",
   "source": [
    "def log(func):\n",
    "    def wrapper():\n",
    "        print(\"调用函数:\", func.__name__)\n",
    "        func()\n",
    "    return wrapper\n",
    "\n",
    "@log\n",
    "def say_hello():\n",
    "    print(\"Hello!\")\n",
    "\n",
    "say_hello()"
   ],
   "id": "655336b48e71a9ef",
   "outputs": [
    {
     "name": "stdout",
     "output_type": "stream",
     "text": [
      "调用函数: say_hello\n",
      "Hello!\n"
     ]
    }
   ],
   "execution_count": 9
  },
  {
   "metadata": {
    "ExecuteTime": {
     "end_time": "2025-06-30T04:04:10.468839Z",
     "start_time": "2025-06-30T04:04:10.450954Z"
    }
   },
   "cell_type": "code",
   "source": [
    "def log(func):\n",
    "    def wrapper(*args, **kwargs):\n",
    "        print(\"调用函数:\", func.__name__)\n",
    "        return func(*args, **kwargs)\n",
    "    return wrapper\n",
    "\n",
    "@log\n",
    "def add(a, b):\n",
    "    return a + b\n",
    "\n",
    "print(add(3, 4))  # 输出 7"
   ],
   "id": "ee64040af79fbf87",
   "outputs": [
    {
     "name": "stdout",
     "output_type": "stream",
     "text": [
      "调用函数: add\n",
      "7\n"
     ]
    }
   ],
   "execution_count": 12
  },
  {
   "metadata": {},
   "cell_type": "markdown",
   "source": [
    "总结：\n",
    "\n",
    "是否加 *args, **kwargs\t适用情况\t推荐做法\n",
    "\n",
    "不加\t只装饰固定参数的函数\t不推荐，太死板\n",
    "\n",
    "加上 *args, **kwargs\t可装饰任意函数\t✅ 推荐写法，通用"
   ],
   "id": "2ba9ac2977209a3f"
  }
 ],
 "metadata": {
  "kernelspec": {
   "display_name": "Python 3",
   "language": "python",
   "name": "python3"
  },
  "language_info": {
   "codemirror_mode": {
    "name": "ipython",
    "version": 2
   },
   "file_extension": ".py",
   "mimetype": "text/x-python",
   "name": "python",
   "nbconvert_exporter": "python",
   "pygments_lexer": "ipython2",
   "version": "2.7.6"
  }
 },
 "nbformat": 4,
 "nbformat_minor": 5
}
