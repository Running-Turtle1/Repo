{
 "cells": [
  {
   "metadata": {},
   "cell_type": "markdown",
   "source": "假设预先定义好了聊天和购物的函数，现在出现了新的需求，用户需要选择用“社交账号”或者“博客账号”登录，且输入的账号密码正确的情况下，才能进行聊天和购物。不改变原先定义的函数，如何才能实现需求呢？\n",
   "id": "fe060b002de6c345"
  },
  {
   "metadata": {
    "ExecuteTime": {
     "end_time": "2025-06-30T04:07:35.559770Z",
     "start_time": "2025-06-30T04:07:35.552374Z"
    }
   },
   "cell_type": "code",
   "source": [
    "def chat():\n",
    "    print(\"聊天\")\n",
    "def shop():\n",
    "    print(\"购物\")"
   ],
   "id": "3a042ef1621f3293",
   "outputs": [],
   "execution_count": 1
  },
  {
   "metadata": {
    "ExecuteTime": {
     "end_time": "2025-06-30T04:08:50.465864Z",
     "start_time": "2025-06-30T04:08:40.828081Z"
    }
   },
   "cell_type": "code",
   "source": [
    "username = \"wpc\"\n",
    "password = \"123\"\n",
    "user_status = False\n",
    "type = input(\"请输入登入方式（社交账号或博客账号）：\")\n",
    "def login(login_type):\n",
    "    def check(func):\n",
    "        def wrapper(*args,**kwargs):\n",
    "            global user_status\n",
    "            if not user_status:\n",
    "                if login_type == \"社交账号\" or login_type == \"博客账号\":\n",
    "                    user = input(\"请输入用户名：\")\n",
    "                    pwd = input(\"请输入密码：\")\n",
    "                    if user == username and pwd == password:\n",
    "                        user_status = True\n",
    "                    else:\n",
    "                        print(\"用户名或者密码错误！\")\n",
    "\n",
    "                else:\n",
    "                    print(\"此登入方式无法使用！\")\n",
    "            if user_status:\n",
    "                return func(*args,**kwargs)\n",
    "        return wrapper\n",
    "    return check\n",
    "\n",
    "@login(type)\n",
    "def chat():\n",
    "    print(\"聊天\")\n",
    "@login(type)\n",
    "def shop():\n",
    "    print(\"购物\")\n",
    "if __name__ == \"__main__\":\n",
    "    chat()\n",
    "    shop()\n"
   ],
   "id": "51a88d4ee53db0e",
   "outputs": [
    {
     "name": "stdout",
     "output_type": "stream",
     "text": [
      "聊天\n",
      "购物\n"
     ]
    }
   ],
   "execution_count": 3
  }
 ],
 "metadata": {
  "kernelspec": {
   "display_name": "Python 3",
   "language": "python",
   "name": "python3"
  },
  "language_info": {
   "codemirror_mode": {
    "name": "ipython",
    "version": 2
   },
   "file_extension": ".py",
   "mimetype": "text/x-python",
   "name": "python",
   "nbconvert_exporter": "python",
   "pygments_lexer": "ipython2",
   "version": "2.7.6"
  }
 },
 "nbformat": 4,
 "nbformat_minor": 5
}
