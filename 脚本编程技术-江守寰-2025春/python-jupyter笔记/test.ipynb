{
 "cells": [
  {
   "metadata": {
    "ExecuteTime": {
     "end_time": "2025-06-30T05:20:20.778285Z",
     "start_time": "2025-06-30T05:20:20.774476Z"
    }
   },
   "cell_type": "code",
   "source": "a = [1, 4, 6, 7, 8, 10, 12, 14, 16, 18, 20, 22, 24, 26, 28, 30, 4]",
   "id": "69e012ddcd32dd71",
   "outputs": [],
   "execution_count": 2
  },
  {
   "cell_type": "code",
   "id": "initial_id",
   "metadata": {
    "collapsed": true,
    "ExecuteTime": {
     "end_time": "2025-06-30T05:20:21.918310Z",
     "start_time": "2025-06-30T05:20:21.912945Z"
    }
   },
   "source": "a.index(4)",
   "outputs": [
    {
     "data": {
      "text/plain": [
       "1"
      ]
     },
     "execution_count": 4,
     "metadata": {},
     "output_type": "execute_result"
    }
   ],
   "execution_count": 4
  },
  {
   "metadata": {},
   "cell_type": "markdown",
   "source": "字典 pop 必须传入一个 key",
   "id": "5bb2566deaa8dbe5"
  },
  {
   "metadata": {
    "ExecuteTime": {
     "end_time": "2025-06-30T05:21:43.582388Z",
     "start_time": "2025-06-30T05:21:43.578407Z"
    }
   },
   "cell_type": "code",
   "source": [
    "a = {'a':1, 'b':2}\n",
    "a.popitem()\n",
    "a"
   ],
   "id": "58eba2ab47315e00",
   "outputs": [
    {
     "data": {
      "text/plain": [
       "{'a': 1}"
      ]
     },
     "execution_count": 6,
     "metadata": {},
     "output_type": "execute_result"
    }
   ],
   "execution_count": 6
  },
  {
   "metadata": {
    "ExecuteTime": {
     "end_time": "2025-06-30T05:21:52.918465Z",
     "start_time": "2025-06-30T05:21:52.910467Z"
    }
   },
   "cell_type": "code",
   "source": [
    "a = {'a':1, 'b':2}\n",
    "a.clear()\n",
    "a"
   ],
   "id": "a503d942f636dd27",
   "outputs": [
    {
     "data": {
      "text/plain": [
       "{}"
      ]
     },
     "execution_count": 8,
     "metadata": {},
     "output_type": "execute_result"
    }
   ],
   "execution_count": 8
  },
  {
   "metadata": {
    "ExecuteTime": {
     "end_time": "2025-06-30T05:22:04.604990Z",
     "start_time": "2025-06-30T05:22:04.596957Z"
    }
   },
   "cell_type": "code",
   "source": [
    "a = {'a':1, 'b':2}\n",
    "del a['b']\n",
    "a"
   ],
   "id": "6ab909f4b05dafc6",
   "outputs": [
    {
     "data": {
      "text/plain": [
       "{'a': 1}"
      ]
     },
     "execution_count": 10,
     "metadata": {},
     "output_type": "execute_result"
    }
   ],
   "execution_count": 10
  },
  {
   "metadata": {
    "ExecuteTime": {
     "end_time": "2025-06-30T05:22:10.117866Z",
     "start_time": "2025-06-30T05:22:10.111130Z"
    }
   },
   "cell_type": "code",
   "source": [
    "a = {'a':1, 'b':2}\n",
    "a.pop('a')\n",
    "a"
   ],
   "id": "f3a27ed79bee066",
   "outputs": [
    {
     "data": {
      "text/plain": [
       "{'b': 2}"
      ]
     },
     "execution_count": 11,
     "metadata": {},
     "output_type": "execute_result"
    }
   ],
   "execution_count": 11
  },
  {
   "metadata": {
    "ExecuteTime": {
     "end_time": "2025-06-30T05:23:23.069354Z",
     "start_time": "2025-06-30T05:23:23.064168Z"
    }
   },
   "cell_type": "code",
   "source": [
    "a = [1, 2, 3, 4, 5, 6, 7]\n",
    "a[-1:-3:-1]"
   ],
   "id": "7d0470068103164d",
   "outputs": [
    {
     "data": {
      "text/plain": [
       "[7, 6]"
      ]
     },
     "execution_count": 17,
     "metadata": {},
     "output_type": "execute_result"
    }
   ],
   "execution_count": 17
  },
  {
   "metadata": {
    "ExecuteTime": {
     "end_time": "2025-06-30T05:23:48.717748Z",
     "start_time": "2025-06-30T05:23:48.712707Z"
    }
   },
   "cell_type": "code",
   "source": [
    "str = \"python\"\n",
    "str[-5:-1:2]"
   ],
   "id": "93865f10e1b81385",
   "outputs": [
    {
     "data": {
      "text/plain": [
       "'yh'"
      ]
     },
     "execution_count": 18,
     "metadata": {},
     "output_type": "execute_result"
    }
   ],
   "execution_count": 18
  }
 ],
 "metadata": {
  "kernelspec": {
   "display_name": "Python 3",
   "language": "python",
   "name": "python3"
  },
  "language_info": {
   "codemirror_mode": {
    "name": "ipython",
    "version": 2
   },
   "file_extension": ".py",
   "mimetype": "text/x-python",
   "name": "python",
   "nbconvert_exporter": "python",
   "pygments_lexer": "ipython2",
   "version": "2.7.6"
  }
 },
 "nbformat": 4,
 "nbformat_minor": 5
}
